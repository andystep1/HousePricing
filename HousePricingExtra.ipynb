{
 "cells": [
  {
   "cell_type": "code",
   "execution_count": 182,
   "id": "7c4b3bd1",
   "metadata": {},
   "outputs": [],
   "source": [
    "import pandas as pd\n",
    "import numpy as np\n",
    "from scipy.stats import norm\n",
    "from scipy import stats\n",
    "\n",
    "#Визуализация\n",
    "import matplotlib.pyplot as plt\n",
    "import seaborn as sns\n",
    "#метрики и модели\n",
    "from sklearn.model_selection import train_test_split\n",
    "from sklearn.preprocessing import StandardScaler, RobustScaler, MinMaxScaler, LabelEncoder, OneHotEncoder\n",
    "from category_encoders import TargetEncoder, CatBoostEncoder\n",
    "from sklearn.linear_model import LinearRegression\n",
    "from sklearn.metrics import mean_squared_log_error\n",
    "from sklearn.ensemble import GradientBoostingRegressor, StackingRegressor\n",
    "from sklearn.model_selection import GridSearchCV\n",
    "from catboost import CatBoostRegressor\n",
    "#clustering\n",
    "from umap import UMAP\n",
    "from sklearn.manifold import TSNE\n",
    "from sklearn.decomposition import PCA\n",
    "from sklearn.metrics import rand_score, jaccard_score, adjusted_mutual_info_score, silhouette_score, mean_squared_error\n",
    "from sklearn.cluster import KMeans, AffinityPropagation, DBSCAN\n",
    "\n",
    "import optuna"
   ]
  },
  {
   "cell_type": "code",
   "execution_count": 183,
   "id": "c2ce3f85",
   "metadata": {},
   "outputs": [],
   "source": [
    "test = pd.read_csv('/Users/andrei/repos/HousePricing/Data/test.csv')\n",
    "train = pd.read_csv('/Users/andrei/repos/HousePricing/Data/train.csv')"
   ]
  },
  {
   "cell_type": "code",
   "execution_count": 184,
   "id": "4aa14fae",
   "metadata": {},
   "outputs": [
    {
     "name": "stdout",
     "output_type": "stream",
     "text": [
      "(2919, 80)\n"
     ]
    }
   ],
   "source": [
    "train['SalePrice'] = np.log1p(train['SalePrice'])\n",
    "target = train['SalePrice'].reset_index(drop=True)\n",
    "train_features = train.drop(['SalePrice'], axis=1)\n",
    "test_features = test\n",
    "\n",
    "fdf = pd.concat([train_features, test_features]).reset_index(drop=True)\n",
    "print(fdf.shape)"
   ]
  },
  {
   "cell_type": "code",
   "execution_count": 185,
   "id": "76cad2d2",
   "metadata": {},
   "outputs": [],
   "source": [
    "#Избавляемся от нулевых значений\n",
    "nonelist = ('PoolQC', 'MiscFeature', 'Alley', 'Fence', 'FireplaceQu', 'GarageType', 'GarageFinish', 'GarageQual', 'GarageCond', 'BsmtQual', 'BsmtCond', 'BsmtExposure', 'BsmtFinType1', 'BsmtFinType2', 'MasVnrType')\n",
    "\n",
    "zerolist = ('GarageYrBlt', 'GarageArea', 'GarageCars', 'BsmtFinSF1', 'BsmtFinSF2', 'BsmtUnfSF', 'TotalBsmtSF', 'BsmtHalfBath', 'BsmtFullBath', 'MasVnrArea')\n",
    "\n",
    "for col in nonelist:\n",
    "    fdf[col].fillna('None', inplace=True)\n",
    "    \n",
    "for col in zerolist:\n",
    "    fdf[col].fillna(0, inplace=True)\n",
    "    \n",
    "fdf[\"LotFrontage\"] = fdf.groupby(\"Neighborhood\")[\"LotFrontage\"].transform(\n",
    "    lambda x: x.fillna(x.median()))\n",
    "\n",
    "fdf['MSZoning'].fillna('RL', inplace=True)\n",
    "fdf['Functional'].fillna('Typ', inplace=True)\n",
    "fdf['Electrical'].fillna('SBrkr', inplace=True)\n",
    "fdf['KitchenQual'].fillna('TA', inplace=True)\n",
    "fdf['Exterior1st'].fillna('TA', inplace=True)\n",
    "fdf['Exterior2nd'].fillna('TA', inplace=True)\n",
    "fdf['SaleType'].fillna('WD', inplace=True)\n",
    "fdf['Utilities'].fillna('AllPub', inplace=True)"
   ]
  },
  {
   "cell_type": "code",
   "execution_count": 186,
   "id": "5ba0e900",
   "metadata": {},
   "outputs": [],
   "source": [
    "fdf['TotalSF']=fdf['TotalBsmtSF'] + fdf['1stFlrSF'] + fdf['2ndFlrSF']\n",
    "\n",
    "fdf['Total_Bathrooms'] = (fdf['FullBath'] + (0.5 * fdf['HalfBath']) +\n",
    "                               fdf['BsmtFullBath'] + (0.5 * fdf['BsmtHalfBath']))\n",
    "\n",
    "fdf['Total_porch_sf'] = (fdf['OpenPorchSF'] + fdf['3SsnPorch'] +\n",
    "                              fdf['EnclosedPorch'] + fdf['ScreenPorch'] +\n",
    "                              fdf['WoodDeckSF'])\n",
    "\n",
    "fdf['haspool'] = fdf['PoolArea'].apply(lambda x: 1 if x > 0 else 0).apply(str)\n",
    "fdf['has2ndfloor'] = fdf['2ndFlrSF'].apply(lambda x: 1 if x > 0 else 0).apply(str)\n",
    "fdf['hasgarage'] = fdf['GarageArea'].apply(lambda x: 1 if x > 0 else 0).apply(str)\n",
    "fdf['hasbsmt'] = fdf['TotalBsmtSF'].apply(lambda x: 1 if x > 0 else 0).apply(str)\n",
    "fdf['hasfireplace'] = fdf['Fireplaces'].apply(lambda x: 1 if x > 0 else 0).apply(str)"
   ]
  },
  {
   "cell_type": "code",
   "execution_count": 187,
   "id": "7042cb6b",
   "metadata": {},
   "outputs": [],
   "source": [
    "fdf['MSSubClass'] = fdf['MSSubClass'].apply(str)\n",
    "fdf['YrSold'] = fdf['YrSold'].astype(str)\n",
    "fdf['MoSold'] = fdf['MoSold'].astype(str)\n",
    "fdf['OverallCond'] = fdf['OverallCond'].astype(str)"
   ]
  },
  {
   "cell_type": "code",
   "execution_count": 188,
   "id": "74b06e0a",
   "metadata": {},
   "outputs": [
    {
     "data": {
      "text/html": [
       "<div>\n",
       "<style scoped>\n",
       "    .dataframe tbody tr th:only-of-type {\n",
       "        vertical-align: middle;\n",
       "    }\n",
       "\n",
       "    .dataframe tbody tr th {\n",
       "        vertical-align: top;\n",
       "    }\n",
       "\n",
       "    .dataframe thead th {\n",
       "        text-align: right;\n",
       "    }\n",
       "</style>\n",
       "<table border=\"1\" class=\"dataframe\">\n",
       "  <thead>\n",
       "    <tr style=\"text-align: right;\">\n",
       "      <th></th>\n",
       "      <th>Id</th>\n",
       "      <th>MSSubClass</th>\n",
       "      <th>MSZoning</th>\n",
       "      <th>LotFrontage</th>\n",
       "      <th>LotArea</th>\n",
       "      <th>Street</th>\n",
       "      <th>Alley</th>\n",
       "      <th>LotShape</th>\n",
       "      <th>LandContour</th>\n",
       "      <th>Utilities</th>\n",
       "      <th>...</th>\n",
       "      <th>SaleCondition</th>\n",
       "      <th>TotalSF</th>\n",
       "      <th>Total_Bathrooms</th>\n",
       "      <th>Total_porch_sf</th>\n",
       "      <th>haspool</th>\n",
       "      <th>has2ndfloor</th>\n",
       "      <th>hasgarage</th>\n",
       "      <th>hasbsmt</th>\n",
       "      <th>hasfireplace</th>\n",
       "      <th>Cluster</th>\n",
       "    </tr>\n",
       "  </thead>\n",
       "  <tbody>\n",
       "    <tr>\n",
       "      <th>0</th>\n",
       "      <td>1</td>\n",
       "      <td>60</td>\n",
       "      <td>RL</td>\n",
       "      <td>65.0</td>\n",
       "      <td>8450</td>\n",
       "      <td>Pave</td>\n",
       "      <td>None</td>\n",
       "      <td>Reg</td>\n",
       "      <td>Lvl</td>\n",
       "      <td>AllPub</td>\n",
       "      <td>...</td>\n",
       "      <td>Normal</td>\n",
       "      <td>2566.0</td>\n",
       "      <td>3.5</td>\n",
       "      <td>61</td>\n",
       "      <td>0</td>\n",
       "      <td>1</td>\n",
       "      <td>1</td>\n",
       "      <td>1</td>\n",
       "      <td>0</td>\n",
       "      <td>0</td>\n",
       "    </tr>\n",
       "    <tr>\n",
       "      <th>1</th>\n",
       "      <td>2</td>\n",
       "      <td>20</td>\n",
       "      <td>RL</td>\n",
       "      <td>80.0</td>\n",
       "      <td>9600</td>\n",
       "      <td>Pave</td>\n",
       "      <td>None</td>\n",
       "      <td>Reg</td>\n",
       "      <td>Lvl</td>\n",
       "      <td>AllPub</td>\n",
       "      <td>...</td>\n",
       "      <td>Normal</td>\n",
       "      <td>2524.0</td>\n",
       "      <td>2.5</td>\n",
       "      <td>298</td>\n",
       "      <td>0</td>\n",
       "      <td>0</td>\n",
       "      <td>1</td>\n",
       "      <td>1</td>\n",
       "      <td>1</td>\n",
       "      <td>0</td>\n",
       "    </tr>\n",
       "    <tr>\n",
       "      <th>2</th>\n",
       "      <td>3</td>\n",
       "      <td>60</td>\n",
       "      <td>RL</td>\n",
       "      <td>68.0</td>\n",
       "      <td>11250</td>\n",
       "      <td>Pave</td>\n",
       "      <td>None</td>\n",
       "      <td>IR1</td>\n",
       "      <td>Lvl</td>\n",
       "      <td>AllPub</td>\n",
       "      <td>...</td>\n",
       "      <td>Normal</td>\n",
       "      <td>2706.0</td>\n",
       "      <td>3.5</td>\n",
       "      <td>42</td>\n",
       "      <td>0</td>\n",
       "      <td>1</td>\n",
       "      <td>1</td>\n",
       "      <td>1</td>\n",
       "      <td>1</td>\n",
       "      <td>0</td>\n",
       "    </tr>\n",
       "    <tr>\n",
       "      <th>3</th>\n",
       "      <td>4</td>\n",
       "      <td>70</td>\n",
       "      <td>RL</td>\n",
       "      <td>60.0</td>\n",
       "      <td>9550</td>\n",
       "      <td>Pave</td>\n",
       "      <td>None</td>\n",
       "      <td>IR1</td>\n",
       "      <td>Lvl</td>\n",
       "      <td>AllPub</td>\n",
       "      <td>...</td>\n",
       "      <td>Abnorml</td>\n",
       "      <td>2473.0</td>\n",
       "      <td>2.0</td>\n",
       "      <td>307</td>\n",
       "      <td>0</td>\n",
       "      <td>1</td>\n",
       "      <td>1</td>\n",
       "      <td>1</td>\n",
       "      <td>1</td>\n",
       "      <td>0</td>\n",
       "    </tr>\n",
       "    <tr>\n",
       "      <th>4</th>\n",
       "      <td>5</td>\n",
       "      <td>60</td>\n",
       "      <td>RL</td>\n",
       "      <td>84.0</td>\n",
       "      <td>14260</td>\n",
       "      <td>Pave</td>\n",
       "      <td>None</td>\n",
       "      <td>IR1</td>\n",
       "      <td>Lvl</td>\n",
       "      <td>AllPub</td>\n",
       "      <td>...</td>\n",
       "      <td>Normal</td>\n",
       "      <td>3343.0</td>\n",
       "      <td>3.5</td>\n",
       "      <td>276</td>\n",
       "      <td>0</td>\n",
       "      <td>1</td>\n",
       "      <td>1</td>\n",
       "      <td>1</td>\n",
       "      <td>1</td>\n",
       "      <td>1</td>\n",
       "    </tr>\n",
       "    <tr>\n",
       "      <th>...</th>\n",
       "      <td>...</td>\n",
       "      <td>...</td>\n",
       "      <td>...</td>\n",
       "      <td>...</td>\n",
       "      <td>...</td>\n",
       "      <td>...</td>\n",
       "      <td>...</td>\n",
       "      <td>...</td>\n",
       "      <td>...</td>\n",
       "      <td>...</td>\n",
       "      <td>...</td>\n",
       "      <td>...</td>\n",
       "      <td>...</td>\n",
       "      <td>...</td>\n",
       "      <td>...</td>\n",
       "      <td>...</td>\n",
       "      <td>...</td>\n",
       "      <td>...</td>\n",
       "      <td>...</td>\n",
       "      <td>...</td>\n",
       "      <td>...</td>\n",
       "    </tr>\n",
       "    <tr>\n",
       "      <th>2914</th>\n",
       "      <td>2915</td>\n",
       "      <td>160</td>\n",
       "      <td>RM</td>\n",
       "      <td>21.0</td>\n",
       "      <td>1936</td>\n",
       "      <td>Pave</td>\n",
       "      <td>None</td>\n",
       "      <td>Reg</td>\n",
       "      <td>Lvl</td>\n",
       "      <td>AllPub</td>\n",
       "      <td>...</td>\n",
       "      <td>Normal</td>\n",
       "      <td>1638.0</td>\n",
       "      <td>1.5</td>\n",
       "      <td>0</td>\n",
       "      <td>0</td>\n",
       "      <td>1</td>\n",
       "      <td>0</td>\n",
       "      <td>1</td>\n",
       "      <td>0</td>\n",
       "      <td>2</td>\n",
       "    </tr>\n",
       "    <tr>\n",
       "      <th>2915</th>\n",
       "      <td>2916</td>\n",
       "      <td>160</td>\n",
       "      <td>RM</td>\n",
       "      <td>21.0</td>\n",
       "      <td>1894</td>\n",
       "      <td>Pave</td>\n",
       "      <td>None</td>\n",
       "      <td>Reg</td>\n",
       "      <td>Lvl</td>\n",
       "      <td>AllPub</td>\n",
       "      <td>...</td>\n",
       "      <td>Abnorml</td>\n",
       "      <td>1638.0</td>\n",
       "      <td>1.5</td>\n",
       "      <td>24</td>\n",
       "      <td>0</td>\n",
       "      <td>1</td>\n",
       "      <td>1</td>\n",
       "      <td>1</td>\n",
       "      <td>0</td>\n",
       "      <td>2</td>\n",
       "    </tr>\n",
       "    <tr>\n",
       "      <th>2916</th>\n",
       "      <td>2917</td>\n",
       "      <td>20</td>\n",
       "      <td>RL</td>\n",
       "      <td>160.0</td>\n",
       "      <td>20000</td>\n",
       "      <td>Pave</td>\n",
       "      <td>None</td>\n",
       "      <td>Reg</td>\n",
       "      <td>Lvl</td>\n",
       "      <td>AllPub</td>\n",
       "      <td>...</td>\n",
       "      <td>Abnorml</td>\n",
       "      <td>2448.0</td>\n",
       "      <td>2.0</td>\n",
       "      <td>474</td>\n",
       "      <td>0</td>\n",
       "      <td>0</td>\n",
       "      <td>1</td>\n",
       "      <td>1</td>\n",
       "      <td>1</td>\n",
       "      <td>0</td>\n",
       "    </tr>\n",
       "    <tr>\n",
       "      <th>2917</th>\n",
       "      <td>2918</td>\n",
       "      <td>85</td>\n",
       "      <td>RL</td>\n",
       "      <td>62.0</td>\n",
       "      <td>10441</td>\n",
       "      <td>Pave</td>\n",
       "      <td>None</td>\n",
       "      <td>Reg</td>\n",
       "      <td>Lvl</td>\n",
       "      <td>AllPub</td>\n",
       "      <td>...</td>\n",
       "      <td>Normal</td>\n",
       "      <td>1882.0</td>\n",
       "      <td>1.5</td>\n",
       "      <td>112</td>\n",
       "      <td>0</td>\n",
       "      <td>0</td>\n",
       "      <td>0</td>\n",
       "      <td>1</td>\n",
       "      <td>0</td>\n",
       "      <td>2</td>\n",
       "    </tr>\n",
       "    <tr>\n",
       "      <th>2918</th>\n",
       "      <td>2919</td>\n",
       "      <td>60</td>\n",
       "      <td>RL</td>\n",
       "      <td>74.0</td>\n",
       "      <td>9627</td>\n",
       "      <td>Pave</td>\n",
       "      <td>None</td>\n",
       "      <td>Reg</td>\n",
       "      <td>Lvl</td>\n",
       "      <td>AllPub</td>\n",
       "      <td>...</td>\n",
       "      <td>Normal</td>\n",
       "      <td>2996.0</td>\n",
       "      <td>2.5</td>\n",
       "      <td>238</td>\n",
       "      <td>0</td>\n",
       "      <td>1</td>\n",
       "      <td>1</td>\n",
       "      <td>1</td>\n",
       "      <td>1</td>\n",
       "      <td>0</td>\n",
       "    </tr>\n",
       "  </tbody>\n",
       "</table>\n",
       "<p>2919 rows × 89 columns</p>\n",
       "</div>"
      ],
      "text/plain": [
       "        Id MSSubClass MSZoning  LotFrontage  LotArea Street Alley LotShape  \\\n",
       "0        1         60       RL         65.0     8450   Pave  None      Reg   \n",
       "1        2         20       RL         80.0     9600   Pave  None      Reg   \n",
       "2        3         60       RL         68.0    11250   Pave  None      IR1   \n",
       "3        4         70       RL         60.0     9550   Pave  None      IR1   \n",
       "4        5         60       RL         84.0    14260   Pave  None      IR1   \n",
       "...    ...        ...      ...          ...      ...    ...   ...      ...   \n",
       "2914  2915        160       RM         21.0     1936   Pave  None      Reg   \n",
       "2915  2916        160       RM         21.0     1894   Pave  None      Reg   \n",
       "2916  2917         20       RL        160.0    20000   Pave  None      Reg   \n",
       "2917  2918         85       RL         62.0    10441   Pave  None      Reg   \n",
       "2918  2919         60       RL         74.0     9627   Pave  None      Reg   \n",
       "\n",
       "     LandContour Utilities  ... SaleCondition TotalSF Total_Bathrooms  \\\n",
       "0            Lvl    AllPub  ...        Normal  2566.0             3.5   \n",
       "1            Lvl    AllPub  ...        Normal  2524.0             2.5   \n",
       "2            Lvl    AllPub  ...        Normal  2706.0             3.5   \n",
       "3            Lvl    AllPub  ...       Abnorml  2473.0             2.0   \n",
       "4            Lvl    AllPub  ...        Normal  3343.0             3.5   \n",
       "...          ...       ...  ...           ...     ...             ...   \n",
       "2914         Lvl    AllPub  ...        Normal  1638.0             1.5   \n",
       "2915         Lvl    AllPub  ...       Abnorml  1638.0             1.5   \n",
       "2916         Lvl    AllPub  ...       Abnorml  2448.0             2.0   \n",
       "2917         Lvl    AllPub  ...        Normal  1882.0             1.5   \n",
       "2918         Lvl    AllPub  ...        Normal  2996.0             2.5   \n",
       "\n",
       "     Total_porch_sf haspool has2ndfloor hasgarage  hasbsmt hasfireplace  \\\n",
       "0                61       0           1         1        1            0   \n",
       "1               298       0           0         1        1            1   \n",
       "2                42       0           1         1        1            1   \n",
       "3               307       0           1         1        1            1   \n",
       "4               276       0           1         1        1            1   \n",
       "...             ...     ...         ...       ...      ...          ...   \n",
       "2914              0       0           1         0        1            0   \n",
       "2915             24       0           1         1        1            0   \n",
       "2916            474       0           0         1        1            1   \n",
       "2917            112       0           0         0        1            0   \n",
       "2918            238       0           1         1        1            1   \n",
       "\n",
       "      Cluster  \n",
       "0           0  \n",
       "1           0  \n",
       "2           0  \n",
       "3           0  \n",
       "4           1  \n",
       "...       ...  \n",
       "2914        2  \n",
       "2915        2  \n",
       "2916        0  \n",
       "2917        2  \n",
       "2918        0  \n",
       "\n",
       "[2919 rows x 89 columns]"
      ]
     },
     "execution_count": 188,
     "metadata": {},
     "output_type": "execute_result"
    }
   ],
   "source": [
    "cfdf = pd.concat([fdf[:1460], target], axis = 1)\n",
    "corrmat = cfdf.corr()\n",
    "corfeat = corrmat['SalePrice'][abs(corrmat['SalePrice']) >= 0.6].sort_values(ascending=False)\n",
    "clist = corfeat.index.tolist()\n",
    "clist.remove('SalePrice')\n",
    "cldf = pd.DataFrame(fdf[clist])\n",
    "scaler = StandardScaler()\n",
    "scaledX = scaler.fit_transform(cldf)\n",
    "cluster = KMeans(3, random_state=10)\n",
    "cluster_labels = cluster.fit_predict(scaledX)\n",
    "fdf['Cluster'] = cluster_labels\n",
    "fdf"
   ]
  },
  {
   "cell_type": "code",
   "execution_count": 189,
   "id": "f6bc4bc4",
   "metadata": {},
   "outputs": [],
   "source": [
    "clabels = ['MSSubClass','MSZoning','Street','Alley','LotShape','LandContour','Utilities','LotConfig','LandSlope' \\\n",
    ",'Neighborhood','Condition1','Condition2','BldgType','HouseStyle','RoofStyle','RoofMatl' \\\n",
    ",'Exterior1st','Exterior2nd','MasVnrType','ExterQual','ExterCond','Foundation','BsmtQual' \\\n",
    ",'BsmtCond','BsmtExposure','BsmtFinType1','BsmtFinType2','Heating','HeatingQC','CentralAir' \\\n",
    ",'Electrical','KitchenQual','Functional','FireplaceQu','GarageType','GarageFinish','GarageQual' \\\n",
    ",'GarageCond','PavedDrive','PoolQC','Fence','MiscFeature','SaleType','SaleCondition']"
   ]
  },
  {
   "cell_type": "code",
   "execution_count": 190,
   "id": "96cfa237",
   "metadata": {},
   "outputs": [],
   "source": [
    "encoder = CatBoostEncoder()\n",
    "enc_df = encoder.fit_transform(fdf[:1460], target)\n",
    "\n",
    "\n",
    "test_encoded = encoder.transform(fdf[1460:])"
   ]
  },
  {
   "cell_type": "code",
   "execution_count": 191,
   "id": "7c8299eb",
   "metadata": {},
   "outputs": [],
   "source": [
    "scaler = StandardScaler()\n",
    "scaledX = scaler.fit_transform(enc_df)\n",
    "scaledtest = scaler.transform(test_encoded)\n",
    "\n",
    "#xtrain, xvalid, ytrain, yvalid = train_test_split(scaledX, target, test_size = 0.25)"
   ]
  },
  {
   "cell_type": "code",
   "execution_count": 192,
   "id": "d24a2215",
   "metadata": {},
   "outputs": [],
   "source": [
    "xtrain, xeval, ytrain, yeval = train_test_split(scaledX, target, test_size=0.25, random_state=RANDOM_SEED)"
   ]
  },
  {
   "cell_type": "code",
   "execution_count": 193,
   "id": "ef19f120",
   "metadata": {},
   "outputs": [],
   "source": [
    "SAMPLE_RATE = 0.4\n",
    "RANDOM_SEED = 666\n",
    "EARLY_STOPPING_ROUND = 100"
   ]
  },
  {
   "cell_type": "code",
   "execution_count": 194,
   "id": "7965f1fb",
   "metadata": {},
   "outputs": [],
   "source": [
    "def objective(trial):\n",
    "    param = {}\n",
    "    param['learning_rate'] = trial.suggest_discrete_uniform(\"learning_rate\", 0.03, 0.08, 0.005)\n",
    "    param['depth'] = trial.suggest_int('depth', 2, 5)\n",
    "    #param['l2_leaf_reg'] = trial.suggest_discrete_uniform('l2_leaf_reg', 2.0, 5.0, 0.5)\n",
    "    #param['min_child_samples'] = trial.suggest_categorical('min_child_samples', [1, 4, 8, 16, 32])\n",
    "    param['grow_policy'] = 'Depthwise'\n",
    "    param['iterations'] = trial.suggest_int('iterations', 1800, 2200)\n",
    "    param['use_best_model'] = True\n",
    "    param['eval_metric'] = 'MSLE'\n",
    "    param['od_type'] = 'iter'\n",
    "    param['od_wait'] = 20\n",
    "    param['random_state'] = RANDOM_SEED\n",
    "    param['logging_level'] = 'Silent'\n",
    "    \n",
    "    regressor = CatBoostRegressor(**param)\n",
    "\n",
    "    regressor.fit(xtrain.copy(), ytrain.copy(),\n",
    "                  eval_set=[(xeval.copy(), yeval.copy())],\n",
    "                  early_stopping_rounds=EARLY_STOPPING_ROUND)\n",
    "    loss = mean_squared_error(yvalid, regressor.predict(xvalid.copy()))\n",
    "    return loss"
   ]
  },
  {
   "cell_type": "code",
   "execution_count": 195,
   "id": "f82ec5d0",
   "metadata": {
    "scrolled": true
   },
   "outputs": [
    {
     "name": "stderr",
     "output_type": "stream",
     "text": [
      "\u001b[32m[I 2022-01-28 11:29:53,241]\u001b[0m A new study created in memory with name: catboost-seed666\u001b[0m\n",
      "/Users/andrei/opt/anaconda3/lib/python3.9/site-packages/optuna/study/study.py:393: FutureWarning:\n",
      "\n",
      "`n_jobs` argument has been deprecated in v2.7.0. This feature will be removed in v4.0.0. See https://github.com/optuna/optuna/releases/tag/v2.7.0.\n",
      "\n",
      "Custom logger is already specified. Specify more than one logger at same time is not thread safe.Custom logger is already specified. Specify more than one logger at same time is not thread safe.Custom logger is already specified. Specify more than one logger at same time is not thread safe.\u001b[32m[I 2022-01-28 11:30:00,871]\u001b[0m Trial 2 finished with value: 0.011667667959739399 and parameters: {'learning_rate': 0.03, 'depth': 2, 'iterations': 2047}. Best is trial 2 with value: 0.011667667959739399.\u001b[0m\n",
      "\u001b[32m[I 2022-01-28 11:30:02,952]\u001b[0m Trial 3 finished with value: 0.01029607415315263 and parameters: {'learning_rate': 0.04, 'depth': 3, 'iterations': 1925}. Best is trial 3 with value: 0.01029607415315263.\u001b[0m\n",
      "\u001b[32m[I 2022-01-28 11:30:11,352]\u001b[0m Trial 5 finished with value: 0.010199846102289349 and parameters: {'learning_rate': 0.065, 'depth': 3, 'iterations': 2016}. Best is trial 5 with value: 0.010199846102289349.\u001b[0m\n",
      "\u001b[32m[I 2022-01-28 11:30:14,755]\u001b[0m Trial 6 finished with value: 0.01123723387541156 and parameters: {'learning_rate': 0.08, 'depth': 2, 'iterations': 1966}. Best is trial 5 with value: 0.010199846102289349.\u001b[0m\n",
      "\u001b[32m[I 2022-01-28 11:30:15,211]\u001b[0m Trial 1 finished with value: 0.008933869149396893 and parameters: {'learning_rate': 0.08, 'depth': 5, 'iterations': 2116}. Best is trial 1 with value: 0.008933869149396893.\u001b[0m\n",
      "\u001b[32m[I 2022-01-28 11:30:28,304]\u001b[0m Trial 7 finished with value: 0.009752155633544498 and parameters: {'learning_rate': 0.065, 'depth': 5, 'iterations': 1925}. Best is trial 1 with value: 0.008933869149396893.\u001b[0m\n",
      "\u001b[32m[I 2022-01-28 11:30:37,077]\u001b[0m Trial 8 finished with value: 0.008933869149396893 and parameters: {'learning_rate': 0.08, 'depth': 5, 'iterations': 2172}. Best is trial 1 with value: 0.008933869149396893.\u001b[0m\n",
      "\u001b[32m[I 2022-01-28 11:30:40,616]\u001b[0m Trial 4 finished with value: 0.00905781784045752 and parameters: {'learning_rate': 0.05, 'depth': 5, 'iterations': 1887}. Best is trial 1 with value: 0.008933869149396893.\u001b[0m\n",
      "\u001b[32m[I 2022-01-28 11:30:45,608]\u001b[0m Trial 0 finished with value: 0.008933577254464163 and parameters: {'learning_rate': 0.03, 'depth': 5, 'iterations': 2079}. Best is trial 0 with value: 0.008933577254464163.\u001b[0m\n",
      "\u001b[32m[I 2022-01-28 11:30:49,573]\u001b[0m Trial 11 finished with value: 0.010446719846401853 and parameters: {'learning_rate': 0.08, 'depth': 4, 'iterations': 1973}. Best is trial 0 with value: 0.008933577254464163.\u001b[0m\n",
      "\u001b[32m[I 2022-01-28 11:30:50,654]\u001b[0m Trial 10 finished with value: 0.00914901786650638 and parameters: {'learning_rate': 0.06, 'depth': 4, 'iterations': 2046}. Best is trial 0 with value: 0.008933577254464163.\u001b[0m\n",
      "\u001b[32m[I 2022-01-28 11:30:55,298]\u001b[0m Trial 12 finished with value: 0.009760725829984664 and parameters: {'learning_rate': 0.07, 'depth': 3, 'iterations': 1804}. Best is trial 0 with value: 0.008933577254464163.\u001b[0m\n",
      "\u001b[32m[I 2022-01-28 11:31:15,947]\u001b[0m Trial 15 finished with value: 0.008762220806961025 and parameters: {'learning_rate': 0.05, 'depth': 4, 'iterations': 2143}. Best is trial 15 with value: 0.008762220806961025.\u001b[0m\n",
      "\u001b[32m[I 2022-01-28 11:31:20,186]\u001b[0m Trial 9 finished with value: 0.008933577254464163 and parameters: {'learning_rate': 0.03, 'depth': 5, 'iterations': 1974}. Best is trial 15 with value: 0.008762220806961025.\u001b[0m\n",
      "\u001b[32m[I 2022-01-28 11:31:23,999]\u001b[0m Trial 13 finished with value: 0.00883683084136634 and parameters: {'learning_rate': 0.03, 'depth': 4, 'iterations': 1838}. Best is trial 15 with value: 0.008762220806961025.\u001b[0m\n",
      "\u001b[32m[I 2022-01-28 11:31:25,335]\u001b[0m Trial 14 finished with value: 0.00883683084136634 and parameters: {'learning_rate': 0.03, 'depth': 4, 'iterations': 2142}. Best is trial 15 with value: 0.008762220806961025.\u001b[0m\n",
      "\u001b[32m[I 2022-01-28 11:31:28,787]\u001b[0m Trial 17 finished with value: 0.010433011736148846 and parameters: {'learning_rate': 0.045, 'depth': 4, 'iterations': 2120}. Best is trial 15 with value: 0.008762220806961025.\u001b[0m\n",
      "\u001b[32m[I 2022-01-28 11:31:32,337]\u001b[0m Trial 18 finished with value: 0.010433011736148846 and parameters: {'learning_rate': 0.045, 'depth': 4, 'iterations': 1817}. Best is trial 15 with value: 0.008762220806961025.\u001b[0m\n",
      "\u001b[32m[I 2022-01-28 11:31:33,774]\u001b[0m Trial 19 finished with value: 0.010433011736148846 and parameters: {'learning_rate': 0.045, 'depth': 4, 'iterations': 1829}. Best is trial 15 with value: 0.008762220806961025.\u001b[0m\n",
      "\u001b[32m[I 2022-01-28 11:31:41,888]\u001b[0m Trial 21 finished with value: 0.01029607415315263 and parameters: {'learning_rate': 0.04, 'depth': 3, 'iterations': 2197}. Best is trial 15 with value: 0.008762220806961025.\u001b[0m\n",
      "\u001b[32m[I 2022-01-28 11:31:46,896]\u001b[0m Trial 22 finished with value: 0.009000874429529158 and parameters: {'learning_rate': 0.055, 'depth': 3, 'iterations': 2182}. Best is trial 15 with value: 0.008762220806961025.\u001b[0m\n",
      "\u001b[32m[I 2022-01-28 11:31:50,228]\u001b[0m Trial 16 finished with value: 0.00883683084136634 and parameters: {'learning_rate': 0.03, 'depth': 4, 'iterations': 2194}. Best is trial 15 with value: 0.008762220806961025.\u001b[0m\n",
      "\u001b[32m[I 2022-01-28 11:31:50,542]\u001b[0m Trial 20 finished with value: 0.009079398742033298 and parameters: {'learning_rate': 0.04, 'depth': 4, 'iterations': 2181}. Best is trial 15 with value: 0.008762220806961025.\u001b[0m\n",
      "\u001b[32m[I 2022-01-28 11:31:55,236]\u001b[0m Trial 23 finished with value: 0.009000874429529158 and parameters: {'learning_rate': 0.055, 'depth': 3, 'iterations': 2150}. Best is trial 15 with value: 0.008762220806961025.\u001b[0m\n",
      "\u001b[32m[I 2022-01-28 11:32:08,106]\u001b[0m Trial 24 finished with value: 0.009116674587049888 and parameters: {'learning_rate': 0.034999999999999996, 'depth': 4, 'iterations': 2128}. Best is trial 15 with value: 0.008762220806961025.\u001b[0m\n",
      "\u001b[32m[I 2022-01-28 11:32:11,625]\u001b[0m Trial 25 finished with value: 0.009116674587049888 and parameters: {'learning_rate': 0.034999999999999996, 'depth': 4, 'iterations': 2132}. Best is trial 15 with value: 0.008762220806961025.\u001b[0m\n",
      "\u001b[32m[I 2022-01-28 11:32:12,195]\u001b[0m Trial 26 finished with value: 0.009116674587049888 and parameters: {'learning_rate': 0.034999999999999996, 'depth': 4, 'iterations': 2137}. Best is trial 15 with value: 0.008762220806961025.\u001b[0m\n",
      "\u001b[32m[I 2022-01-28 11:32:17,206]\u001b[0m Trial 27 finished with value: 0.009116674587049888 and parameters: {'learning_rate': 0.034999999999999996, 'depth': 4, 'iterations': 2131}. Best is trial 15 with value: 0.008762220806961025.\u001b[0m\n",
      "\u001b[32m[I 2022-01-28 11:32:30,665]\u001b[0m Trial 28 finished with value: 0.009116674587049888 and parameters: {'learning_rate': 0.034999999999999996, 'depth': 4, 'iterations': 2086}. Best is trial 15 with value: 0.008762220806961025.\u001b[0m\n",
      "\u001b[32m[I 2022-01-28 11:32:31,878]\u001b[0m Trial 31 finished with value: 0.009413679675506699 and parameters: {'learning_rate': 0.05, 'depth': 3, 'iterations': 2088}. Best is trial 15 with value: 0.008762220806961025.\u001b[0m\n",
      "\u001b[32m[I 2022-01-28 11:32:33,707]\u001b[0m Trial 30 finished with value: 0.008762220806961025 and parameters: {'learning_rate': 0.05, 'depth': 4, 'iterations': 2090}. Best is trial 15 with value: 0.008762220806961025.\u001b[0m\n",
      "\u001b[32m[I 2022-01-28 11:32:35,045]\u001b[0m Trial 29 finished with value: 0.009116674587049888 and parameters: {'learning_rate': 0.034999999999999996, 'depth': 4, 'iterations': 2088}. Best is trial 15 with value: 0.008762220806961025.\u001b[0m\n",
      "\u001b[32m[I 2022-01-28 11:33:12,081]\u001b[0m Trial 32 finished with value: 0.00905781784045752 and parameters: {'learning_rate': 0.05, 'depth': 5, 'iterations': 2084}. Best is trial 15 with value: 0.008762220806961025.\u001b[0m\n",
      "\u001b[32m[I 2022-01-28 11:33:12,954]\u001b[0m Trial 33 finished with value: 0.00905781784045752 and parameters: {'learning_rate': 0.05, 'depth': 5, 'iterations': 2164}. Best is trial 15 with value: 0.008762220806961025.\u001b[0m\n",
      "\u001b[32m[I 2022-01-28 11:33:14,493]\u001b[0m Trial 34 finished with value: 0.00905781784045752 and parameters: {'learning_rate': 0.05, 'depth': 5, 'iterations': 2158}. Best is trial 15 with value: 0.008762220806961025.\u001b[0m\n"
     ]
    },
    {
     "name": "stderr",
     "output_type": "stream",
     "text": [
      "\u001b[32m[I 2022-01-28 11:33:17,889]\u001b[0m Trial 35 finished with value: 0.00905781784045752 and parameters: {'learning_rate': 0.05, 'depth': 5, 'iterations': 2156}. Best is trial 15 with value: 0.008762220806961025.\u001b[0m\n",
      "\u001b[32m[I 2022-01-28 11:33:26,478]\u001b[0m Trial 37 finished with value: 0.00914901786650638 and parameters: {'learning_rate': 0.06, 'depth': 4, 'iterations': 2197}. Best is trial 15 with value: 0.008762220806961025.\u001b[0m\n",
      "\u001b[32m[I 2022-01-28 11:33:28,143]\u001b[0m Trial 38 finished with value: 0.00914901786650638 and parameters: {'learning_rate': 0.06, 'depth': 4, 'iterations': 2057}. Best is trial 15 with value: 0.008762220806961025.\u001b[0m\n",
      "\u001b[32m[I 2022-01-28 11:33:35,446]\u001b[0m Trial 41 finished with value: 0.011667667959739399 and parameters: {'learning_rate': 0.03, 'depth': 2, 'iterations': 2110}. Best is trial 15 with value: 0.008762220806961025.\u001b[0m\n",
      "\u001b[32m[I 2022-01-28 11:33:42,024]\u001b[0m Trial 40 finished with value: 0.009419118412094639 and parameters: {'learning_rate': 0.03, 'depth': 3, 'iterations': 2058}. Best is trial 15 with value: 0.008762220806961025.\u001b[0m\n",
      "\u001b[32m[I 2022-01-28 11:33:45,409]\u001b[0m Trial 42 finished with value: 0.01029607415315263 and parameters: {'learning_rate': 0.04, 'depth': 3, 'iterations': 2017}. Best is trial 15 with value: 0.008762220806961025.\u001b[0m\n",
      "\u001b[32m[I 2022-01-28 11:33:52,887]\u001b[0m Trial 39 finished with value: 0.00883683084136634 and parameters: {'learning_rate': 0.03, 'depth': 4, 'iterations': 2106}. Best is trial 15 with value: 0.008762220806961025.\u001b[0m\n",
      "\u001b[32m[I 2022-01-28 11:33:54,547]\u001b[0m Trial 43 finished with value: 0.00968092168775087 and parameters: {'learning_rate': 0.075, 'depth': 4, 'iterations': 2026}. Best is trial 15 with value: 0.008762220806961025.\u001b[0m\n",
      "\u001b[32m[I 2022-01-28 11:34:03,778]\u001b[0m Trial 36 finished with value: 0.008933577254464163 and parameters: {'learning_rate': 0.03, 'depth': 5, 'iterations': 2160}. Best is trial 15 with value: 0.008762220806961025.\u001b[0m\n",
      "\u001b[32m[I 2022-01-28 11:34:20,471]\u001b[0m Trial 44 finished with value: 0.00883683084136634 and parameters: {'learning_rate': 0.03, 'depth': 4, 'iterations': 1911}. Best is trial 15 with value: 0.008762220806961025.\u001b[0m\n",
      "\u001b[32m[I 2022-01-28 11:34:27,113]\u001b[0m Trial 47 finished with value: 0.009079398742033298 and parameters: {'learning_rate': 0.04, 'depth': 4, 'iterations': 2110}. Best is trial 15 with value: 0.008762220806961025.\u001b[0m\n",
      "\u001b[32m[I 2022-01-28 11:34:27,601]\u001b[0m Trial 45 finished with value: 0.00883683084136634 and parameters: {'learning_rate': 0.03, 'depth': 4, 'iterations': 2106}. Best is trial 15 with value: 0.008762220806961025.\u001b[0m\n",
      "\u001b[32m[I 2022-01-28 11:34:29,450]\u001b[0m Trial 48 finished with value: 0.010433011736148846 and parameters: {'learning_rate': 0.045, 'depth': 4, 'iterations': 1917}. Best is trial 15 with value: 0.008762220806961025.\u001b[0m\n",
      "\u001b[32m[I 2022-01-28 11:34:29,791]\u001b[0m Trial 46 finished with value: 0.00883683084136634 and parameters: {'learning_rate': 0.03, 'depth': 4, 'iterations': 2101}. Best is trial 15 with value: 0.008762220806961025.\u001b[0m\n",
      "\u001b[32m[I 2022-01-28 11:34:35,601]\u001b[0m Trial 49 finished with value: 0.010433011736148846 and parameters: {'learning_rate': 0.045, 'depth': 4, 'iterations': 1903}. Best is trial 15 with value: 0.008762220806961025.\u001b[0m\n",
      "\u001b[32m[I 2022-01-28 11:34:36,136]\u001b[0m Trial 50 finished with value: 0.010433011736148846 and parameters: {'learning_rate': 0.045, 'depth': 4, 'iterations': 1902}. Best is trial 15 with value: 0.008762220806961025.\u001b[0m\n",
      "\u001b[32m[I 2022-01-28 11:34:42,018]\u001b[0m Trial 51 finished with value: 0.009469864126078333 and parameters: {'learning_rate': 0.065, 'depth': 4, 'iterations': 1947}. Best is trial 15 with value: 0.008762220806961025.\u001b[0m\n",
      "\u001b[32m[I 2022-01-28 11:34:45,127]\u001b[0m Trial 52 finished with value: 0.009162818076681657 and parameters: {'learning_rate': 0.07, 'depth': 4, 'iterations': 2067}. Best is trial 15 with value: 0.008762220806961025.\u001b[0m\n",
      "\u001b[32m[I 2022-01-28 11:34:49,723]\u001b[0m Trial 53 finished with value: 0.009752155633544498 and parameters: {'learning_rate': 0.065, 'depth': 5, 'iterations': 1857}. Best is trial 15 with value: 0.008762220806961025.\u001b[0m\n",
      "\u001b[32m[I 2022-01-28 11:34:58,848]\u001b[0m Trial 54 finished with value: 0.009116674587049888 and parameters: {'learning_rate': 0.034999999999999996, 'depth': 4, 'iterations': 1991}. Best is trial 15 with value: 0.008762220806961025.\u001b[0m\n",
      "\u001b[32m[I 2022-01-28 11:35:04,090]\u001b[0m Trial 55 finished with value: 0.009116674587049888 and parameters: {'learning_rate': 0.034999999999999996, 'depth': 4, 'iterations': 1856}. Best is trial 15 with value: 0.008762220806961025.\u001b[0m\n",
      "\u001b[32m[I 2022-01-28 11:35:06,675]\u001b[0m Trial 56 finished with value: 0.009116674587049888 and parameters: {'learning_rate': 0.034999999999999996, 'depth': 4, 'iterations': 2034}. Best is trial 15 with value: 0.008762220806961025.\u001b[0m\n",
      "\u001b[32m[I 2022-01-28 11:35:12,145]\u001b[0m Trial 57 finished with value: 0.009116674587049888 and parameters: {'learning_rate': 0.034999999999999996, 'depth': 4, 'iterations': 2035}. Best is trial 15 with value: 0.008762220806961025.\u001b[0m\n",
      "\u001b[32m[I 2022-01-28 11:35:20,034]\u001b[0m Trial 60 finished with value: 0.009000874429529158 and parameters: {'learning_rate': 0.055, 'depth': 3, 'iterations': 2143}. Best is trial 15 with value: 0.008762220806961025.\u001b[0m\n",
      "\u001b[32m[I 2022-01-28 11:35:20,562]\u001b[0m Trial 58 finished with value: 0.008823970584399043 and parameters: {'learning_rate': 0.055, 'depth': 4, 'iterations': 2182}. Best is trial 15 with value: 0.008762220806961025.\u001b[0m\n",
      "\u001b[32m[I 2022-01-28 11:35:25,840]\u001b[0m Trial 61 finished with value: 0.009000874429529158 and parameters: {'learning_rate': 0.055, 'depth': 3, 'iterations': 2145}. Best is trial 15 with value: 0.008762220806961025.\u001b[0m\n",
      "\u001b[32m[I 2022-01-28 11:35:26,576]\u001b[0m Trial 59 finished with value: 0.009079398742033298 and parameters: {'learning_rate': 0.04, 'depth': 4, 'iterations': 2173}. Best is trial 15 with value: 0.008762220806961025.\u001b[0m\n",
      "\u001b[32m[I 2022-01-28 11:35:34,318]\u001b[0m Trial 63 finished with value: 0.009000874429529158 and parameters: {'learning_rate': 0.055, 'depth': 3, 'iterations': 2179}. Best is trial 15 with value: 0.008762220806961025.\u001b[0m\n",
      "\u001b[32m[I 2022-01-28 11:35:55,161]\u001b[0m Trial 62 finished with value: 0.00883683084136634 and parameters: {'learning_rate': 0.03, 'depth': 4, 'iterations': 2111}. Best is trial 15 with value: 0.008762220806961025.\u001b[0m\n",
      "\u001b[32m[I 2022-01-28 11:36:00,182]\u001b[0m Trial 64 finished with value: 0.00883683084136634 and parameters: {'learning_rate': 0.03, 'depth': 4, 'iterations': 2106}. Best is trial 15 with value: 0.008762220806961025.\u001b[0m\n",
      "\u001b[32m[I 2022-01-28 11:36:01,955]\u001b[0m Trial 65 finished with value: 0.00883683084136634 and parameters: {'learning_rate': 0.03, 'depth': 4, 'iterations': 2112}. Best is trial 15 with value: 0.008762220806961025.\u001b[0m\n",
      "\u001b[32m[I 2022-01-28 11:36:10,410]\u001b[0m Trial 66 finished with value: 0.00883683084136634 and parameters: {'learning_rate': 0.03, 'depth': 4, 'iterations': 2192}. Best is trial 15 with value: 0.008762220806961025.\u001b[0m\n",
      "\u001b[32m[I 2022-01-28 11:36:15,887]\u001b[0m Trial 69 finished with value: 0.00914901786650638 and parameters: {'learning_rate': 0.06, 'depth': 4, 'iterations': 2123}. Best is trial 15 with value: 0.008762220806961025.\u001b[0m\n",
      "\u001b[32m[I 2022-01-28 11:36:24,456]\u001b[0m Trial 70 finished with value: 0.00914901786650638 and parameters: {'learning_rate': 0.06, 'depth': 4, 'iterations': 2073}. Best is trial 15 with value: 0.008762220806961025.\u001b[0m\n",
      "\u001b[32m[I 2022-01-28 11:36:30,498]\u001b[0m Trial 67 finished with value: 0.00883683084136634 and parameters: {'learning_rate': 0.03, 'depth': 4, 'iterations': 2190}. Best is trial 15 with value: 0.008762220806961025.\u001b[0m\n",
      "\u001b[32m[I 2022-01-28 11:36:35,308]\u001b[0m Trial 68 finished with value: 0.00883683084136634 and parameters: {'learning_rate': 0.03, 'depth': 4, 'iterations': 2098}. Best is trial 15 with value: 0.008762220806961025.\u001b[0m\n",
      "\u001b[32m[I 2022-01-28 11:36:36,431]\u001b[0m Trial 71 finished with value: 0.008762220806961025 and parameters: {'learning_rate': 0.05, 'depth': 4, 'iterations': 2198}. Best is trial 15 with value: 0.008762220806961025.\u001b[0m\n",
      "\u001b[32m[I 2022-01-28 11:36:44,762]\u001b[0m Trial 72 finished with value: 0.008762220806961025 and parameters: {'learning_rate': 0.05, 'depth': 4, 'iterations': 1953}. Best is trial 15 with value: 0.008762220806961025.\u001b[0m\n"
     ]
    },
    {
     "name": "stderr",
     "output_type": "stream",
     "text": [
      "\u001b[32m[I 2022-01-28 11:36:50,727]\u001b[0m Trial 73 finished with value: 0.008762220806961025 and parameters: {'learning_rate': 0.05, 'depth': 4, 'iterations': 2100}. Best is trial 15 with value: 0.008762220806961025.\u001b[0m\n",
      "\u001b[32m[I 2022-01-28 11:36:57,008]\u001b[0m Trial 75 finished with value: 0.008762220806961025 and parameters: {'learning_rate': 0.05, 'depth': 4, 'iterations': 2187}. Best is trial 15 with value: 0.008762220806961025.\u001b[0m\n",
      "\u001b[32m[I 2022-01-28 11:37:05,017]\u001b[0m Trial 76 finished with value: 0.008762220806961025 and parameters: {'learning_rate': 0.05, 'depth': 4, 'iterations': 1940}. Best is trial 15 with value: 0.008762220806961025.\u001b[0m\n",
      "\u001b[32m[I 2022-01-28 11:37:09,928]\u001b[0m Trial 74 finished with value: 0.00883683084136634 and parameters: {'learning_rate': 0.03, 'depth': 4, 'iterations': 2166}. Best is trial 15 with value: 0.008762220806961025.\u001b[0m\n",
      "\u001b[32m[I 2022-01-28 11:37:11,011]\u001b[0m Trial 77 finished with value: 0.008762220806961025 and parameters: {'learning_rate': 0.05, 'depth': 4, 'iterations': 2169}. Best is trial 15 with value: 0.008762220806961025.\u001b[0m\n",
      "\u001b[32m[I 2022-01-28 11:37:17,096]\u001b[0m Trial 78 finished with value: 0.008762220806961025 and parameters: {'learning_rate': 0.05, 'depth': 4, 'iterations': 2169}. Best is trial 15 with value: 0.008762220806961025.\u001b[0m\n",
      "\u001b[32m[I 2022-01-28 11:37:25,117]\u001b[0m Trial 79 finished with value: 0.008762220806961025 and parameters: {'learning_rate': 0.05, 'depth': 4, 'iterations': 1947}. Best is trial 15 with value: 0.008762220806961025.\u001b[0m\n",
      "\u001b[32m[I 2022-01-28 11:37:29,962]\u001b[0m Trial 80 finished with value: 0.008762220806961025 and parameters: {'learning_rate': 0.05, 'depth': 4, 'iterations': 1958}. Best is trial 15 with value: 0.008762220806961025.\u001b[0m\n",
      "\u001b[32m[I 2022-01-28 11:37:30,649]\u001b[0m Trial 83 finished with value: 0.011311835788069916 and parameters: {'learning_rate': 0.05, 'depth': 2, 'iterations': 1946}. Best is trial 15 with value: 0.008762220806961025.\u001b[0m\n",
      "\u001b[32m[I 2022-01-28 11:37:35,140]\u001b[0m Trial 84 finished with value: 0.011311835788069916 and parameters: {'learning_rate': 0.05, 'depth': 2, 'iterations': 1945}. Best is trial 15 with value: 0.008762220806961025.\u001b[0m\n",
      "\u001b[32m[I 2022-01-28 11:37:44,185]\u001b[0m Trial 86 finished with value: 0.010433011736148846 and parameters: {'learning_rate': 0.045, 'depth': 4, 'iterations': 1969}. Best is trial 15 with value: 0.008762220806961025.\u001b[0m\n",
      "\u001b[32m[I 2022-01-28 11:37:50,785]\u001b[0m Trial 85 finished with value: 0.008762220806961025 and parameters: {'learning_rate': 0.05, 'depth': 4, 'iterations': 1982}. Best is trial 15 with value: 0.008762220806961025.\u001b[0m\n",
      "\u001b[32m[I 2022-01-28 11:37:52,246]\u001b[0m Trial 81 finished with value: 0.00905781784045752 and parameters: {'learning_rate': 0.05, 'depth': 5, 'iterations': 1942}. Best is trial 15 with value: 0.008762220806961025.\u001b[0m\n",
      "\u001b[32m[I 2022-01-28 11:38:00,428]\u001b[0m Trial 82 finished with value: 0.00905781784045752 and parameters: {'learning_rate': 0.05, 'depth': 5, 'iterations': 1934}. Best is trial 15 with value: 0.008762220806961025.\u001b[0m\n",
      "\u001b[32m[I 2022-01-28 11:38:01,127]\u001b[0m Trial 88 finished with value: 0.010433011736148846 and parameters: {'learning_rate': 0.045, 'depth': 4, 'iterations': 1988}. Best is trial 15 with value: 0.008762220806961025.\u001b[0m\n",
      "\u001b[32m[I 2022-01-28 11:38:06,447]\u001b[0m Trial 87 finished with value: 0.008762220806961025 and parameters: {'learning_rate': 0.05, 'depth': 4, 'iterations': 1997}. Best is trial 15 with value: 0.008762220806961025.\u001b[0m\n",
      "\u001b[32m[I 2022-01-28 11:38:09,081]\u001b[0m Trial 90 finished with value: 0.010433011736148846 and parameters: {'learning_rate': 0.045, 'depth': 4, 'iterations': 1987}. Best is trial 15 with value: 0.008762220806961025.\u001b[0m\n",
      "\u001b[32m[I 2022-01-28 11:38:16,266]\u001b[0m Trial 89 finished with value: 0.008823970584399043 and parameters: {'learning_rate': 0.055, 'depth': 4, 'iterations': 1991}. Best is trial 15 with value: 0.008762220806961025.\u001b[0m\n",
      "\u001b[32m[I 2022-01-28 11:38:24,091]\u001b[0m Trial 91 finished with value: 0.008823970584399043 and parameters: {'learning_rate': 0.055, 'depth': 4, 'iterations': 1958}. Best is trial 15 with value: 0.008762220806961025.\u001b[0m\n",
      "\u001b[32m[I 2022-01-28 11:38:29,436]\u001b[0m Trial 92 finished with value: 0.008823970584399043 and parameters: {'learning_rate': 0.055, 'depth': 4, 'iterations': 2153}. Best is trial 15 with value: 0.008762220806961025.\u001b[0m\n",
      "\u001b[32m[I 2022-01-28 11:38:32,188]\u001b[0m Trial 93 finished with value: 0.008823970584399043 and parameters: {'learning_rate': 0.055, 'depth': 4, 'iterations': 1960}. Best is trial 15 with value: 0.008762220806961025.\u001b[0m\n",
      "\u001b[32m[I 2022-01-28 11:38:37,661]\u001b[0m Trial 94 finished with value: 0.008762220806961025 and parameters: {'learning_rate': 0.05, 'depth': 4, 'iterations': 2006}. Best is trial 15 with value: 0.008762220806961025.\u001b[0m\n",
      "\u001b[32m[I 2022-01-28 11:38:46,670]\u001b[0m Trial 95 finished with value: 0.008823970584399043 and parameters: {'learning_rate': 0.055, 'depth': 4, 'iterations': 1960}. Best is trial 15 with value: 0.008762220806961025.\u001b[0m\n",
      "\u001b[32m[I 2022-01-28 11:38:46,820]\u001b[0m Trial 98 finished with value: 0.010433011736148846 and parameters: {'learning_rate': 0.045, 'depth': 4, 'iterations': 2199}. Best is trial 15 with value: 0.008762220806961025.\u001b[0m\n",
      "\u001b[32m[I 2022-01-28 11:38:49,485]\u001b[0m Trial 96 finished with value: 0.008762220806961025 and parameters: {'learning_rate': 0.05, 'depth': 4, 'iterations': 1960}. Best is trial 15 with value: 0.008762220806961025.\u001b[0m\n",
      "\u001b[32m[I 2022-01-28 11:38:50,829]\u001b[0m Trial 97 finished with value: 0.008762220806961025 and parameters: {'learning_rate': 0.05, 'depth': 4, 'iterations': 1925}. Best is trial 15 with value: 0.008762220806961025.\u001b[0m\n",
      "\u001b[32m[I 2022-01-28 11:38:51,810]\u001b[0m Trial 99 finished with value: 0.010433011736148846 and parameters: {'learning_rate': 0.045, 'depth': 4, 'iterations': 2005}. Best is trial 15 with value: 0.008762220806961025.\u001b[0m\n"
     ]
    }
   ],
   "source": [
    "study = optuna.create_study(study_name=f'catboost-seed{RANDOM_SEED}')\n",
    "study.optimize(objective, n_trials=100, n_jobs=-1, timeout=24000)"
   ]
  },
  {
   "cell_type": "code",
   "execution_count": 196,
   "id": "ee1b90c3",
   "metadata": {},
   "outputs": [
    {
     "data": {
      "text/plain": [
       "{'learning_rate': 0.05, 'depth': 4, 'iterations': 2143}"
      ]
     },
     "execution_count": 196,
     "metadata": {},
     "output_type": "execute_result"
    }
   ],
   "source": [
    "study.best_params"
   ]
  },
  {
   "cell_type": "code",
   "execution_count": 197,
   "id": "e268eee0",
   "metadata": {},
   "outputs": [
    {
     "data": {
      "text/plain": [
       "{'learning_rate': 0.05, 'depth': 4, 'iterations': 2143}"
      ]
     },
     "execution_count": 197,
     "metadata": {},
     "output_type": "execute_result"
    }
   ],
   "source": [
    "study.best_params"
   ]
  },
  {
   "cell_type": "code",
   "execution_count": 198,
   "id": "267f3067",
   "metadata": {},
   "outputs": [
    {
     "data": {
      "application/vnd.plotly.v1+json": {
       "config": {
        "plotlyServerURL": "https://plot.ly"
       },
       "data": [
        {
         "mode": "markers",
         "name": "Objective Value",
         "type": "scatter",
         "x": [
          0,
          1,
          2,
          3,
          4,
          5,
          6,
          7,
          8,
          9,
          10,
          11,
          12,
          13,
          14,
          15,
          16,
          17,
          18,
          19,
          20,
          21,
          22,
          23,
          24,
          25,
          26,
          27,
          28,
          29,
          30,
          31,
          32,
          33,
          34,
          35,
          36,
          37,
          38,
          39,
          40,
          41,
          42,
          43,
          44,
          45,
          46,
          47,
          48,
          49,
          50,
          51,
          52,
          53,
          54,
          55,
          56,
          57,
          58,
          59,
          60,
          61,
          62,
          63,
          64,
          65,
          66,
          67,
          68,
          69,
          70,
          71,
          72,
          73,
          74,
          75,
          76,
          77,
          78,
          79,
          80,
          81,
          82,
          83,
          84,
          85,
          86,
          87,
          88,
          89,
          90,
          91,
          92,
          93,
          94,
          95,
          96,
          97,
          98,
          99
         ],
         "y": [
          0.008933577254464163,
          0.008933869149396893,
          0.011667667959739399,
          0.01029607415315263,
          0.00905781784045752,
          0.010199846102289349,
          0.01123723387541156,
          0.009752155633544498,
          0.008933869149396893,
          0.008933577254464163,
          0.00914901786650638,
          0.010446719846401853,
          0.009760725829984664,
          0.00883683084136634,
          0.00883683084136634,
          0.008762220806961025,
          0.00883683084136634,
          0.010433011736148846,
          0.010433011736148846,
          0.010433011736148846,
          0.009079398742033298,
          0.01029607415315263,
          0.009000874429529158,
          0.009000874429529158,
          0.009116674587049888,
          0.009116674587049888,
          0.009116674587049888,
          0.009116674587049888,
          0.009116674587049888,
          0.009116674587049888,
          0.008762220806961025,
          0.009413679675506699,
          0.00905781784045752,
          0.00905781784045752,
          0.00905781784045752,
          0.00905781784045752,
          0.008933577254464163,
          0.00914901786650638,
          0.00914901786650638,
          0.00883683084136634,
          0.009419118412094639,
          0.011667667959739399,
          0.01029607415315263,
          0.00968092168775087,
          0.00883683084136634,
          0.00883683084136634,
          0.00883683084136634,
          0.009079398742033298,
          0.010433011736148846,
          0.010433011736148846,
          0.010433011736148846,
          0.009469864126078333,
          0.009162818076681657,
          0.009752155633544498,
          0.009116674587049888,
          0.009116674587049888,
          0.009116674587049888,
          0.009116674587049888,
          0.008823970584399043,
          0.009079398742033298,
          0.009000874429529158,
          0.009000874429529158,
          0.00883683084136634,
          0.009000874429529158,
          0.00883683084136634,
          0.00883683084136634,
          0.00883683084136634,
          0.00883683084136634,
          0.00883683084136634,
          0.00914901786650638,
          0.00914901786650638,
          0.008762220806961025,
          0.008762220806961025,
          0.008762220806961025,
          0.00883683084136634,
          0.008762220806961025,
          0.008762220806961025,
          0.008762220806961025,
          0.008762220806961025,
          0.008762220806961025,
          0.008762220806961025,
          0.00905781784045752,
          0.00905781784045752,
          0.011311835788069916,
          0.011311835788069916,
          0.008762220806961025,
          0.010433011736148846,
          0.008762220806961025,
          0.010433011736148846,
          0.008823970584399043,
          0.010433011736148846,
          0.008823970584399043,
          0.008823970584399043,
          0.008823970584399043,
          0.008762220806961025,
          0.008823970584399043,
          0.008762220806961025,
          0.008762220806961025,
          0.010433011736148846,
          0.010433011736148846
         ]
        },
        {
         "name": "Best Value",
         "type": "scatter",
         "x": [
          0,
          1,
          2,
          3,
          4,
          5,
          6,
          7,
          8,
          9,
          10,
          11,
          12,
          13,
          14,
          15,
          16,
          17,
          18,
          19,
          20,
          21,
          22,
          23,
          24,
          25,
          26,
          27,
          28,
          29,
          30,
          31,
          32,
          33,
          34,
          35,
          36,
          37,
          38,
          39,
          40,
          41,
          42,
          43,
          44,
          45,
          46,
          47,
          48,
          49,
          50,
          51,
          52,
          53,
          54,
          55,
          56,
          57,
          58,
          59,
          60,
          61,
          62,
          63,
          64,
          65,
          66,
          67,
          68,
          69,
          70,
          71,
          72,
          73,
          74,
          75,
          76,
          77,
          78,
          79,
          80,
          81,
          82,
          83,
          84,
          85,
          86,
          87,
          88,
          89,
          90,
          91,
          92,
          93,
          94,
          95,
          96,
          97,
          98,
          99
         ],
         "y": [
          0.008933577254464163,
          0.008933577254464163,
          0.008933577254464163,
          0.008933577254464163,
          0.008933577254464163,
          0.008933577254464163,
          0.008933577254464163,
          0.008933577254464163,
          0.008933577254464163,
          0.008933577254464163,
          0.008933577254464163,
          0.008933577254464163,
          0.008933577254464163,
          0.00883683084136634,
          0.00883683084136634,
          0.008762220806961025,
          0.008762220806961025,
          0.008762220806961025,
          0.008762220806961025,
          0.008762220806961025,
          0.008762220806961025,
          0.008762220806961025,
          0.008762220806961025,
          0.008762220806961025,
          0.008762220806961025,
          0.008762220806961025,
          0.008762220806961025,
          0.008762220806961025,
          0.008762220806961025,
          0.008762220806961025,
          0.008762220806961025,
          0.008762220806961025,
          0.008762220806961025,
          0.008762220806961025,
          0.008762220806961025,
          0.008762220806961025,
          0.008762220806961025,
          0.008762220806961025,
          0.008762220806961025,
          0.008762220806961025,
          0.008762220806961025,
          0.008762220806961025,
          0.008762220806961025,
          0.008762220806961025,
          0.008762220806961025,
          0.008762220806961025,
          0.008762220806961025,
          0.008762220806961025,
          0.008762220806961025,
          0.008762220806961025,
          0.008762220806961025,
          0.008762220806961025,
          0.008762220806961025,
          0.008762220806961025,
          0.008762220806961025,
          0.008762220806961025,
          0.008762220806961025,
          0.008762220806961025,
          0.008762220806961025,
          0.008762220806961025,
          0.008762220806961025,
          0.008762220806961025,
          0.008762220806961025,
          0.008762220806961025,
          0.008762220806961025,
          0.008762220806961025,
          0.008762220806961025,
          0.008762220806961025,
          0.008762220806961025,
          0.008762220806961025,
          0.008762220806961025,
          0.008762220806961025,
          0.008762220806961025,
          0.008762220806961025,
          0.008762220806961025,
          0.008762220806961025,
          0.008762220806961025,
          0.008762220806961025,
          0.008762220806961025,
          0.008762220806961025,
          0.008762220806961025,
          0.008762220806961025,
          0.008762220806961025,
          0.008762220806961025,
          0.008762220806961025,
          0.008762220806961025,
          0.008762220806961025,
          0.008762220806961025,
          0.008762220806961025,
          0.008762220806961025,
          0.008762220806961025,
          0.008762220806961025,
          0.008762220806961025,
          0.008762220806961025,
          0.008762220806961025,
          0.008762220806961025,
          0.008762220806961025,
          0.008762220806961025,
          0.008762220806961025,
          0.008762220806961025
         ]
        }
       ],
       "layout": {
        "template": {
         "data": {
          "bar": [
           {
            "error_x": {
             "color": "#2a3f5f"
            },
            "error_y": {
             "color": "#2a3f5f"
            },
            "marker": {
             "line": {
              "color": "#E5ECF6",
              "width": 0.5
             },
             "pattern": {
              "fillmode": "overlay",
              "size": 10,
              "solidity": 0.2
             }
            },
            "type": "bar"
           }
          ],
          "barpolar": [
           {
            "marker": {
             "line": {
              "color": "#E5ECF6",
              "width": 0.5
             },
             "pattern": {
              "fillmode": "overlay",
              "size": 10,
              "solidity": 0.2
             }
            },
            "type": "barpolar"
           }
          ],
          "carpet": [
           {
            "aaxis": {
             "endlinecolor": "#2a3f5f",
             "gridcolor": "white",
             "linecolor": "white",
             "minorgridcolor": "white",
             "startlinecolor": "#2a3f5f"
            },
            "baxis": {
             "endlinecolor": "#2a3f5f",
             "gridcolor": "white",
             "linecolor": "white",
             "minorgridcolor": "white",
             "startlinecolor": "#2a3f5f"
            },
            "type": "carpet"
           }
          ],
          "choropleth": [
           {
            "colorbar": {
             "outlinewidth": 0,
             "ticks": ""
            },
            "type": "choropleth"
           }
          ],
          "contour": [
           {
            "colorbar": {
             "outlinewidth": 0,
             "ticks": ""
            },
            "colorscale": [
             [
              0,
              "#0d0887"
             ],
             [
              0.1111111111111111,
              "#46039f"
             ],
             [
              0.2222222222222222,
              "#7201a8"
             ],
             [
              0.3333333333333333,
              "#9c179e"
             ],
             [
              0.4444444444444444,
              "#bd3786"
             ],
             [
              0.5555555555555556,
              "#d8576b"
             ],
             [
              0.6666666666666666,
              "#ed7953"
             ],
             [
              0.7777777777777778,
              "#fb9f3a"
             ],
             [
              0.8888888888888888,
              "#fdca26"
             ],
             [
              1,
              "#f0f921"
             ]
            ],
            "type": "contour"
           }
          ],
          "contourcarpet": [
           {
            "colorbar": {
             "outlinewidth": 0,
             "ticks": ""
            },
            "type": "contourcarpet"
           }
          ],
          "heatmap": [
           {
            "colorbar": {
             "outlinewidth": 0,
             "ticks": ""
            },
            "colorscale": [
             [
              0,
              "#0d0887"
             ],
             [
              0.1111111111111111,
              "#46039f"
             ],
             [
              0.2222222222222222,
              "#7201a8"
             ],
             [
              0.3333333333333333,
              "#9c179e"
             ],
             [
              0.4444444444444444,
              "#bd3786"
             ],
             [
              0.5555555555555556,
              "#d8576b"
             ],
             [
              0.6666666666666666,
              "#ed7953"
             ],
             [
              0.7777777777777778,
              "#fb9f3a"
             ],
             [
              0.8888888888888888,
              "#fdca26"
             ],
             [
              1,
              "#f0f921"
             ]
            ],
            "type": "heatmap"
           }
          ],
          "heatmapgl": [
           {
            "colorbar": {
             "outlinewidth": 0,
             "ticks": ""
            },
            "colorscale": [
             [
              0,
              "#0d0887"
             ],
             [
              0.1111111111111111,
              "#46039f"
             ],
             [
              0.2222222222222222,
              "#7201a8"
             ],
             [
              0.3333333333333333,
              "#9c179e"
             ],
             [
              0.4444444444444444,
              "#bd3786"
             ],
             [
              0.5555555555555556,
              "#d8576b"
             ],
             [
              0.6666666666666666,
              "#ed7953"
             ],
             [
              0.7777777777777778,
              "#fb9f3a"
             ],
             [
              0.8888888888888888,
              "#fdca26"
             ],
             [
              1,
              "#f0f921"
             ]
            ],
            "type": "heatmapgl"
           }
          ],
          "histogram": [
           {
            "marker": {
             "pattern": {
              "fillmode": "overlay",
              "size": 10,
              "solidity": 0.2
             }
            },
            "type": "histogram"
           }
          ],
          "histogram2d": [
           {
            "colorbar": {
             "outlinewidth": 0,
             "ticks": ""
            },
            "colorscale": [
             [
              0,
              "#0d0887"
             ],
             [
              0.1111111111111111,
              "#46039f"
             ],
             [
              0.2222222222222222,
              "#7201a8"
             ],
             [
              0.3333333333333333,
              "#9c179e"
             ],
             [
              0.4444444444444444,
              "#bd3786"
             ],
             [
              0.5555555555555556,
              "#d8576b"
             ],
             [
              0.6666666666666666,
              "#ed7953"
             ],
             [
              0.7777777777777778,
              "#fb9f3a"
             ],
             [
              0.8888888888888888,
              "#fdca26"
             ],
             [
              1,
              "#f0f921"
             ]
            ],
            "type": "histogram2d"
           }
          ],
          "histogram2dcontour": [
           {
            "colorbar": {
             "outlinewidth": 0,
             "ticks": ""
            },
            "colorscale": [
             [
              0,
              "#0d0887"
             ],
             [
              0.1111111111111111,
              "#46039f"
             ],
             [
              0.2222222222222222,
              "#7201a8"
             ],
             [
              0.3333333333333333,
              "#9c179e"
             ],
             [
              0.4444444444444444,
              "#bd3786"
             ],
             [
              0.5555555555555556,
              "#d8576b"
             ],
             [
              0.6666666666666666,
              "#ed7953"
             ],
             [
              0.7777777777777778,
              "#fb9f3a"
             ],
             [
              0.8888888888888888,
              "#fdca26"
             ],
             [
              1,
              "#f0f921"
             ]
            ],
            "type": "histogram2dcontour"
           }
          ],
          "mesh3d": [
           {
            "colorbar": {
             "outlinewidth": 0,
             "ticks": ""
            },
            "type": "mesh3d"
           }
          ],
          "parcoords": [
           {
            "line": {
             "colorbar": {
              "outlinewidth": 0,
              "ticks": ""
             }
            },
            "type": "parcoords"
           }
          ],
          "pie": [
           {
            "automargin": true,
            "type": "pie"
           }
          ],
          "scatter": [
           {
            "marker": {
             "colorbar": {
              "outlinewidth": 0,
              "ticks": ""
             }
            },
            "type": "scatter"
           }
          ],
          "scatter3d": [
           {
            "line": {
             "colorbar": {
              "outlinewidth": 0,
              "ticks": ""
             }
            },
            "marker": {
             "colorbar": {
              "outlinewidth": 0,
              "ticks": ""
             }
            },
            "type": "scatter3d"
           }
          ],
          "scattercarpet": [
           {
            "marker": {
             "colorbar": {
              "outlinewidth": 0,
              "ticks": ""
             }
            },
            "type": "scattercarpet"
           }
          ],
          "scattergeo": [
           {
            "marker": {
             "colorbar": {
              "outlinewidth": 0,
              "ticks": ""
             }
            },
            "type": "scattergeo"
           }
          ],
          "scattergl": [
           {
            "marker": {
             "colorbar": {
              "outlinewidth": 0,
              "ticks": ""
             }
            },
            "type": "scattergl"
           }
          ],
          "scattermapbox": [
           {
            "marker": {
             "colorbar": {
              "outlinewidth": 0,
              "ticks": ""
             }
            },
            "type": "scattermapbox"
           }
          ],
          "scatterpolar": [
           {
            "marker": {
             "colorbar": {
              "outlinewidth": 0,
              "ticks": ""
             }
            },
            "type": "scatterpolar"
           }
          ],
          "scatterpolargl": [
           {
            "marker": {
             "colorbar": {
              "outlinewidth": 0,
              "ticks": ""
             }
            },
            "type": "scatterpolargl"
           }
          ],
          "scatterternary": [
           {
            "marker": {
             "colorbar": {
              "outlinewidth": 0,
              "ticks": ""
             }
            },
            "type": "scatterternary"
           }
          ],
          "surface": [
           {
            "colorbar": {
             "outlinewidth": 0,
             "ticks": ""
            },
            "colorscale": [
             [
              0,
              "#0d0887"
             ],
             [
              0.1111111111111111,
              "#46039f"
             ],
             [
              0.2222222222222222,
              "#7201a8"
             ],
             [
              0.3333333333333333,
              "#9c179e"
             ],
             [
              0.4444444444444444,
              "#bd3786"
             ],
             [
              0.5555555555555556,
              "#d8576b"
             ],
             [
              0.6666666666666666,
              "#ed7953"
             ],
             [
              0.7777777777777778,
              "#fb9f3a"
             ],
             [
              0.8888888888888888,
              "#fdca26"
             ],
             [
              1,
              "#f0f921"
             ]
            ],
            "type": "surface"
           }
          ],
          "table": [
           {
            "cells": {
             "fill": {
              "color": "#EBF0F8"
             },
             "line": {
              "color": "white"
             }
            },
            "header": {
             "fill": {
              "color": "#C8D4E3"
             },
             "line": {
              "color": "white"
             }
            },
            "type": "table"
           }
          ]
         },
         "layout": {
          "annotationdefaults": {
           "arrowcolor": "#2a3f5f",
           "arrowhead": 0,
           "arrowwidth": 1
          },
          "autotypenumbers": "strict",
          "coloraxis": {
           "colorbar": {
            "outlinewidth": 0,
            "ticks": ""
           }
          },
          "colorscale": {
           "diverging": [
            [
             0,
             "#8e0152"
            ],
            [
             0.1,
             "#c51b7d"
            ],
            [
             0.2,
             "#de77ae"
            ],
            [
             0.3,
             "#f1b6da"
            ],
            [
             0.4,
             "#fde0ef"
            ],
            [
             0.5,
             "#f7f7f7"
            ],
            [
             0.6,
             "#e6f5d0"
            ],
            [
             0.7,
             "#b8e186"
            ],
            [
             0.8,
             "#7fbc41"
            ],
            [
             0.9,
             "#4d9221"
            ],
            [
             1,
             "#276419"
            ]
           ],
           "sequential": [
            [
             0,
             "#0d0887"
            ],
            [
             0.1111111111111111,
             "#46039f"
            ],
            [
             0.2222222222222222,
             "#7201a8"
            ],
            [
             0.3333333333333333,
             "#9c179e"
            ],
            [
             0.4444444444444444,
             "#bd3786"
            ],
            [
             0.5555555555555556,
             "#d8576b"
            ],
            [
             0.6666666666666666,
             "#ed7953"
            ],
            [
             0.7777777777777778,
             "#fb9f3a"
            ],
            [
             0.8888888888888888,
             "#fdca26"
            ],
            [
             1,
             "#f0f921"
            ]
           ],
           "sequentialminus": [
            [
             0,
             "#0d0887"
            ],
            [
             0.1111111111111111,
             "#46039f"
            ],
            [
             0.2222222222222222,
             "#7201a8"
            ],
            [
             0.3333333333333333,
             "#9c179e"
            ],
            [
             0.4444444444444444,
             "#bd3786"
            ],
            [
             0.5555555555555556,
             "#d8576b"
            ],
            [
             0.6666666666666666,
             "#ed7953"
            ],
            [
             0.7777777777777778,
             "#fb9f3a"
            ],
            [
             0.8888888888888888,
             "#fdca26"
            ],
            [
             1,
             "#f0f921"
            ]
           ]
          },
          "colorway": [
           "#636efa",
           "#EF553B",
           "#00cc96",
           "#ab63fa",
           "#FFA15A",
           "#19d3f3",
           "#FF6692",
           "#B6E880",
           "#FF97FF",
           "#FECB52"
          ],
          "font": {
           "color": "#2a3f5f"
          },
          "geo": {
           "bgcolor": "white",
           "lakecolor": "white",
           "landcolor": "#E5ECF6",
           "showlakes": true,
           "showland": true,
           "subunitcolor": "white"
          },
          "hoverlabel": {
           "align": "left"
          },
          "hovermode": "closest",
          "mapbox": {
           "style": "light"
          },
          "paper_bgcolor": "white",
          "plot_bgcolor": "#E5ECF6",
          "polar": {
           "angularaxis": {
            "gridcolor": "white",
            "linecolor": "white",
            "ticks": ""
           },
           "bgcolor": "#E5ECF6",
           "radialaxis": {
            "gridcolor": "white",
            "linecolor": "white",
            "ticks": ""
           }
          },
          "scene": {
           "xaxis": {
            "backgroundcolor": "#E5ECF6",
            "gridcolor": "white",
            "gridwidth": 2,
            "linecolor": "white",
            "showbackground": true,
            "ticks": "",
            "zerolinecolor": "white"
           },
           "yaxis": {
            "backgroundcolor": "#E5ECF6",
            "gridcolor": "white",
            "gridwidth": 2,
            "linecolor": "white",
            "showbackground": true,
            "ticks": "",
            "zerolinecolor": "white"
           },
           "zaxis": {
            "backgroundcolor": "#E5ECF6",
            "gridcolor": "white",
            "gridwidth": 2,
            "linecolor": "white",
            "showbackground": true,
            "ticks": "",
            "zerolinecolor": "white"
           }
          },
          "shapedefaults": {
           "line": {
            "color": "#2a3f5f"
           }
          },
          "ternary": {
           "aaxis": {
            "gridcolor": "white",
            "linecolor": "white",
            "ticks": ""
           },
           "baxis": {
            "gridcolor": "white",
            "linecolor": "white",
            "ticks": ""
           },
           "bgcolor": "#E5ECF6",
           "caxis": {
            "gridcolor": "white",
            "linecolor": "white",
            "ticks": ""
           }
          },
          "title": {
           "x": 0.05
          },
          "xaxis": {
           "automargin": true,
           "gridcolor": "white",
           "linecolor": "white",
           "ticks": "",
           "title": {
            "standoff": 15
           },
           "zerolinecolor": "white",
           "zerolinewidth": 2
          },
          "yaxis": {
           "automargin": true,
           "gridcolor": "white",
           "linecolor": "white",
           "ticks": "",
           "title": {
            "standoff": 15
           },
           "zerolinecolor": "white",
           "zerolinewidth": 2
          }
         }
        },
        "title": {
         "text": "Optimization History Plot"
        },
        "xaxis": {
         "title": {
          "text": "#Trials"
         }
        },
        "yaxis": {
         "title": {
          "text": "Objective Value"
         }
        }
       }
      },
      "text/html": [
       "<div>                            <div id=\"cfef858e-1329-400d-926d-437237404457\" class=\"plotly-graph-div\" style=\"height:525px; width:100%;\"></div>            <script type=\"text/javascript\">                require([\"plotly\"], function(Plotly) {                    window.PLOTLYENV=window.PLOTLYENV || {};                                    if (document.getElementById(\"cfef858e-1329-400d-926d-437237404457\")) {                    Plotly.newPlot(                        \"cfef858e-1329-400d-926d-437237404457\",                        [{\"mode\":\"markers\",\"name\":\"Objective Value\",\"x\":[0,1,2,3,4,5,6,7,8,9,10,11,12,13,14,15,16,17,18,19,20,21,22,23,24,25,26,27,28,29,30,31,32,33,34,35,36,37,38,39,40,41,42,43,44,45,46,47,48,49,50,51,52,53,54,55,56,57,58,59,60,61,62,63,64,65,66,67,68,69,70,71,72,73,74,75,76,77,78,79,80,81,82,83,84,85,86,87,88,89,90,91,92,93,94,95,96,97,98,99],\"y\":[0.008933577254464163,0.008933869149396893,0.011667667959739399,0.01029607415315263,0.00905781784045752,0.010199846102289349,0.01123723387541156,0.009752155633544498,0.008933869149396893,0.008933577254464163,0.00914901786650638,0.010446719846401853,0.009760725829984664,0.00883683084136634,0.00883683084136634,0.008762220806961025,0.00883683084136634,0.010433011736148846,0.010433011736148846,0.010433011736148846,0.009079398742033298,0.01029607415315263,0.009000874429529158,0.009000874429529158,0.009116674587049888,0.009116674587049888,0.009116674587049888,0.009116674587049888,0.009116674587049888,0.009116674587049888,0.008762220806961025,0.009413679675506699,0.00905781784045752,0.00905781784045752,0.00905781784045752,0.00905781784045752,0.008933577254464163,0.00914901786650638,0.00914901786650638,0.00883683084136634,0.009419118412094639,0.011667667959739399,0.01029607415315263,0.00968092168775087,0.00883683084136634,0.00883683084136634,0.00883683084136634,0.009079398742033298,0.010433011736148846,0.010433011736148846,0.010433011736148846,0.009469864126078333,0.009162818076681657,0.009752155633544498,0.009116674587049888,0.009116674587049888,0.009116674587049888,0.009116674587049888,0.008823970584399043,0.009079398742033298,0.009000874429529158,0.009000874429529158,0.00883683084136634,0.009000874429529158,0.00883683084136634,0.00883683084136634,0.00883683084136634,0.00883683084136634,0.00883683084136634,0.00914901786650638,0.00914901786650638,0.008762220806961025,0.008762220806961025,0.008762220806961025,0.00883683084136634,0.008762220806961025,0.008762220806961025,0.008762220806961025,0.008762220806961025,0.008762220806961025,0.008762220806961025,0.00905781784045752,0.00905781784045752,0.011311835788069916,0.011311835788069916,0.008762220806961025,0.010433011736148846,0.008762220806961025,0.010433011736148846,0.008823970584399043,0.010433011736148846,0.008823970584399043,0.008823970584399043,0.008823970584399043,0.008762220806961025,0.008823970584399043,0.008762220806961025,0.008762220806961025,0.010433011736148846,0.010433011736148846],\"type\":\"scatter\"},{\"name\":\"Best Value\",\"x\":[0,1,2,3,4,5,6,7,8,9,10,11,12,13,14,15,16,17,18,19,20,21,22,23,24,25,26,27,28,29,30,31,32,33,34,35,36,37,38,39,40,41,42,43,44,45,46,47,48,49,50,51,52,53,54,55,56,57,58,59,60,61,62,63,64,65,66,67,68,69,70,71,72,73,74,75,76,77,78,79,80,81,82,83,84,85,86,87,88,89,90,91,92,93,94,95,96,97,98,99],\"y\":[0.008933577254464163,0.008933577254464163,0.008933577254464163,0.008933577254464163,0.008933577254464163,0.008933577254464163,0.008933577254464163,0.008933577254464163,0.008933577254464163,0.008933577254464163,0.008933577254464163,0.008933577254464163,0.008933577254464163,0.00883683084136634,0.00883683084136634,0.008762220806961025,0.008762220806961025,0.008762220806961025,0.008762220806961025,0.008762220806961025,0.008762220806961025,0.008762220806961025,0.008762220806961025,0.008762220806961025,0.008762220806961025,0.008762220806961025,0.008762220806961025,0.008762220806961025,0.008762220806961025,0.008762220806961025,0.008762220806961025,0.008762220806961025,0.008762220806961025,0.008762220806961025,0.008762220806961025,0.008762220806961025,0.008762220806961025,0.008762220806961025,0.008762220806961025,0.008762220806961025,0.008762220806961025,0.008762220806961025,0.008762220806961025,0.008762220806961025,0.008762220806961025,0.008762220806961025,0.008762220806961025,0.008762220806961025,0.008762220806961025,0.008762220806961025,0.008762220806961025,0.008762220806961025,0.008762220806961025,0.008762220806961025,0.008762220806961025,0.008762220806961025,0.008762220806961025,0.008762220806961025,0.008762220806961025,0.008762220806961025,0.008762220806961025,0.008762220806961025,0.008762220806961025,0.008762220806961025,0.008762220806961025,0.008762220806961025,0.008762220806961025,0.008762220806961025,0.008762220806961025,0.008762220806961025,0.008762220806961025,0.008762220806961025,0.008762220806961025,0.008762220806961025,0.008762220806961025,0.008762220806961025,0.008762220806961025,0.008762220806961025,0.008762220806961025,0.008762220806961025,0.008762220806961025,0.008762220806961025,0.008762220806961025,0.008762220806961025,0.008762220806961025,0.008762220806961025,0.008762220806961025,0.008762220806961025,0.008762220806961025,0.008762220806961025,0.008762220806961025,0.008762220806961025,0.008762220806961025,0.008762220806961025,0.008762220806961025,0.008762220806961025,0.008762220806961025,0.008762220806961025,0.008762220806961025,0.008762220806961025],\"type\":\"scatter\"}],                        {\"title\":{\"text\":\"Optimization History Plot\"},\"xaxis\":{\"title\":{\"text\":\"#Trials\"}},\"yaxis\":{\"title\":{\"text\":\"Objective Value\"}},\"template\":{\"data\":{\"bar\":[{\"error_x\":{\"color\":\"#2a3f5f\"},\"error_y\":{\"color\":\"#2a3f5f\"},\"marker\":{\"line\":{\"color\":\"#E5ECF6\",\"width\":0.5},\"pattern\":{\"fillmode\":\"overlay\",\"size\":10,\"solidity\":0.2}},\"type\":\"bar\"}],\"barpolar\":[{\"marker\":{\"line\":{\"color\":\"#E5ECF6\",\"width\":0.5},\"pattern\":{\"fillmode\":\"overlay\",\"size\":10,\"solidity\":0.2}},\"type\":\"barpolar\"}],\"carpet\":[{\"aaxis\":{\"endlinecolor\":\"#2a3f5f\",\"gridcolor\":\"white\",\"linecolor\":\"white\",\"minorgridcolor\":\"white\",\"startlinecolor\":\"#2a3f5f\"},\"baxis\":{\"endlinecolor\":\"#2a3f5f\",\"gridcolor\":\"white\",\"linecolor\":\"white\",\"minorgridcolor\":\"white\",\"startlinecolor\":\"#2a3f5f\"},\"type\":\"carpet\"}],\"choropleth\":[{\"colorbar\":{\"outlinewidth\":0,\"ticks\":\"\"},\"type\":\"choropleth\"}],\"contour\":[{\"colorbar\":{\"outlinewidth\":0,\"ticks\":\"\"},\"colorscale\":[[0.0,\"#0d0887\"],[0.1111111111111111,\"#46039f\"],[0.2222222222222222,\"#7201a8\"],[0.3333333333333333,\"#9c179e\"],[0.4444444444444444,\"#bd3786\"],[0.5555555555555556,\"#d8576b\"],[0.6666666666666666,\"#ed7953\"],[0.7777777777777778,\"#fb9f3a\"],[0.8888888888888888,\"#fdca26\"],[1.0,\"#f0f921\"]],\"type\":\"contour\"}],\"contourcarpet\":[{\"colorbar\":{\"outlinewidth\":0,\"ticks\":\"\"},\"type\":\"contourcarpet\"}],\"heatmap\":[{\"colorbar\":{\"outlinewidth\":0,\"ticks\":\"\"},\"colorscale\":[[0.0,\"#0d0887\"],[0.1111111111111111,\"#46039f\"],[0.2222222222222222,\"#7201a8\"],[0.3333333333333333,\"#9c179e\"],[0.4444444444444444,\"#bd3786\"],[0.5555555555555556,\"#d8576b\"],[0.6666666666666666,\"#ed7953\"],[0.7777777777777778,\"#fb9f3a\"],[0.8888888888888888,\"#fdca26\"],[1.0,\"#f0f921\"]],\"type\":\"heatmap\"}],\"heatmapgl\":[{\"colorbar\":{\"outlinewidth\":0,\"ticks\":\"\"},\"colorscale\":[[0.0,\"#0d0887\"],[0.1111111111111111,\"#46039f\"],[0.2222222222222222,\"#7201a8\"],[0.3333333333333333,\"#9c179e\"],[0.4444444444444444,\"#bd3786\"],[0.5555555555555556,\"#d8576b\"],[0.6666666666666666,\"#ed7953\"],[0.7777777777777778,\"#fb9f3a\"],[0.8888888888888888,\"#fdca26\"],[1.0,\"#f0f921\"]],\"type\":\"heatmapgl\"}],\"histogram\":[{\"marker\":{\"pattern\":{\"fillmode\":\"overlay\",\"size\":10,\"solidity\":0.2}},\"type\":\"histogram\"}],\"histogram2d\":[{\"colorbar\":{\"outlinewidth\":0,\"ticks\":\"\"},\"colorscale\":[[0.0,\"#0d0887\"],[0.1111111111111111,\"#46039f\"],[0.2222222222222222,\"#7201a8\"],[0.3333333333333333,\"#9c179e\"],[0.4444444444444444,\"#bd3786\"],[0.5555555555555556,\"#d8576b\"],[0.6666666666666666,\"#ed7953\"],[0.7777777777777778,\"#fb9f3a\"],[0.8888888888888888,\"#fdca26\"],[1.0,\"#f0f921\"]],\"type\":\"histogram2d\"}],\"histogram2dcontour\":[{\"colorbar\":{\"outlinewidth\":0,\"ticks\":\"\"},\"colorscale\":[[0.0,\"#0d0887\"],[0.1111111111111111,\"#46039f\"],[0.2222222222222222,\"#7201a8\"],[0.3333333333333333,\"#9c179e\"],[0.4444444444444444,\"#bd3786\"],[0.5555555555555556,\"#d8576b\"],[0.6666666666666666,\"#ed7953\"],[0.7777777777777778,\"#fb9f3a\"],[0.8888888888888888,\"#fdca26\"],[1.0,\"#f0f921\"]],\"type\":\"histogram2dcontour\"}],\"mesh3d\":[{\"colorbar\":{\"outlinewidth\":0,\"ticks\":\"\"},\"type\":\"mesh3d\"}],\"parcoords\":[{\"line\":{\"colorbar\":{\"outlinewidth\":0,\"ticks\":\"\"}},\"type\":\"parcoords\"}],\"pie\":[{\"automargin\":true,\"type\":\"pie\"}],\"scatter\":[{\"marker\":{\"colorbar\":{\"outlinewidth\":0,\"ticks\":\"\"}},\"type\":\"scatter\"}],\"scatter3d\":[{\"line\":{\"colorbar\":{\"outlinewidth\":0,\"ticks\":\"\"}},\"marker\":{\"colorbar\":{\"outlinewidth\":0,\"ticks\":\"\"}},\"type\":\"scatter3d\"}],\"scattercarpet\":[{\"marker\":{\"colorbar\":{\"outlinewidth\":0,\"ticks\":\"\"}},\"type\":\"scattercarpet\"}],\"scattergeo\":[{\"marker\":{\"colorbar\":{\"outlinewidth\":0,\"ticks\":\"\"}},\"type\":\"scattergeo\"}],\"scattergl\":[{\"marker\":{\"colorbar\":{\"outlinewidth\":0,\"ticks\":\"\"}},\"type\":\"scattergl\"}],\"scattermapbox\":[{\"marker\":{\"colorbar\":{\"outlinewidth\":0,\"ticks\":\"\"}},\"type\":\"scattermapbox\"}],\"scatterpolar\":[{\"marker\":{\"colorbar\":{\"outlinewidth\":0,\"ticks\":\"\"}},\"type\":\"scatterpolar\"}],\"scatterpolargl\":[{\"marker\":{\"colorbar\":{\"outlinewidth\":0,\"ticks\":\"\"}},\"type\":\"scatterpolargl\"}],\"scatterternary\":[{\"marker\":{\"colorbar\":{\"outlinewidth\":0,\"ticks\":\"\"}},\"type\":\"scatterternary\"}],\"surface\":[{\"colorbar\":{\"outlinewidth\":0,\"ticks\":\"\"},\"colorscale\":[[0.0,\"#0d0887\"],[0.1111111111111111,\"#46039f\"],[0.2222222222222222,\"#7201a8\"],[0.3333333333333333,\"#9c179e\"],[0.4444444444444444,\"#bd3786\"],[0.5555555555555556,\"#d8576b\"],[0.6666666666666666,\"#ed7953\"],[0.7777777777777778,\"#fb9f3a\"],[0.8888888888888888,\"#fdca26\"],[1.0,\"#f0f921\"]],\"type\":\"surface\"}],\"table\":[{\"cells\":{\"fill\":{\"color\":\"#EBF0F8\"},\"line\":{\"color\":\"white\"}},\"header\":{\"fill\":{\"color\":\"#C8D4E3\"},\"line\":{\"color\":\"white\"}},\"type\":\"table\"}]},\"layout\":{\"annotationdefaults\":{\"arrowcolor\":\"#2a3f5f\",\"arrowhead\":0,\"arrowwidth\":1},\"autotypenumbers\":\"strict\",\"coloraxis\":{\"colorbar\":{\"outlinewidth\":0,\"ticks\":\"\"}},\"colorscale\":{\"diverging\":[[0,\"#8e0152\"],[0.1,\"#c51b7d\"],[0.2,\"#de77ae\"],[0.3,\"#f1b6da\"],[0.4,\"#fde0ef\"],[0.5,\"#f7f7f7\"],[0.6,\"#e6f5d0\"],[0.7,\"#b8e186\"],[0.8,\"#7fbc41\"],[0.9,\"#4d9221\"],[1,\"#276419\"]],\"sequential\":[[0.0,\"#0d0887\"],[0.1111111111111111,\"#46039f\"],[0.2222222222222222,\"#7201a8\"],[0.3333333333333333,\"#9c179e\"],[0.4444444444444444,\"#bd3786\"],[0.5555555555555556,\"#d8576b\"],[0.6666666666666666,\"#ed7953\"],[0.7777777777777778,\"#fb9f3a\"],[0.8888888888888888,\"#fdca26\"],[1.0,\"#f0f921\"]],\"sequentialminus\":[[0.0,\"#0d0887\"],[0.1111111111111111,\"#46039f\"],[0.2222222222222222,\"#7201a8\"],[0.3333333333333333,\"#9c179e\"],[0.4444444444444444,\"#bd3786\"],[0.5555555555555556,\"#d8576b\"],[0.6666666666666666,\"#ed7953\"],[0.7777777777777778,\"#fb9f3a\"],[0.8888888888888888,\"#fdca26\"],[1.0,\"#f0f921\"]]},\"colorway\":[\"#636efa\",\"#EF553B\",\"#00cc96\",\"#ab63fa\",\"#FFA15A\",\"#19d3f3\",\"#FF6692\",\"#B6E880\",\"#FF97FF\",\"#FECB52\"],\"font\":{\"color\":\"#2a3f5f\"},\"geo\":{\"bgcolor\":\"white\",\"lakecolor\":\"white\",\"landcolor\":\"#E5ECF6\",\"showlakes\":true,\"showland\":true,\"subunitcolor\":\"white\"},\"hoverlabel\":{\"align\":\"left\"},\"hovermode\":\"closest\",\"mapbox\":{\"style\":\"light\"},\"paper_bgcolor\":\"white\",\"plot_bgcolor\":\"#E5ECF6\",\"polar\":{\"angularaxis\":{\"gridcolor\":\"white\",\"linecolor\":\"white\",\"ticks\":\"\"},\"bgcolor\":\"#E5ECF6\",\"radialaxis\":{\"gridcolor\":\"white\",\"linecolor\":\"white\",\"ticks\":\"\"}},\"scene\":{\"xaxis\":{\"backgroundcolor\":\"#E5ECF6\",\"gridcolor\":\"white\",\"gridwidth\":2,\"linecolor\":\"white\",\"showbackground\":true,\"ticks\":\"\",\"zerolinecolor\":\"white\"},\"yaxis\":{\"backgroundcolor\":\"#E5ECF6\",\"gridcolor\":\"white\",\"gridwidth\":2,\"linecolor\":\"white\",\"showbackground\":true,\"ticks\":\"\",\"zerolinecolor\":\"white\"},\"zaxis\":{\"backgroundcolor\":\"#E5ECF6\",\"gridcolor\":\"white\",\"gridwidth\":2,\"linecolor\":\"white\",\"showbackground\":true,\"ticks\":\"\",\"zerolinecolor\":\"white\"}},\"shapedefaults\":{\"line\":{\"color\":\"#2a3f5f\"}},\"ternary\":{\"aaxis\":{\"gridcolor\":\"white\",\"linecolor\":\"white\",\"ticks\":\"\"},\"baxis\":{\"gridcolor\":\"white\",\"linecolor\":\"white\",\"ticks\":\"\"},\"bgcolor\":\"#E5ECF6\",\"caxis\":{\"gridcolor\":\"white\",\"linecolor\":\"white\",\"ticks\":\"\"}},\"title\":{\"x\":0.05},\"xaxis\":{\"automargin\":true,\"gridcolor\":\"white\",\"linecolor\":\"white\",\"ticks\":\"\",\"title\":{\"standoff\":15},\"zerolinecolor\":\"white\",\"zerolinewidth\":2},\"yaxis\":{\"automargin\":true,\"gridcolor\":\"white\",\"linecolor\":\"white\",\"ticks\":\"\",\"title\":{\"standoff\":15},\"zerolinecolor\":\"white\",\"zerolinewidth\":2}}}},                        {\"responsive\": true}                    ).then(function(){\n",
       "                            \n",
       "var gd = document.getElementById('cfef858e-1329-400d-926d-437237404457');\n",
       "var x = new MutationObserver(function (mutations, observer) {{\n",
       "        var display = window.getComputedStyle(gd).display;\n",
       "        if (!display || display === 'none') {{\n",
       "            console.log([gd, 'removed!']);\n",
       "            Plotly.purge(gd);\n",
       "            observer.disconnect();\n",
       "        }}\n",
       "}});\n",
       "\n",
       "// Listen for the removal of the full notebook cells\n",
       "var notebookContainer = gd.closest('#notebook-container');\n",
       "if (notebookContainer) {{\n",
       "    x.observe(notebookContainer, {childList: true});\n",
       "}}\n",
       "\n",
       "// Listen for the clearing of the current output cell\n",
       "var outputEl = gd.closest('.output');\n",
       "if (outputEl) {{\n",
       "    x.observe(outputEl, {childList: true});\n",
       "}}\n",
       "\n",
       "                        })                };                });            </script>        </div>"
      ]
     },
     "metadata": {},
     "output_type": "display_data"
    }
   ],
   "source": [
    "optuna.visualization.plot_optimization_history(study)"
   ]
  },
  {
   "cell_type": "code",
   "execution_count": 199,
   "id": "b1f0ae3b",
   "metadata": {},
   "outputs": [
    {
     "data": {
      "application/vnd.plotly.v1+json": {
       "config": {
        "plotlyServerURL": "https://plot.ly"
       },
       "data": [
        {
         "marker": {
          "color": [
           0,
           1,
           2,
           3,
           4,
           5,
           6,
           7,
           8,
           9,
           10,
           11,
           12,
           13,
           14,
           15,
           16,
           17,
           18,
           19,
           20,
           21,
           22,
           23,
           24,
           25,
           26,
           27,
           28,
           29,
           30,
           31,
           32,
           33,
           34,
           35,
           36,
           37,
           38,
           39,
           40,
           41,
           42,
           43,
           44,
           45,
           46,
           47,
           48,
           49,
           50,
           51,
           52,
           53,
           54,
           55,
           56,
           57,
           58,
           59,
           60,
           61,
           62,
           63,
           64,
           65,
           66,
           67,
           68,
           69,
           70,
           71,
           72,
           73,
           74,
           75,
           76,
           77,
           78,
           79,
           80,
           81,
           82,
           83,
           84,
           85,
           86,
           87,
           88,
           89,
           90,
           91,
           92,
           93,
           94,
           95,
           96,
           97,
           98,
           99
          ],
          "colorbar": {
           "title": {
            "text": "#Trials"
           },
           "x": 1,
           "xpad": 40
          },
          "colorscale": [
           [
            0,
            "rgb(247,251,255)"
           ],
           [
            0.125,
            "rgb(222,235,247)"
           ],
           [
            0.25,
            "rgb(198,219,239)"
           ],
           [
            0.375,
            "rgb(158,202,225)"
           ],
           [
            0.5,
            "rgb(107,174,214)"
           ],
           [
            0.625,
            "rgb(66,146,198)"
           ],
           [
            0.75,
            "rgb(33,113,181)"
           ],
           [
            0.875,
            "rgb(8,81,156)"
           ],
           [
            1,
            "rgb(8,48,107)"
           ]
          ],
          "line": {
           "color": "Grey",
           "width": 0.5
          },
          "showscale": true
         },
         "mode": "markers",
         "showlegend": false,
         "type": "scatter",
         "x": [
          5,
          5,
          2,
          3,
          5,
          3,
          2,
          5,
          5,
          5,
          4,
          4,
          3,
          4,
          4,
          4,
          4,
          4,
          4,
          4,
          4,
          3,
          3,
          3,
          4,
          4,
          4,
          4,
          4,
          4,
          4,
          3,
          5,
          5,
          5,
          5,
          5,
          4,
          4,
          4,
          3,
          2,
          3,
          4,
          4,
          4,
          4,
          4,
          4,
          4,
          4,
          4,
          4,
          5,
          4,
          4,
          4,
          4,
          4,
          4,
          3,
          3,
          4,
          3,
          4,
          4,
          4,
          4,
          4,
          4,
          4,
          4,
          4,
          4,
          4,
          4,
          4,
          4,
          4,
          4,
          4,
          5,
          5,
          2,
          2,
          4,
          4,
          4,
          4,
          4,
          4,
          4,
          4,
          4,
          4,
          4,
          4,
          4,
          4,
          4
         ],
         "xaxis": "x",
         "y": [
          0.008933577254464163,
          0.008933869149396893,
          0.011667667959739399,
          0.01029607415315263,
          0.00905781784045752,
          0.010199846102289349,
          0.01123723387541156,
          0.009752155633544498,
          0.008933869149396893,
          0.008933577254464163,
          0.00914901786650638,
          0.010446719846401853,
          0.009760725829984664,
          0.00883683084136634,
          0.00883683084136634,
          0.008762220806961025,
          0.00883683084136634,
          0.010433011736148846,
          0.010433011736148846,
          0.010433011736148846,
          0.009079398742033298,
          0.01029607415315263,
          0.009000874429529158,
          0.009000874429529158,
          0.009116674587049888,
          0.009116674587049888,
          0.009116674587049888,
          0.009116674587049888,
          0.009116674587049888,
          0.009116674587049888,
          0.008762220806961025,
          0.009413679675506699,
          0.00905781784045752,
          0.00905781784045752,
          0.00905781784045752,
          0.00905781784045752,
          0.008933577254464163,
          0.00914901786650638,
          0.00914901786650638,
          0.00883683084136634,
          0.009419118412094639,
          0.011667667959739399,
          0.01029607415315263,
          0.00968092168775087,
          0.00883683084136634,
          0.00883683084136634,
          0.00883683084136634,
          0.009079398742033298,
          0.010433011736148846,
          0.010433011736148846,
          0.010433011736148846,
          0.009469864126078333,
          0.009162818076681657,
          0.009752155633544498,
          0.009116674587049888,
          0.009116674587049888,
          0.009116674587049888,
          0.009116674587049888,
          0.008823970584399043,
          0.009079398742033298,
          0.009000874429529158,
          0.009000874429529158,
          0.00883683084136634,
          0.009000874429529158,
          0.00883683084136634,
          0.00883683084136634,
          0.00883683084136634,
          0.00883683084136634,
          0.00883683084136634,
          0.00914901786650638,
          0.00914901786650638,
          0.008762220806961025,
          0.008762220806961025,
          0.008762220806961025,
          0.00883683084136634,
          0.008762220806961025,
          0.008762220806961025,
          0.008762220806961025,
          0.008762220806961025,
          0.008762220806961025,
          0.008762220806961025,
          0.00905781784045752,
          0.00905781784045752,
          0.011311835788069916,
          0.011311835788069916,
          0.008762220806961025,
          0.010433011736148846,
          0.008762220806961025,
          0.010433011736148846,
          0.008823970584399043,
          0.010433011736148846,
          0.008823970584399043,
          0.008823970584399043,
          0.008823970584399043,
          0.008762220806961025,
          0.008823970584399043,
          0.008762220806961025,
          0.008762220806961025,
          0.010433011736148846,
          0.010433011736148846
         ],
         "yaxis": "y"
        },
        {
         "marker": {
          "color": [
           0,
           1,
           2,
           3,
           4,
           5,
           6,
           7,
           8,
           9,
           10,
           11,
           12,
           13,
           14,
           15,
           16,
           17,
           18,
           19,
           20,
           21,
           22,
           23,
           24,
           25,
           26,
           27,
           28,
           29,
           30,
           31,
           32,
           33,
           34,
           35,
           36,
           37,
           38,
           39,
           40,
           41,
           42,
           43,
           44,
           45,
           46,
           47,
           48,
           49,
           50,
           51,
           52,
           53,
           54,
           55,
           56,
           57,
           58,
           59,
           60,
           61,
           62,
           63,
           64,
           65,
           66,
           67,
           68,
           69,
           70,
           71,
           72,
           73,
           74,
           75,
           76,
           77,
           78,
           79,
           80,
           81,
           82,
           83,
           84,
           85,
           86,
           87,
           88,
           89,
           90,
           91,
           92,
           93,
           94,
           95,
           96,
           97,
           98,
           99
          ],
          "colorbar": {
           "title": {
            "text": "#Trials"
           },
           "x": 1,
           "xpad": 40
          },
          "colorscale": [
           [
            0,
            "rgb(247,251,255)"
           ],
           [
            0.125,
            "rgb(222,235,247)"
           ],
           [
            0.25,
            "rgb(198,219,239)"
           ],
           [
            0.375,
            "rgb(158,202,225)"
           ],
           [
            0.5,
            "rgb(107,174,214)"
           ],
           [
            0.625,
            "rgb(66,146,198)"
           ],
           [
            0.75,
            "rgb(33,113,181)"
           ],
           [
            0.875,
            "rgb(8,81,156)"
           ],
           [
            1,
            "rgb(8,48,107)"
           ]
          ],
          "line": {
           "color": "Grey",
           "width": 0.5
          },
          "showscale": false
         },
         "mode": "markers",
         "showlegend": false,
         "type": "scatter",
         "x": [
          2079,
          2116,
          2047,
          1925,
          1887,
          2016,
          1966,
          1925,
          2172,
          1974,
          2046,
          1973,
          1804,
          1838,
          2142,
          2143,
          2194,
          2120,
          1817,
          1829,
          2181,
          2197,
          2182,
          2150,
          2128,
          2132,
          2137,
          2131,
          2086,
          2088,
          2090,
          2088,
          2084,
          2164,
          2158,
          2156,
          2160,
          2197,
          2057,
          2106,
          2058,
          2110,
          2017,
          2026,
          1911,
          2106,
          2101,
          2110,
          1917,
          1903,
          1902,
          1947,
          2067,
          1857,
          1991,
          1856,
          2034,
          2035,
          2182,
          2173,
          2143,
          2145,
          2111,
          2179,
          2106,
          2112,
          2192,
          2190,
          2098,
          2123,
          2073,
          2198,
          1953,
          2100,
          2166,
          2187,
          1940,
          2169,
          2169,
          1947,
          1958,
          1942,
          1934,
          1946,
          1945,
          1982,
          1969,
          1997,
          1988,
          1991,
          1987,
          1958,
          2153,
          1960,
          2006,
          1960,
          1960,
          1925,
          2199,
          2005
         ],
         "xaxis": "x2",
         "y": [
          0.008933577254464163,
          0.008933869149396893,
          0.011667667959739399,
          0.01029607415315263,
          0.00905781784045752,
          0.010199846102289349,
          0.01123723387541156,
          0.009752155633544498,
          0.008933869149396893,
          0.008933577254464163,
          0.00914901786650638,
          0.010446719846401853,
          0.009760725829984664,
          0.00883683084136634,
          0.00883683084136634,
          0.008762220806961025,
          0.00883683084136634,
          0.010433011736148846,
          0.010433011736148846,
          0.010433011736148846,
          0.009079398742033298,
          0.01029607415315263,
          0.009000874429529158,
          0.009000874429529158,
          0.009116674587049888,
          0.009116674587049888,
          0.009116674587049888,
          0.009116674587049888,
          0.009116674587049888,
          0.009116674587049888,
          0.008762220806961025,
          0.009413679675506699,
          0.00905781784045752,
          0.00905781784045752,
          0.00905781784045752,
          0.00905781784045752,
          0.008933577254464163,
          0.00914901786650638,
          0.00914901786650638,
          0.00883683084136634,
          0.009419118412094639,
          0.011667667959739399,
          0.01029607415315263,
          0.00968092168775087,
          0.00883683084136634,
          0.00883683084136634,
          0.00883683084136634,
          0.009079398742033298,
          0.010433011736148846,
          0.010433011736148846,
          0.010433011736148846,
          0.009469864126078333,
          0.009162818076681657,
          0.009752155633544498,
          0.009116674587049888,
          0.009116674587049888,
          0.009116674587049888,
          0.009116674587049888,
          0.008823970584399043,
          0.009079398742033298,
          0.009000874429529158,
          0.009000874429529158,
          0.00883683084136634,
          0.009000874429529158,
          0.00883683084136634,
          0.00883683084136634,
          0.00883683084136634,
          0.00883683084136634,
          0.00883683084136634,
          0.00914901786650638,
          0.00914901786650638,
          0.008762220806961025,
          0.008762220806961025,
          0.008762220806961025,
          0.00883683084136634,
          0.008762220806961025,
          0.008762220806961025,
          0.008762220806961025,
          0.008762220806961025,
          0.008762220806961025,
          0.008762220806961025,
          0.00905781784045752,
          0.00905781784045752,
          0.011311835788069916,
          0.011311835788069916,
          0.008762220806961025,
          0.010433011736148846,
          0.008762220806961025,
          0.010433011736148846,
          0.008823970584399043,
          0.010433011736148846,
          0.008823970584399043,
          0.008823970584399043,
          0.008823970584399043,
          0.008762220806961025,
          0.008823970584399043,
          0.008762220806961025,
          0.008762220806961025,
          0.010433011736148846,
          0.010433011736148846
         ],
         "yaxis": "y2"
        },
        {
         "marker": {
          "color": [
           0,
           1,
           2,
           3,
           4,
           5,
           6,
           7,
           8,
           9,
           10,
           11,
           12,
           13,
           14,
           15,
           16,
           17,
           18,
           19,
           20,
           21,
           22,
           23,
           24,
           25,
           26,
           27,
           28,
           29,
           30,
           31,
           32,
           33,
           34,
           35,
           36,
           37,
           38,
           39,
           40,
           41,
           42,
           43,
           44,
           45,
           46,
           47,
           48,
           49,
           50,
           51,
           52,
           53,
           54,
           55,
           56,
           57,
           58,
           59,
           60,
           61,
           62,
           63,
           64,
           65,
           66,
           67,
           68,
           69,
           70,
           71,
           72,
           73,
           74,
           75,
           76,
           77,
           78,
           79,
           80,
           81,
           82,
           83,
           84,
           85,
           86,
           87,
           88,
           89,
           90,
           91,
           92,
           93,
           94,
           95,
           96,
           97,
           98,
           99
          ],
          "colorbar": {
           "title": {
            "text": "#Trials"
           },
           "x": 1,
           "xpad": 40
          },
          "colorscale": [
           [
            0,
            "rgb(247,251,255)"
           ],
           [
            0.125,
            "rgb(222,235,247)"
           ],
           [
            0.25,
            "rgb(198,219,239)"
           ],
           [
            0.375,
            "rgb(158,202,225)"
           ],
           [
            0.5,
            "rgb(107,174,214)"
           ],
           [
            0.625,
            "rgb(66,146,198)"
           ],
           [
            0.75,
            "rgb(33,113,181)"
           ],
           [
            0.875,
            "rgb(8,81,156)"
           ],
           [
            1,
            "rgb(8,48,107)"
           ]
          ],
          "line": {
           "color": "Grey",
           "width": 0.5
          },
          "showscale": false
         },
         "mode": "markers",
         "showlegend": false,
         "type": "scatter",
         "x": [
          0.03,
          0.08,
          0.03,
          0.04,
          0.05,
          0.065,
          0.08,
          0.065,
          0.08,
          0.03,
          0.06,
          0.08,
          0.07,
          0.03,
          0.03,
          0.05,
          0.03,
          0.045,
          0.045,
          0.045,
          0.04,
          0.04,
          0.055,
          0.055,
          0.034999999999999996,
          0.034999999999999996,
          0.034999999999999996,
          0.034999999999999996,
          0.034999999999999996,
          0.034999999999999996,
          0.05,
          0.05,
          0.05,
          0.05,
          0.05,
          0.05,
          0.03,
          0.06,
          0.06,
          0.03,
          0.03,
          0.03,
          0.04,
          0.075,
          0.03,
          0.03,
          0.03,
          0.04,
          0.045,
          0.045,
          0.045,
          0.065,
          0.07,
          0.065,
          0.034999999999999996,
          0.034999999999999996,
          0.034999999999999996,
          0.034999999999999996,
          0.055,
          0.04,
          0.055,
          0.055,
          0.03,
          0.055,
          0.03,
          0.03,
          0.03,
          0.03,
          0.03,
          0.06,
          0.06,
          0.05,
          0.05,
          0.05,
          0.03,
          0.05,
          0.05,
          0.05,
          0.05,
          0.05,
          0.05,
          0.05,
          0.05,
          0.05,
          0.05,
          0.05,
          0.045,
          0.05,
          0.045,
          0.055,
          0.045,
          0.055,
          0.055,
          0.055,
          0.05,
          0.055,
          0.05,
          0.05,
          0.045,
          0.045
         ],
         "xaxis": "x3",
         "y": [
          0.008933577254464163,
          0.008933869149396893,
          0.011667667959739399,
          0.01029607415315263,
          0.00905781784045752,
          0.010199846102289349,
          0.01123723387541156,
          0.009752155633544498,
          0.008933869149396893,
          0.008933577254464163,
          0.00914901786650638,
          0.010446719846401853,
          0.009760725829984664,
          0.00883683084136634,
          0.00883683084136634,
          0.008762220806961025,
          0.00883683084136634,
          0.010433011736148846,
          0.010433011736148846,
          0.010433011736148846,
          0.009079398742033298,
          0.01029607415315263,
          0.009000874429529158,
          0.009000874429529158,
          0.009116674587049888,
          0.009116674587049888,
          0.009116674587049888,
          0.009116674587049888,
          0.009116674587049888,
          0.009116674587049888,
          0.008762220806961025,
          0.009413679675506699,
          0.00905781784045752,
          0.00905781784045752,
          0.00905781784045752,
          0.00905781784045752,
          0.008933577254464163,
          0.00914901786650638,
          0.00914901786650638,
          0.00883683084136634,
          0.009419118412094639,
          0.011667667959739399,
          0.01029607415315263,
          0.00968092168775087,
          0.00883683084136634,
          0.00883683084136634,
          0.00883683084136634,
          0.009079398742033298,
          0.010433011736148846,
          0.010433011736148846,
          0.010433011736148846,
          0.009469864126078333,
          0.009162818076681657,
          0.009752155633544498,
          0.009116674587049888,
          0.009116674587049888,
          0.009116674587049888,
          0.009116674587049888,
          0.008823970584399043,
          0.009079398742033298,
          0.009000874429529158,
          0.009000874429529158,
          0.00883683084136634,
          0.009000874429529158,
          0.00883683084136634,
          0.00883683084136634,
          0.00883683084136634,
          0.00883683084136634,
          0.00883683084136634,
          0.00914901786650638,
          0.00914901786650638,
          0.008762220806961025,
          0.008762220806961025,
          0.008762220806961025,
          0.00883683084136634,
          0.008762220806961025,
          0.008762220806961025,
          0.008762220806961025,
          0.008762220806961025,
          0.008762220806961025,
          0.008762220806961025,
          0.00905781784045752,
          0.00905781784045752,
          0.011311835788069916,
          0.011311835788069916,
          0.008762220806961025,
          0.010433011736148846,
          0.008762220806961025,
          0.010433011736148846,
          0.008823970584399043,
          0.010433011736148846,
          0.008823970584399043,
          0.008823970584399043,
          0.008823970584399043,
          0.008762220806961025,
          0.008823970584399043,
          0.008762220806961025,
          0.008762220806961025,
          0.010433011736148846,
          0.010433011736148846
         ],
         "yaxis": "y3"
        }
       ],
       "layout": {
        "template": {
         "data": {
          "bar": [
           {
            "error_x": {
             "color": "#2a3f5f"
            },
            "error_y": {
             "color": "#2a3f5f"
            },
            "marker": {
             "line": {
              "color": "#E5ECF6",
              "width": 0.5
             },
             "pattern": {
              "fillmode": "overlay",
              "size": 10,
              "solidity": 0.2
             }
            },
            "type": "bar"
           }
          ],
          "barpolar": [
           {
            "marker": {
             "line": {
              "color": "#E5ECF6",
              "width": 0.5
             },
             "pattern": {
              "fillmode": "overlay",
              "size": 10,
              "solidity": 0.2
             }
            },
            "type": "barpolar"
           }
          ],
          "carpet": [
           {
            "aaxis": {
             "endlinecolor": "#2a3f5f",
             "gridcolor": "white",
             "linecolor": "white",
             "minorgridcolor": "white",
             "startlinecolor": "#2a3f5f"
            },
            "baxis": {
             "endlinecolor": "#2a3f5f",
             "gridcolor": "white",
             "linecolor": "white",
             "minorgridcolor": "white",
             "startlinecolor": "#2a3f5f"
            },
            "type": "carpet"
           }
          ],
          "choropleth": [
           {
            "colorbar": {
             "outlinewidth": 0,
             "ticks": ""
            },
            "type": "choropleth"
           }
          ],
          "contour": [
           {
            "colorbar": {
             "outlinewidth": 0,
             "ticks": ""
            },
            "colorscale": [
             [
              0,
              "#0d0887"
             ],
             [
              0.1111111111111111,
              "#46039f"
             ],
             [
              0.2222222222222222,
              "#7201a8"
             ],
             [
              0.3333333333333333,
              "#9c179e"
             ],
             [
              0.4444444444444444,
              "#bd3786"
             ],
             [
              0.5555555555555556,
              "#d8576b"
             ],
             [
              0.6666666666666666,
              "#ed7953"
             ],
             [
              0.7777777777777778,
              "#fb9f3a"
             ],
             [
              0.8888888888888888,
              "#fdca26"
             ],
             [
              1,
              "#f0f921"
             ]
            ],
            "type": "contour"
           }
          ],
          "contourcarpet": [
           {
            "colorbar": {
             "outlinewidth": 0,
             "ticks": ""
            },
            "type": "contourcarpet"
           }
          ],
          "heatmap": [
           {
            "colorbar": {
             "outlinewidth": 0,
             "ticks": ""
            },
            "colorscale": [
             [
              0,
              "#0d0887"
             ],
             [
              0.1111111111111111,
              "#46039f"
             ],
             [
              0.2222222222222222,
              "#7201a8"
             ],
             [
              0.3333333333333333,
              "#9c179e"
             ],
             [
              0.4444444444444444,
              "#bd3786"
             ],
             [
              0.5555555555555556,
              "#d8576b"
             ],
             [
              0.6666666666666666,
              "#ed7953"
             ],
             [
              0.7777777777777778,
              "#fb9f3a"
             ],
             [
              0.8888888888888888,
              "#fdca26"
             ],
             [
              1,
              "#f0f921"
             ]
            ],
            "type": "heatmap"
           }
          ],
          "heatmapgl": [
           {
            "colorbar": {
             "outlinewidth": 0,
             "ticks": ""
            },
            "colorscale": [
             [
              0,
              "#0d0887"
             ],
             [
              0.1111111111111111,
              "#46039f"
             ],
             [
              0.2222222222222222,
              "#7201a8"
             ],
             [
              0.3333333333333333,
              "#9c179e"
             ],
             [
              0.4444444444444444,
              "#bd3786"
             ],
             [
              0.5555555555555556,
              "#d8576b"
             ],
             [
              0.6666666666666666,
              "#ed7953"
             ],
             [
              0.7777777777777778,
              "#fb9f3a"
             ],
             [
              0.8888888888888888,
              "#fdca26"
             ],
             [
              1,
              "#f0f921"
             ]
            ],
            "type": "heatmapgl"
           }
          ],
          "histogram": [
           {
            "marker": {
             "pattern": {
              "fillmode": "overlay",
              "size": 10,
              "solidity": 0.2
             }
            },
            "type": "histogram"
           }
          ],
          "histogram2d": [
           {
            "colorbar": {
             "outlinewidth": 0,
             "ticks": ""
            },
            "colorscale": [
             [
              0,
              "#0d0887"
             ],
             [
              0.1111111111111111,
              "#46039f"
             ],
             [
              0.2222222222222222,
              "#7201a8"
             ],
             [
              0.3333333333333333,
              "#9c179e"
             ],
             [
              0.4444444444444444,
              "#bd3786"
             ],
             [
              0.5555555555555556,
              "#d8576b"
             ],
             [
              0.6666666666666666,
              "#ed7953"
             ],
             [
              0.7777777777777778,
              "#fb9f3a"
             ],
             [
              0.8888888888888888,
              "#fdca26"
             ],
             [
              1,
              "#f0f921"
             ]
            ],
            "type": "histogram2d"
           }
          ],
          "histogram2dcontour": [
           {
            "colorbar": {
             "outlinewidth": 0,
             "ticks": ""
            },
            "colorscale": [
             [
              0,
              "#0d0887"
             ],
             [
              0.1111111111111111,
              "#46039f"
             ],
             [
              0.2222222222222222,
              "#7201a8"
             ],
             [
              0.3333333333333333,
              "#9c179e"
             ],
             [
              0.4444444444444444,
              "#bd3786"
             ],
             [
              0.5555555555555556,
              "#d8576b"
             ],
             [
              0.6666666666666666,
              "#ed7953"
             ],
             [
              0.7777777777777778,
              "#fb9f3a"
             ],
             [
              0.8888888888888888,
              "#fdca26"
             ],
             [
              1,
              "#f0f921"
             ]
            ],
            "type": "histogram2dcontour"
           }
          ],
          "mesh3d": [
           {
            "colorbar": {
             "outlinewidth": 0,
             "ticks": ""
            },
            "type": "mesh3d"
           }
          ],
          "parcoords": [
           {
            "line": {
             "colorbar": {
              "outlinewidth": 0,
              "ticks": ""
             }
            },
            "type": "parcoords"
           }
          ],
          "pie": [
           {
            "automargin": true,
            "type": "pie"
           }
          ],
          "scatter": [
           {
            "marker": {
             "colorbar": {
              "outlinewidth": 0,
              "ticks": ""
             }
            },
            "type": "scatter"
           }
          ],
          "scatter3d": [
           {
            "line": {
             "colorbar": {
              "outlinewidth": 0,
              "ticks": ""
             }
            },
            "marker": {
             "colorbar": {
              "outlinewidth": 0,
              "ticks": ""
             }
            },
            "type": "scatter3d"
           }
          ],
          "scattercarpet": [
           {
            "marker": {
             "colorbar": {
              "outlinewidth": 0,
              "ticks": ""
             }
            },
            "type": "scattercarpet"
           }
          ],
          "scattergeo": [
           {
            "marker": {
             "colorbar": {
              "outlinewidth": 0,
              "ticks": ""
             }
            },
            "type": "scattergeo"
           }
          ],
          "scattergl": [
           {
            "marker": {
             "colorbar": {
              "outlinewidth": 0,
              "ticks": ""
             }
            },
            "type": "scattergl"
           }
          ],
          "scattermapbox": [
           {
            "marker": {
             "colorbar": {
              "outlinewidth": 0,
              "ticks": ""
             }
            },
            "type": "scattermapbox"
           }
          ],
          "scatterpolar": [
           {
            "marker": {
             "colorbar": {
              "outlinewidth": 0,
              "ticks": ""
             }
            },
            "type": "scatterpolar"
           }
          ],
          "scatterpolargl": [
           {
            "marker": {
             "colorbar": {
              "outlinewidth": 0,
              "ticks": ""
             }
            },
            "type": "scatterpolargl"
           }
          ],
          "scatterternary": [
           {
            "marker": {
             "colorbar": {
              "outlinewidth": 0,
              "ticks": ""
             }
            },
            "type": "scatterternary"
           }
          ],
          "surface": [
           {
            "colorbar": {
             "outlinewidth": 0,
             "ticks": ""
            },
            "colorscale": [
             [
              0,
              "#0d0887"
             ],
             [
              0.1111111111111111,
              "#46039f"
             ],
             [
              0.2222222222222222,
              "#7201a8"
             ],
             [
              0.3333333333333333,
              "#9c179e"
             ],
             [
              0.4444444444444444,
              "#bd3786"
             ],
             [
              0.5555555555555556,
              "#d8576b"
             ],
             [
              0.6666666666666666,
              "#ed7953"
             ],
             [
              0.7777777777777778,
              "#fb9f3a"
             ],
             [
              0.8888888888888888,
              "#fdca26"
             ],
             [
              1,
              "#f0f921"
             ]
            ],
            "type": "surface"
           }
          ],
          "table": [
           {
            "cells": {
             "fill": {
              "color": "#EBF0F8"
             },
             "line": {
              "color": "white"
             }
            },
            "header": {
             "fill": {
              "color": "#C8D4E3"
             },
             "line": {
              "color": "white"
             }
            },
            "type": "table"
           }
          ]
         },
         "layout": {
          "annotationdefaults": {
           "arrowcolor": "#2a3f5f",
           "arrowhead": 0,
           "arrowwidth": 1
          },
          "autotypenumbers": "strict",
          "coloraxis": {
           "colorbar": {
            "outlinewidth": 0,
            "ticks": ""
           }
          },
          "colorscale": {
           "diverging": [
            [
             0,
             "#8e0152"
            ],
            [
             0.1,
             "#c51b7d"
            ],
            [
             0.2,
             "#de77ae"
            ],
            [
             0.3,
             "#f1b6da"
            ],
            [
             0.4,
             "#fde0ef"
            ],
            [
             0.5,
             "#f7f7f7"
            ],
            [
             0.6,
             "#e6f5d0"
            ],
            [
             0.7,
             "#b8e186"
            ],
            [
             0.8,
             "#7fbc41"
            ],
            [
             0.9,
             "#4d9221"
            ],
            [
             1,
             "#276419"
            ]
           ],
           "sequential": [
            [
             0,
             "#0d0887"
            ],
            [
             0.1111111111111111,
             "#46039f"
            ],
            [
             0.2222222222222222,
             "#7201a8"
            ],
            [
             0.3333333333333333,
             "#9c179e"
            ],
            [
             0.4444444444444444,
             "#bd3786"
            ],
            [
             0.5555555555555556,
             "#d8576b"
            ],
            [
             0.6666666666666666,
             "#ed7953"
            ],
            [
             0.7777777777777778,
             "#fb9f3a"
            ],
            [
             0.8888888888888888,
             "#fdca26"
            ],
            [
             1,
             "#f0f921"
            ]
           ],
           "sequentialminus": [
            [
             0,
             "#0d0887"
            ],
            [
             0.1111111111111111,
             "#46039f"
            ],
            [
             0.2222222222222222,
             "#7201a8"
            ],
            [
             0.3333333333333333,
             "#9c179e"
            ],
            [
             0.4444444444444444,
             "#bd3786"
            ],
            [
             0.5555555555555556,
             "#d8576b"
            ],
            [
             0.6666666666666666,
             "#ed7953"
            ],
            [
             0.7777777777777778,
             "#fb9f3a"
            ],
            [
             0.8888888888888888,
             "#fdca26"
            ],
            [
             1,
             "#f0f921"
            ]
           ]
          },
          "colorway": [
           "#636efa",
           "#EF553B",
           "#00cc96",
           "#ab63fa",
           "#FFA15A",
           "#19d3f3",
           "#FF6692",
           "#B6E880",
           "#FF97FF",
           "#FECB52"
          ],
          "font": {
           "color": "#2a3f5f"
          },
          "geo": {
           "bgcolor": "white",
           "lakecolor": "white",
           "landcolor": "#E5ECF6",
           "showlakes": true,
           "showland": true,
           "subunitcolor": "white"
          },
          "hoverlabel": {
           "align": "left"
          },
          "hovermode": "closest",
          "mapbox": {
           "style": "light"
          },
          "paper_bgcolor": "white",
          "plot_bgcolor": "#E5ECF6",
          "polar": {
           "angularaxis": {
            "gridcolor": "white",
            "linecolor": "white",
            "ticks": ""
           },
           "bgcolor": "#E5ECF6",
           "radialaxis": {
            "gridcolor": "white",
            "linecolor": "white",
            "ticks": ""
           }
          },
          "scene": {
           "xaxis": {
            "backgroundcolor": "#E5ECF6",
            "gridcolor": "white",
            "gridwidth": 2,
            "linecolor": "white",
            "showbackground": true,
            "ticks": "",
            "zerolinecolor": "white"
           },
           "yaxis": {
            "backgroundcolor": "#E5ECF6",
            "gridcolor": "white",
            "gridwidth": 2,
            "linecolor": "white",
            "showbackground": true,
            "ticks": "",
            "zerolinecolor": "white"
           },
           "zaxis": {
            "backgroundcolor": "#E5ECF6",
            "gridcolor": "white",
            "gridwidth": 2,
            "linecolor": "white",
            "showbackground": true,
            "ticks": "",
            "zerolinecolor": "white"
           }
          },
          "shapedefaults": {
           "line": {
            "color": "#2a3f5f"
           }
          },
          "ternary": {
           "aaxis": {
            "gridcolor": "white",
            "linecolor": "white",
            "ticks": ""
           },
           "baxis": {
            "gridcolor": "white",
            "linecolor": "white",
            "ticks": ""
           },
           "bgcolor": "#E5ECF6",
           "caxis": {
            "gridcolor": "white",
            "linecolor": "white",
            "ticks": ""
           }
          },
          "title": {
           "x": 0.05
          },
          "xaxis": {
           "automargin": true,
           "gridcolor": "white",
           "linecolor": "white",
           "ticks": "",
           "title": {
            "standoff": 15
           },
           "zerolinecolor": "white",
           "zerolinewidth": 2
          },
          "yaxis": {
           "automargin": true,
           "gridcolor": "white",
           "linecolor": "white",
           "ticks": "",
           "title": {
            "standoff": 15
           },
           "zerolinecolor": "white",
           "zerolinewidth": 2
          }
         }
        },
        "title": {
         "text": "Slice Plot"
        },
        "xaxis": {
         "anchor": "y",
         "domain": [
          0,
          0.2888888888888889
         ],
         "title": {
          "text": "depth"
         }
        },
        "xaxis2": {
         "anchor": "y2",
         "domain": [
          0.35555555555555557,
          0.6444444444444445
         ],
         "title": {
          "text": "iterations"
         }
        },
        "xaxis3": {
         "anchor": "y3",
         "domain": [
          0.7111111111111111,
          1
         ],
         "title": {
          "text": "learning_rate"
         }
        },
        "yaxis": {
         "anchor": "x",
         "domain": [
          0,
          1
         ],
         "title": {
          "text": "Objective Value"
         }
        },
        "yaxis2": {
         "anchor": "x2",
         "domain": [
          0,
          1
         ],
         "matches": "y",
         "showticklabels": false
        },
        "yaxis3": {
         "anchor": "x3",
         "domain": [
          0,
          1
         ],
         "matches": "y",
         "showticklabels": false
        }
       }
      },
      "text/html": [
       "<div>                            <div id=\"2cf42469-4442-4485-980c-c5e19b2d7d10\" class=\"plotly-graph-div\" style=\"height:525px; width:100%;\"></div>            <script type=\"text/javascript\">                require([\"plotly\"], function(Plotly) {                    window.PLOTLYENV=window.PLOTLYENV || {};                                    if (document.getElementById(\"2cf42469-4442-4485-980c-c5e19b2d7d10\")) {                    Plotly.newPlot(                        \"2cf42469-4442-4485-980c-c5e19b2d7d10\",                        [{\"marker\":{\"color\":[0,1,2,3,4,5,6,7,8,9,10,11,12,13,14,15,16,17,18,19,20,21,22,23,24,25,26,27,28,29,30,31,32,33,34,35,36,37,38,39,40,41,42,43,44,45,46,47,48,49,50,51,52,53,54,55,56,57,58,59,60,61,62,63,64,65,66,67,68,69,70,71,72,73,74,75,76,77,78,79,80,81,82,83,84,85,86,87,88,89,90,91,92,93,94,95,96,97,98,99],\"colorbar\":{\"title\":{\"text\":\"#Trials\"},\"x\":1.0,\"xpad\":40},\"colorscale\":[[0.0,\"rgb(247,251,255)\"],[0.125,\"rgb(222,235,247)\"],[0.25,\"rgb(198,219,239)\"],[0.375,\"rgb(158,202,225)\"],[0.5,\"rgb(107,174,214)\"],[0.625,\"rgb(66,146,198)\"],[0.75,\"rgb(33,113,181)\"],[0.875,\"rgb(8,81,156)\"],[1.0,\"rgb(8,48,107)\"]],\"line\":{\"color\":\"Grey\",\"width\":0.5},\"showscale\":true},\"mode\":\"markers\",\"showlegend\":false,\"x\":[5,5,2,3,5,3,2,5,5,5,4,4,3,4,4,4,4,4,4,4,4,3,3,3,4,4,4,4,4,4,4,3,5,5,5,5,5,4,4,4,3,2,3,4,4,4,4,4,4,4,4,4,4,5,4,4,4,4,4,4,3,3,4,3,4,4,4,4,4,4,4,4,4,4,4,4,4,4,4,4,4,5,5,2,2,4,4,4,4,4,4,4,4,4,4,4,4,4,4,4],\"y\":[0.008933577254464163,0.008933869149396893,0.011667667959739399,0.01029607415315263,0.00905781784045752,0.010199846102289349,0.01123723387541156,0.009752155633544498,0.008933869149396893,0.008933577254464163,0.00914901786650638,0.010446719846401853,0.009760725829984664,0.00883683084136634,0.00883683084136634,0.008762220806961025,0.00883683084136634,0.010433011736148846,0.010433011736148846,0.010433011736148846,0.009079398742033298,0.01029607415315263,0.009000874429529158,0.009000874429529158,0.009116674587049888,0.009116674587049888,0.009116674587049888,0.009116674587049888,0.009116674587049888,0.009116674587049888,0.008762220806961025,0.009413679675506699,0.00905781784045752,0.00905781784045752,0.00905781784045752,0.00905781784045752,0.008933577254464163,0.00914901786650638,0.00914901786650638,0.00883683084136634,0.009419118412094639,0.011667667959739399,0.01029607415315263,0.00968092168775087,0.00883683084136634,0.00883683084136634,0.00883683084136634,0.009079398742033298,0.010433011736148846,0.010433011736148846,0.010433011736148846,0.009469864126078333,0.009162818076681657,0.009752155633544498,0.009116674587049888,0.009116674587049888,0.009116674587049888,0.009116674587049888,0.008823970584399043,0.009079398742033298,0.009000874429529158,0.009000874429529158,0.00883683084136634,0.009000874429529158,0.00883683084136634,0.00883683084136634,0.00883683084136634,0.00883683084136634,0.00883683084136634,0.00914901786650638,0.00914901786650638,0.008762220806961025,0.008762220806961025,0.008762220806961025,0.00883683084136634,0.008762220806961025,0.008762220806961025,0.008762220806961025,0.008762220806961025,0.008762220806961025,0.008762220806961025,0.00905781784045752,0.00905781784045752,0.011311835788069916,0.011311835788069916,0.008762220806961025,0.010433011736148846,0.008762220806961025,0.010433011736148846,0.008823970584399043,0.010433011736148846,0.008823970584399043,0.008823970584399043,0.008823970584399043,0.008762220806961025,0.008823970584399043,0.008762220806961025,0.008762220806961025,0.010433011736148846,0.010433011736148846],\"type\":\"scatter\",\"xaxis\":\"x\",\"yaxis\":\"y\"},{\"marker\":{\"color\":[0,1,2,3,4,5,6,7,8,9,10,11,12,13,14,15,16,17,18,19,20,21,22,23,24,25,26,27,28,29,30,31,32,33,34,35,36,37,38,39,40,41,42,43,44,45,46,47,48,49,50,51,52,53,54,55,56,57,58,59,60,61,62,63,64,65,66,67,68,69,70,71,72,73,74,75,76,77,78,79,80,81,82,83,84,85,86,87,88,89,90,91,92,93,94,95,96,97,98,99],\"colorbar\":{\"title\":{\"text\":\"#Trials\"},\"x\":1.0,\"xpad\":40},\"colorscale\":[[0.0,\"rgb(247,251,255)\"],[0.125,\"rgb(222,235,247)\"],[0.25,\"rgb(198,219,239)\"],[0.375,\"rgb(158,202,225)\"],[0.5,\"rgb(107,174,214)\"],[0.625,\"rgb(66,146,198)\"],[0.75,\"rgb(33,113,181)\"],[0.875,\"rgb(8,81,156)\"],[1.0,\"rgb(8,48,107)\"]],\"line\":{\"color\":\"Grey\",\"width\":0.5},\"showscale\":false},\"mode\":\"markers\",\"showlegend\":false,\"x\":[2079,2116,2047,1925,1887,2016,1966,1925,2172,1974,2046,1973,1804,1838,2142,2143,2194,2120,1817,1829,2181,2197,2182,2150,2128,2132,2137,2131,2086,2088,2090,2088,2084,2164,2158,2156,2160,2197,2057,2106,2058,2110,2017,2026,1911,2106,2101,2110,1917,1903,1902,1947,2067,1857,1991,1856,2034,2035,2182,2173,2143,2145,2111,2179,2106,2112,2192,2190,2098,2123,2073,2198,1953,2100,2166,2187,1940,2169,2169,1947,1958,1942,1934,1946,1945,1982,1969,1997,1988,1991,1987,1958,2153,1960,2006,1960,1960,1925,2199,2005],\"y\":[0.008933577254464163,0.008933869149396893,0.011667667959739399,0.01029607415315263,0.00905781784045752,0.010199846102289349,0.01123723387541156,0.009752155633544498,0.008933869149396893,0.008933577254464163,0.00914901786650638,0.010446719846401853,0.009760725829984664,0.00883683084136634,0.00883683084136634,0.008762220806961025,0.00883683084136634,0.010433011736148846,0.010433011736148846,0.010433011736148846,0.009079398742033298,0.01029607415315263,0.009000874429529158,0.009000874429529158,0.009116674587049888,0.009116674587049888,0.009116674587049888,0.009116674587049888,0.009116674587049888,0.009116674587049888,0.008762220806961025,0.009413679675506699,0.00905781784045752,0.00905781784045752,0.00905781784045752,0.00905781784045752,0.008933577254464163,0.00914901786650638,0.00914901786650638,0.00883683084136634,0.009419118412094639,0.011667667959739399,0.01029607415315263,0.00968092168775087,0.00883683084136634,0.00883683084136634,0.00883683084136634,0.009079398742033298,0.010433011736148846,0.010433011736148846,0.010433011736148846,0.009469864126078333,0.009162818076681657,0.009752155633544498,0.009116674587049888,0.009116674587049888,0.009116674587049888,0.009116674587049888,0.008823970584399043,0.009079398742033298,0.009000874429529158,0.009000874429529158,0.00883683084136634,0.009000874429529158,0.00883683084136634,0.00883683084136634,0.00883683084136634,0.00883683084136634,0.00883683084136634,0.00914901786650638,0.00914901786650638,0.008762220806961025,0.008762220806961025,0.008762220806961025,0.00883683084136634,0.008762220806961025,0.008762220806961025,0.008762220806961025,0.008762220806961025,0.008762220806961025,0.008762220806961025,0.00905781784045752,0.00905781784045752,0.011311835788069916,0.011311835788069916,0.008762220806961025,0.010433011736148846,0.008762220806961025,0.010433011736148846,0.008823970584399043,0.010433011736148846,0.008823970584399043,0.008823970584399043,0.008823970584399043,0.008762220806961025,0.008823970584399043,0.008762220806961025,0.008762220806961025,0.010433011736148846,0.010433011736148846],\"type\":\"scatter\",\"xaxis\":\"x2\",\"yaxis\":\"y2\"},{\"marker\":{\"color\":[0,1,2,3,4,5,6,7,8,9,10,11,12,13,14,15,16,17,18,19,20,21,22,23,24,25,26,27,28,29,30,31,32,33,34,35,36,37,38,39,40,41,42,43,44,45,46,47,48,49,50,51,52,53,54,55,56,57,58,59,60,61,62,63,64,65,66,67,68,69,70,71,72,73,74,75,76,77,78,79,80,81,82,83,84,85,86,87,88,89,90,91,92,93,94,95,96,97,98,99],\"colorbar\":{\"title\":{\"text\":\"#Trials\"},\"x\":1.0,\"xpad\":40},\"colorscale\":[[0.0,\"rgb(247,251,255)\"],[0.125,\"rgb(222,235,247)\"],[0.25,\"rgb(198,219,239)\"],[0.375,\"rgb(158,202,225)\"],[0.5,\"rgb(107,174,214)\"],[0.625,\"rgb(66,146,198)\"],[0.75,\"rgb(33,113,181)\"],[0.875,\"rgb(8,81,156)\"],[1.0,\"rgb(8,48,107)\"]],\"line\":{\"color\":\"Grey\",\"width\":0.5},\"showscale\":false},\"mode\":\"markers\",\"showlegend\":false,\"x\":[0.03,0.08,0.03,0.04,0.05,0.065,0.08,0.065,0.08,0.03,0.06,0.08,0.07,0.03,0.03,0.05,0.03,0.045,0.045,0.045,0.04,0.04,0.055,0.055,0.034999999999999996,0.034999999999999996,0.034999999999999996,0.034999999999999996,0.034999999999999996,0.034999999999999996,0.05,0.05,0.05,0.05,0.05,0.05,0.03,0.06,0.06,0.03,0.03,0.03,0.04,0.075,0.03,0.03,0.03,0.04,0.045,0.045,0.045,0.065,0.07,0.065,0.034999999999999996,0.034999999999999996,0.034999999999999996,0.034999999999999996,0.055,0.04,0.055,0.055,0.03,0.055,0.03,0.03,0.03,0.03,0.03,0.06,0.06,0.05,0.05,0.05,0.03,0.05,0.05,0.05,0.05,0.05,0.05,0.05,0.05,0.05,0.05,0.05,0.045,0.05,0.045,0.055,0.045,0.055,0.055,0.055,0.05,0.055,0.05,0.05,0.045,0.045],\"y\":[0.008933577254464163,0.008933869149396893,0.011667667959739399,0.01029607415315263,0.00905781784045752,0.010199846102289349,0.01123723387541156,0.009752155633544498,0.008933869149396893,0.008933577254464163,0.00914901786650638,0.010446719846401853,0.009760725829984664,0.00883683084136634,0.00883683084136634,0.008762220806961025,0.00883683084136634,0.010433011736148846,0.010433011736148846,0.010433011736148846,0.009079398742033298,0.01029607415315263,0.009000874429529158,0.009000874429529158,0.009116674587049888,0.009116674587049888,0.009116674587049888,0.009116674587049888,0.009116674587049888,0.009116674587049888,0.008762220806961025,0.009413679675506699,0.00905781784045752,0.00905781784045752,0.00905781784045752,0.00905781784045752,0.008933577254464163,0.00914901786650638,0.00914901786650638,0.00883683084136634,0.009419118412094639,0.011667667959739399,0.01029607415315263,0.00968092168775087,0.00883683084136634,0.00883683084136634,0.00883683084136634,0.009079398742033298,0.010433011736148846,0.010433011736148846,0.010433011736148846,0.009469864126078333,0.009162818076681657,0.009752155633544498,0.009116674587049888,0.009116674587049888,0.009116674587049888,0.009116674587049888,0.008823970584399043,0.009079398742033298,0.009000874429529158,0.009000874429529158,0.00883683084136634,0.009000874429529158,0.00883683084136634,0.00883683084136634,0.00883683084136634,0.00883683084136634,0.00883683084136634,0.00914901786650638,0.00914901786650638,0.008762220806961025,0.008762220806961025,0.008762220806961025,0.00883683084136634,0.008762220806961025,0.008762220806961025,0.008762220806961025,0.008762220806961025,0.008762220806961025,0.008762220806961025,0.00905781784045752,0.00905781784045752,0.011311835788069916,0.011311835788069916,0.008762220806961025,0.010433011736148846,0.008762220806961025,0.010433011736148846,0.008823970584399043,0.010433011736148846,0.008823970584399043,0.008823970584399043,0.008823970584399043,0.008762220806961025,0.008823970584399043,0.008762220806961025,0.008762220806961025,0.010433011736148846,0.010433011736148846],\"type\":\"scatter\",\"xaxis\":\"x3\",\"yaxis\":\"y3\"}],                        {\"template\":{\"data\":{\"bar\":[{\"error_x\":{\"color\":\"#2a3f5f\"},\"error_y\":{\"color\":\"#2a3f5f\"},\"marker\":{\"line\":{\"color\":\"#E5ECF6\",\"width\":0.5},\"pattern\":{\"fillmode\":\"overlay\",\"size\":10,\"solidity\":0.2}},\"type\":\"bar\"}],\"barpolar\":[{\"marker\":{\"line\":{\"color\":\"#E5ECF6\",\"width\":0.5},\"pattern\":{\"fillmode\":\"overlay\",\"size\":10,\"solidity\":0.2}},\"type\":\"barpolar\"}],\"carpet\":[{\"aaxis\":{\"endlinecolor\":\"#2a3f5f\",\"gridcolor\":\"white\",\"linecolor\":\"white\",\"minorgridcolor\":\"white\",\"startlinecolor\":\"#2a3f5f\"},\"baxis\":{\"endlinecolor\":\"#2a3f5f\",\"gridcolor\":\"white\",\"linecolor\":\"white\",\"minorgridcolor\":\"white\",\"startlinecolor\":\"#2a3f5f\"},\"type\":\"carpet\"}],\"choropleth\":[{\"colorbar\":{\"outlinewidth\":0,\"ticks\":\"\"},\"type\":\"choropleth\"}],\"contour\":[{\"colorbar\":{\"outlinewidth\":0,\"ticks\":\"\"},\"colorscale\":[[0.0,\"#0d0887\"],[0.1111111111111111,\"#46039f\"],[0.2222222222222222,\"#7201a8\"],[0.3333333333333333,\"#9c179e\"],[0.4444444444444444,\"#bd3786\"],[0.5555555555555556,\"#d8576b\"],[0.6666666666666666,\"#ed7953\"],[0.7777777777777778,\"#fb9f3a\"],[0.8888888888888888,\"#fdca26\"],[1.0,\"#f0f921\"]],\"type\":\"contour\"}],\"contourcarpet\":[{\"colorbar\":{\"outlinewidth\":0,\"ticks\":\"\"},\"type\":\"contourcarpet\"}],\"heatmap\":[{\"colorbar\":{\"outlinewidth\":0,\"ticks\":\"\"},\"colorscale\":[[0.0,\"#0d0887\"],[0.1111111111111111,\"#46039f\"],[0.2222222222222222,\"#7201a8\"],[0.3333333333333333,\"#9c179e\"],[0.4444444444444444,\"#bd3786\"],[0.5555555555555556,\"#d8576b\"],[0.6666666666666666,\"#ed7953\"],[0.7777777777777778,\"#fb9f3a\"],[0.8888888888888888,\"#fdca26\"],[1.0,\"#f0f921\"]],\"type\":\"heatmap\"}],\"heatmapgl\":[{\"colorbar\":{\"outlinewidth\":0,\"ticks\":\"\"},\"colorscale\":[[0.0,\"#0d0887\"],[0.1111111111111111,\"#46039f\"],[0.2222222222222222,\"#7201a8\"],[0.3333333333333333,\"#9c179e\"],[0.4444444444444444,\"#bd3786\"],[0.5555555555555556,\"#d8576b\"],[0.6666666666666666,\"#ed7953\"],[0.7777777777777778,\"#fb9f3a\"],[0.8888888888888888,\"#fdca26\"],[1.0,\"#f0f921\"]],\"type\":\"heatmapgl\"}],\"histogram\":[{\"marker\":{\"pattern\":{\"fillmode\":\"overlay\",\"size\":10,\"solidity\":0.2}},\"type\":\"histogram\"}],\"histogram2d\":[{\"colorbar\":{\"outlinewidth\":0,\"ticks\":\"\"},\"colorscale\":[[0.0,\"#0d0887\"],[0.1111111111111111,\"#46039f\"],[0.2222222222222222,\"#7201a8\"],[0.3333333333333333,\"#9c179e\"],[0.4444444444444444,\"#bd3786\"],[0.5555555555555556,\"#d8576b\"],[0.6666666666666666,\"#ed7953\"],[0.7777777777777778,\"#fb9f3a\"],[0.8888888888888888,\"#fdca26\"],[1.0,\"#f0f921\"]],\"type\":\"histogram2d\"}],\"histogram2dcontour\":[{\"colorbar\":{\"outlinewidth\":0,\"ticks\":\"\"},\"colorscale\":[[0.0,\"#0d0887\"],[0.1111111111111111,\"#46039f\"],[0.2222222222222222,\"#7201a8\"],[0.3333333333333333,\"#9c179e\"],[0.4444444444444444,\"#bd3786\"],[0.5555555555555556,\"#d8576b\"],[0.6666666666666666,\"#ed7953\"],[0.7777777777777778,\"#fb9f3a\"],[0.8888888888888888,\"#fdca26\"],[1.0,\"#f0f921\"]],\"type\":\"histogram2dcontour\"}],\"mesh3d\":[{\"colorbar\":{\"outlinewidth\":0,\"ticks\":\"\"},\"type\":\"mesh3d\"}],\"parcoords\":[{\"line\":{\"colorbar\":{\"outlinewidth\":0,\"ticks\":\"\"}},\"type\":\"parcoords\"}],\"pie\":[{\"automargin\":true,\"type\":\"pie\"}],\"scatter\":[{\"marker\":{\"colorbar\":{\"outlinewidth\":0,\"ticks\":\"\"}},\"type\":\"scatter\"}],\"scatter3d\":[{\"line\":{\"colorbar\":{\"outlinewidth\":0,\"ticks\":\"\"}},\"marker\":{\"colorbar\":{\"outlinewidth\":0,\"ticks\":\"\"}},\"type\":\"scatter3d\"}],\"scattercarpet\":[{\"marker\":{\"colorbar\":{\"outlinewidth\":0,\"ticks\":\"\"}},\"type\":\"scattercarpet\"}],\"scattergeo\":[{\"marker\":{\"colorbar\":{\"outlinewidth\":0,\"ticks\":\"\"}},\"type\":\"scattergeo\"}],\"scattergl\":[{\"marker\":{\"colorbar\":{\"outlinewidth\":0,\"ticks\":\"\"}},\"type\":\"scattergl\"}],\"scattermapbox\":[{\"marker\":{\"colorbar\":{\"outlinewidth\":0,\"ticks\":\"\"}},\"type\":\"scattermapbox\"}],\"scatterpolar\":[{\"marker\":{\"colorbar\":{\"outlinewidth\":0,\"ticks\":\"\"}},\"type\":\"scatterpolar\"}],\"scatterpolargl\":[{\"marker\":{\"colorbar\":{\"outlinewidth\":0,\"ticks\":\"\"}},\"type\":\"scatterpolargl\"}],\"scatterternary\":[{\"marker\":{\"colorbar\":{\"outlinewidth\":0,\"ticks\":\"\"}},\"type\":\"scatterternary\"}],\"surface\":[{\"colorbar\":{\"outlinewidth\":0,\"ticks\":\"\"},\"colorscale\":[[0.0,\"#0d0887\"],[0.1111111111111111,\"#46039f\"],[0.2222222222222222,\"#7201a8\"],[0.3333333333333333,\"#9c179e\"],[0.4444444444444444,\"#bd3786\"],[0.5555555555555556,\"#d8576b\"],[0.6666666666666666,\"#ed7953\"],[0.7777777777777778,\"#fb9f3a\"],[0.8888888888888888,\"#fdca26\"],[1.0,\"#f0f921\"]],\"type\":\"surface\"}],\"table\":[{\"cells\":{\"fill\":{\"color\":\"#EBF0F8\"},\"line\":{\"color\":\"white\"}},\"header\":{\"fill\":{\"color\":\"#C8D4E3\"},\"line\":{\"color\":\"white\"}},\"type\":\"table\"}]},\"layout\":{\"annotationdefaults\":{\"arrowcolor\":\"#2a3f5f\",\"arrowhead\":0,\"arrowwidth\":1},\"autotypenumbers\":\"strict\",\"coloraxis\":{\"colorbar\":{\"outlinewidth\":0,\"ticks\":\"\"}},\"colorscale\":{\"diverging\":[[0,\"#8e0152\"],[0.1,\"#c51b7d\"],[0.2,\"#de77ae\"],[0.3,\"#f1b6da\"],[0.4,\"#fde0ef\"],[0.5,\"#f7f7f7\"],[0.6,\"#e6f5d0\"],[0.7,\"#b8e186\"],[0.8,\"#7fbc41\"],[0.9,\"#4d9221\"],[1,\"#276419\"]],\"sequential\":[[0.0,\"#0d0887\"],[0.1111111111111111,\"#46039f\"],[0.2222222222222222,\"#7201a8\"],[0.3333333333333333,\"#9c179e\"],[0.4444444444444444,\"#bd3786\"],[0.5555555555555556,\"#d8576b\"],[0.6666666666666666,\"#ed7953\"],[0.7777777777777778,\"#fb9f3a\"],[0.8888888888888888,\"#fdca26\"],[1.0,\"#f0f921\"]],\"sequentialminus\":[[0.0,\"#0d0887\"],[0.1111111111111111,\"#46039f\"],[0.2222222222222222,\"#7201a8\"],[0.3333333333333333,\"#9c179e\"],[0.4444444444444444,\"#bd3786\"],[0.5555555555555556,\"#d8576b\"],[0.6666666666666666,\"#ed7953\"],[0.7777777777777778,\"#fb9f3a\"],[0.8888888888888888,\"#fdca26\"],[1.0,\"#f0f921\"]]},\"colorway\":[\"#636efa\",\"#EF553B\",\"#00cc96\",\"#ab63fa\",\"#FFA15A\",\"#19d3f3\",\"#FF6692\",\"#B6E880\",\"#FF97FF\",\"#FECB52\"],\"font\":{\"color\":\"#2a3f5f\"},\"geo\":{\"bgcolor\":\"white\",\"lakecolor\":\"white\",\"landcolor\":\"#E5ECF6\",\"showlakes\":true,\"showland\":true,\"subunitcolor\":\"white\"},\"hoverlabel\":{\"align\":\"left\"},\"hovermode\":\"closest\",\"mapbox\":{\"style\":\"light\"},\"paper_bgcolor\":\"white\",\"plot_bgcolor\":\"#E5ECF6\",\"polar\":{\"angularaxis\":{\"gridcolor\":\"white\",\"linecolor\":\"white\",\"ticks\":\"\"},\"bgcolor\":\"#E5ECF6\",\"radialaxis\":{\"gridcolor\":\"white\",\"linecolor\":\"white\",\"ticks\":\"\"}},\"scene\":{\"xaxis\":{\"backgroundcolor\":\"#E5ECF6\",\"gridcolor\":\"white\",\"gridwidth\":2,\"linecolor\":\"white\",\"showbackground\":true,\"ticks\":\"\",\"zerolinecolor\":\"white\"},\"yaxis\":{\"backgroundcolor\":\"#E5ECF6\",\"gridcolor\":\"white\",\"gridwidth\":2,\"linecolor\":\"white\",\"showbackground\":true,\"ticks\":\"\",\"zerolinecolor\":\"white\"},\"zaxis\":{\"backgroundcolor\":\"#E5ECF6\",\"gridcolor\":\"white\",\"gridwidth\":2,\"linecolor\":\"white\",\"showbackground\":true,\"ticks\":\"\",\"zerolinecolor\":\"white\"}},\"shapedefaults\":{\"line\":{\"color\":\"#2a3f5f\"}},\"ternary\":{\"aaxis\":{\"gridcolor\":\"white\",\"linecolor\":\"white\",\"ticks\":\"\"},\"baxis\":{\"gridcolor\":\"white\",\"linecolor\":\"white\",\"ticks\":\"\"},\"bgcolor\":\"#E5ECF6\",\"caxis\":{\"gridcolor\":\"white\",\"linecolor\":\"white\",\"ticks\":\"\"}},\"title\":{\"x\":0.05},\"xaxis\":{\"automargin\":true,\"gridcolor\":\"white\",\"linecolor\":\"white\",\"ticks\":\"\",\"title\":{\"standoff\":15},\"zerolinecolor\":\"white\",\"zerolinewidth\":2},\"yaxis\":{\"automargin\":true,\"gridcolor\":\"white\",\"linecolor\":\"white\",\"ticks\":\"\",\"title\":{\"standoff\":15},\"zerolinecolor\":\"white\",\"zerolinewidth\":2}}},\"xaxis\":{\"anchor\":\"y\",\"domain\":[0.0,0.2888888888888889],\"title\":{\"text\":\"depth\"}},\"yaxis\":{\"anchor\":\"x\",\"domain\":[0.0,1.0],\"title\":{\"text\":\"Objective Value\"}},\"xaxis2\":{\"anchor\":\"y2\",\"domain\":[0.35555555555555557,0.6444444444444445],\"title\":{\"text\":\"iterations\"}},\"yaxis2\":{\"anchor\":\"x2\",\"domain\":[0.0,1.0],\"matches\":\"y\",\"showticklabels\":false},\"xaxis3\":{\"anchor\":\"y3\",\"domain\":[0.7111111111111111,1.0],\"title\":{\"text\":\"learning_rate\"}},\"yaxis3\":{\"anchor\":\"x3\",\"domain\":[0.0,1.0],\"matches\":\"y\",\"showticklabels\":false},\"title\":{\"text\":\"Slice Plot\"}},                        {\"responsive\": true}                    ).then(function(){\n",
       "                            \n",
       "var gd = document.getElementById('2cf42469-4442-4485-980c-c5e19b2d7d10');\n",
       "var x = new MutationObserver(function (mutations, observer) {{\n",
       "        var display = window.getComputedStyle(gd).display;\n",
       "        if (!display || display === 'none') {{\n",
       "            console.log([gd, 'removed!']);\n",
       "            Plotly.purge(gd);\n",
       "            observer.disconnect();\n",
       "        }}\n",
       "}});\n",
       "\n",
       "// Listen for the removal of the full notebook cells\n",
       "var notebookContainer = gd.closest('#notebook-container');\n",
       "if (notebookContainer) {{\n",
       "    x.observe(notebookContainer, {childList: true});\n",
       "}}\n",
       "\n",
       "// Listen for the clearing of the current output cell\n",
       "var outputEl = gd.closest('.output');\n",
       "if (outputEl) {{\n",
       "    x.observe(outputEl, {childList: true});\n",
       "}}\n",
       "\n",
       "                        })                };                });            </script>        </div>"
      ]
     },
     "metadata": {},
     "output_type": "display_data"
    }
   ],
   "source": [
    "optuna.visualization.plot_slice(study)"
   ]
  },
  {
   "cell_type": "code",
   "execution_count": 200,
   "id": "8692bf78",
   "metadata": {
    "scrolled": false
   },
   "outputs": [
    {
     "data": {
      "application/vnd.plotly.v1+json": {
       "config": {
        "plotlyServerURL": "https://plot.ly"
       },
       "data": [
        {
         "colorbar": {
          "title": {
           "text": "Objective Value"
          }
         },
         "colorscale": [
          [
           0,
           "rgb(5,10,172)"
          ],
          [
           0.35,
           "rgb(40,60,190)"
          ],
          [
           0.5,
           "rgb(70,100,245)"
          ],
          [
           0.6,
           "rgb(90,120,245)"
          ],
          [
           0.7,
           "rgb(106,137,247)"
          ],
          [
           1,
           "rgb(220,220,220)"
          ]
         ],
         "connectgaps": true,
         "contours": {
          "coloring": "heatmap"
         },
         "hoverinfo": "none",
         "line": {
          "smoothing": 1.3
         },
         "reversescale": true,
         "type": "contour",
         "x": [
          1.85,
          2,
          3,
          4,
          5,
          5.15
         ],
         "y": [
          0.027499999999999997,
          0.03,
          0.034999999999999996,
          0.04,
          0.045,
          0.05,
          0.055,
          0.06,
          0.065,
          0.07,
          0.075,
          0.08,
          0.0825
         ],
         "z": [
          [
           null,
           null,
           null,
           null,
           null,
           null
          ],
          [
           null,
           0.011667667959739399,
           0.009419118412094639,
           0.00883683084136634,
           0.008933577254464163,
           null
          ],
          [
           null,
           null,
           null,
           0.009116674587049888,
           null,
           null
          ],
          [
           null,
           null,
           0.01029607415315263,
           0.009079398742033298,
           null,
           null
          ],
          [
           null,
           null,
           null,
           0.010433011736148846,
           null,
           null
          ],
          [
           null,
           0.011311835788069916,
           0.009413679675506699,
           0.008762220806961025,
           0.00905781784045752,
           null
          ],
          [
           null,
           null,
           0.009000874429529158,
           0.008823970584399043,
           null,
           null
          ],
          [
           null,
           null,
           null,
           0.00914901786650638,
           null,
           null
          ],
          [
           null,
           null,
           0.010199846102289349,
           0.009469864126078333,
           0.009752155633544498,
           null
          ],
          [
           null,
           null,
           0.009760725829984664,
           0.009162818076681657,
           null,
           null
          ],
          [
           null,
           null,
           null,
           0.00968092168775087,
           null,
           null
          ],
          [
           null,
           0.01123723387541156,
           null,
           0.010446719846401853,
           0.008933869149396893,
           null
          ],
          [
           null,
           null,
           null,
           null,
           null,
           null
          ]
         ]
        },
        {
         "marker": {
          "color": "black",
          "line": {
           "color": "Grey",
           "width": 0.5
          }
         },
         "mode": "markers",
         "showlegend": false,
         "type": "scatter",
         "x": [
          5,
          5,
          2,
          3,
          5,
          3,
          2,
          5,
          5,
          5,
          4,
          4,
          3,
          4,
          4,
          4,
          4,
          4,
          4,
          4,
          4,
          3,
          3,
          3,
          4,
          4,
          4,
          4,
          4,
          4,
          4,
          3,
          5,
          5,
          5,
          5,
          5,
          4,
          4,
          4,
          3,
          2,
          3,
          4,
          4,
          4,
          4,
          4,
          4,
          4,
          4,
          4,
          4,
          5,
          4,
          4,
          4,
          4,
          4,
          4,
          3,
          3,
          4,
          3,
          4,
          4,
          4,
          4,
          4,
          4,
          4,
          4,
          4,
          4,
          4,
          4,
          4,
          4,
          4,
          4,
          4,
          5,
          5,
          2,
          2,
          4,
          4,
          4,
          4,
          4,
          4,
          4,
          4,
          4,
          4,
          4,
          4,
          4,
          4,
          4
         ],
         "y": [
          0.03,
          0.08,
          0.03,
          0.04,
          0.05,
          0.065,
          0.08,
          0.065,
          0.08,
          0.03,
          0.06,
          0.08,
          0.07,
          0.03,
          0.03,
          0.05,
          0.03,
          0.045,
          0.045,
          0.045,
          0.04,
          0.04,
          0.055,
          0.055,
          0.034999999999999996,
          0.034999999999999996,
          0.034999999999999996,
          0.034999999999999996,
          0.034999999999999996,
          0.034999999999999996,
          0.05,
          0.05,
          0.05,
          0.05,
          0.05,
          0.05,
          0.03,
          0.06,
          0.06,
          0.03,
          0.03,
          0.03,
          0.04,
          0.075,
          0.03,
          0.03,
          0.03,
          0.04,
          0.045,
          0.045,
          0.045,
          0.065,
          0.07,
          0.065,
          0.034999999999999996,
          0.034999999999999996,
          0.034999999999999996,
          0.034999999999999996,
          0.055,
          0.04,
          0.055,
          0.055,
          0.03,
          0.055,
          0.03,
          0.03,
          0.03,
          0.03,
          0.03,
          0.06,
          0.06,
          0.05,
          0.05,
          0.05,
          0.03,
          0.05,
          0.05,
          0.05,
          0.05,
          0.05,
          0.05,
          0.05,
          0.05,
          0.05,
          0.05,
          0.05,
          0.045,
          0.05,
          0.045,
          0.055,
          0.045,
          0.055,
          0.055,
          0.055,
          0.05,
          0.055,
          0.05,
          0.05,
          0.045,
          0.045
         ]
        }
       ],
       "layout": {
        "template": {
         "data": {
          "bar": [
           {
            "error_x": {
             "color": "#2a3f5f"
            },
            "error_y": {
             "color": "#2a3f5f"
            },
            "marker": {
             "line": {
              "color": "#E5ECF6",
              "width": 0.5
             },
             "pattern": {
              "fillmode": "overlay",
              "size": 10,
              "solidity": 0.2
             }
            },
            "type": "bar"
           }
          ],
          "barpolar": [
           {
            "marker": {
             "line": {
              "color": "#E5ECF6",
              "width": 0.5
             },
             "pattern": {
              "fillmode": "overlay",
              "size": 10,
              "solidity": 0.2
             }
            },
            "type": "barpolar"
           }
          ],
          "carpet": [
           {
            "aaxis": {
             "endlinecolor": "#2a3f5f",
             "gridcolor": "white",
             "linecolor": "white",
             "minorgridcolor": "white",
             "startlinecolor": "#2a3f5f"
            },
            "baxis": {
             "endlinecolor": "#2a3f5f",
             "gridcolor": "white",
             "linecolor": "white",
             "minorgridcolor": "white",
             "startlinecolor": "#2a3f5f"
            },
            "type": "carpet"
           }
          ],
          "choropleth": [
           {
            "colorbar": {
             "outlinewidth": 0,
             "ticks": ""
            },
            "type": "choropleth"
           }
          ],
          "contour": [
           {
            "colorbar": {
             "outlinewidth": 0,
             "ticks": ""
            },
            "colorscale": [
             [
              0,
              "#0d0887"
             ],
             [
              0.1111111111111111,
              "#46039f"
             ],
             [
              0.2222222222222222,
              "#7201a8"
             ],
             [
              0.3333333333333333,
              "#9c179e"
             ],
             [
              0.4444444444444444,
              "#bd3786"
             ],
             [
              0.5555555555555556,
              "#d8576b"
             ],
             [
              0.6666666666666666,
              "#ed7953"
             ],
             [
              0.7777777777777778,
              "#fb9f3a"
             ],
             [
              0.8888888888888888,
              "#fdca26"
             ],
             [
              1,
              "#f0f921"
             ]
            ],
            "type": "contour"
           }
          ],
          "contourcarpet": [
           {
            "colorbar": {
             "outlinewidth": 0,
             "ticks": ""
            },
            "type": "contourcarpet"
           }
          ],
          "heatmap": [
           {
            "colorbar": {
             "outlinewidth": 0,
             "ticks": ""
            },
            "colorscale": [
             [
              0,
              "#0d0887"
             ],
             [
              0.1111111111111111,
              "#46039f"
             ],
             [
              0.2222222222222222,
              "#7201a8"
             ],
             [
              0.3333333333333333,
              "#9c179e"
             ],
             [
              0.4444444444444444,
              "#bd3786"
             ],
             [
              0.5555555555555556,
              "#d8576b"
             ],
             [
              0.6666666666666666,
              "#ed7953"
             ],
             [
              0.7777777777777778,
              "#fb9f3a"
             ],
             [
              0.8888888888888888,
              "#fdca26"
             ],
             [
              1,
              "#f0f921"
             ]
            ],
            "type": "heatmap"
           }
          ],
          "heatmapgl": [
           {
            "colorbar": {
             "outlinewidth": 0,
             "ticks": ""
            },
            "colorscale": [
             [
              0,
              "#0d0887"
             ],
             [
              0.1111111111111111,
              "#46039f"
             ],
             [
              0.2222222222222222,
              "#7201a8"
             ],
             [
              0.3333333333333333,
              "#9c179e"
             ],
             [
              0.4444444444444444,
              "#bd3786"
             ],
             [
              0.5555555555555556,
              "#d8576b"
             ],
             [
              0.6666666666666666,
              "#ed7953"
             ],
             [
              0.7777777777777778,
              "#fb9f3a"
             ],
             [
              0.8888888888888888,
              "#fdca26"
             ],
             [
              1,
              "#f0f921"
             ]
            ],
            "type": "heatmapgl"
           }
          ],
          "histogram": [
           {
            "marker": {
             "pattern": {
              "fillmode": "overlay",
              "size": 10,
              "solidity": 0.2
             }
            },
            "type": "histogram"
           }
          ],
          "histogram2d": [
           {
            "colorbar": {
             "outlinewidth": 0,
             "ticks": ""
            },
            "colorscale": [
             [
              0,
              "#0d0887"
             ],
             [
              0.1111111111111111,
              "#46039f"
             ],
             [
              0.2222222222222222,
              "#7201a8"
             ],
             [
              0.3333333333333333,
              "#9c179e"
             ],
             [
              0.4444444444444444,
              "#bd3786"
             ],
             [
              0.5555555555555556,
              "#d8576b"
             ],
             [
              0.6666666666666666,
              "#ed7953"
             ],
             [
              0.7777777777777778,
              "#fb9f3a"
             ],
             [
              0.8888888888888888,
              "#fdca26"
             ],
             [
              1,
              "#f0f921"
             ]
            ],
            "type": "histogram2d"
           }
          ],
          "histogram2dcontour": [
           {
            "colorbar": {
             "outlinewidth": 0,
             "ticks": ""
            },
            "colorscale": [
             [
              0,
              "#0d0887"
             ],
             [
              0.1111111111111111,
              "#46039f"
             ],
             [
              0.2222222222222222,
              "#7201a8"
             ],
             [
              0.3333333333333333,
              "#9c179e"
             ],
             [
              0.4444444444444444,
              "#bd3786"
             ],
             [
              0.5555555555555556,
              "#d8576b"
             ],
             [
              0.6666666666666666,
              "#ed7953"
             ],
             [
              0.7777777777777778,
              "#fb9f3a"
             ],
             [
              0.8888888888888888,
              "#fdca26"
             ],
             [
              1,
              "#f0f921"
             ]
            ],
            "type": "histogram2dcontour"
           }
          ],
          "mesh3d": [
           {
            "colorbar": {
             "outlinewidth": 0,
             "ticks": ""
            },
            "type": "mesh3d"
           }
          ],
          "parcoords": [
           {
            "line": {
             "colorbar": {
              "outlinewidth": 0,
              "ticks": ""
             }
            },
            "type": "parcoords"
           }
          ],
          "pie": [
           {
            "automargin": true,
            "type": "pie"
           }
          ],
          "scatter": [
           {
            "marker": {
             "colorbar": {
              "outlinewidth": 0,
              "ticks": ""
             }
            },
            "type": "scatter"
           }
          ],
          "scatter3d": [
           {
            "line": {
             "colorbar": {
              "outlinewidth": 0,
              "ticks": ""
             }
            },
            "marker": {
             "colorbar": {
              "outlinewidth": 0,
              "ticks": ""
             }
            },
            "type": "scatter3d"
           }
          ],
          "scattercarpet": [
           {
            "marker": {
             "colorbar": {
              "outlinewidth": 0,
              "ticks": ""
             }
            },
            "type": "scattercarpet"
           }
          ],
          "scattergeo": [
           {
            "marker": {
             "colorbar": {
              "outlinewidth": 0,
              "ticks": ""
             }
            },
            "type": "scattergeo"
           }
          ],
          "scattergl": [
           {
            "marker": {
             "colorbar": {
              "outlinewidth": 0,
              "ticks": ""
             }
            },
            "type": "scattergl"
           }
          ],
          "scattermapbox": [
           {
            "marker": {
             "colorbar": {
              "outlinewidth": 0,
              "ticks": ""
             }
            },
            "type": "scattermapbox"
           }
          ],
          "scatterpolar": [
           {
            "marker": {
             "colorbar": {
              "outlinewidth": 0,
              "ticks": ""
             }
            },
            "type": "scatterpolar"
           }
          ],
          "scatterpolargl": [
           {
            "marker": {
             "colorbar": {
              "outlinewidth": 0,
              "ticks": ""
             }
            },
            "type": "scatterpolargl"
           }
          ],
          "scatterternary": [
           {
            "marker": {
             "colorbar": {
              "outlinewidth": 0,
              "ticks": ""
             }
            },
            "type": "scatterternary"
           }
          ],
          "surface": [
           {
            "colorbar": {
             "outlinewidth": 0,
             "ticks": ""
            },
            "colorscale": [
             [
              0,
              "#0d0887"
             ],
             [
              0.1111111111111111,
              "#46039f"
             ],
             [
              0.2222222222222222,
              "#7201a8"
             ],
             [
              0.3333333333333333,
              "#9c179e"
             ],
             [
              0.4444444444444444,
              "#bd3786"
             ],
             [
              0.5555555555555556,
              "#d8576b"
             ],
             [
              0.6666666666666666,
              "#ed7953"
             ],
             [
              0.7777777777777778,
              "#fb9f3a"
             ],
             [
              0.8888888888888888,
              "#fdca26"
             ],
             [
              1,
              "#f0f921"
             ]
            ],
            "type": "surface"
           }
          ],
          "table": [
           {
            "cells": {
             "fill": {
              "color": "#EBF0F8"
             },
             "line": {
              "color": "white"
             }
            },
            "header": {
             "fill": {
              "color": "#C8D4E3"
             },
             "line": {
              "color": "white"
             }
            },
            "type": "table"
           }
          ]
         },
         "layout": {
          "annotationdefaults": {
           "arrowcolor": "#2a3f5f",
           "arrowhead": 0,
           "arrowwidth": 1
          },
          "autotypenumbers": "strict",
          "coloraxis": {
           "colorbar": {
            "outlinewidth": 0,
            "ticks": ""
           }
          },
          "colorscale": {
           "diverging": [
            [
             0,
             "#8e0152"
            ],
            [
             0.1,
             "#c51b7d"
            ],
            [
             0.2,
             "#de77ae"
            ],
            [
             0.3,
             "#f1b6da"
            ],
            [
             0.4,
             "#fde0ef"
            ],
            [
             0.5,
             "#f7f7f7"
            ],
            [
             0.6,
             "#e6f5d0"
            ],
            [
             0.7,
             "#b8e186"
            ],
            [
             0.8,
             "#7fbc41"
            ],
            [
             0.9,
             "#4d9221"
            ],
            [
             1,
             "#276419"
            ]
           ],
           "sequential": [
            [
             0,
             "#0d0887"
            ],
            [
             0.1111111111111111,
             "#46039f"
            ],
            [
             0.2222222222222222,
             "#7201a8"
            ],
            [
             0.3333333333333333,
             "#9c179e"
            ],
            [
             0.4444444444444444,
             "#bd3786"
            ],
            [
             0.5555555555555556,
             "#d8576b"
            ],
            [
             0.6666666666666666,
             "#ed7953"
            ],
            [
             0.7777777777777778,
             "#fb9f3a"
            ],
            [
             0.8888888888888888,
             "#fdca26"
            ],
            [
             1,
             "#f0f921"
            ]
           ],
           "sequentialminus": [
            [
             0,
             "#0d0887"
            ],
            [
             0.1111111111111111,
             "#46039f"
            ],
            [
             0.2222222222222222,
             "#7201a8"
            ],
            [
             0.3333333333333333,
             "#9c179e"
            ],
            [
             0.4444444444444444,
             "#bd3786"
            ],
            [
             0.5555555555555556,
             "#d8576b"
            ],
            [
             0.6666666666666666,
             "#ed7953"
            ],
            [
             0.7777777777777778,
             "#fb9f3a"
            ],
            [
             0.8888888888888888,
             "#fdca26"
            ],
            [
             1,
             "#f0f921"
            ]
           ]
          },
          "colorway": [
           "#636efa",
           "#EF553B",
           "#00cc96",
           "#ab63fa",
           "#FFA15A",
           "#19d3f3",
           "#FF6692",
           "#B6E880",
           "#FF97FF",
           "#FECB52"
          ],
          "font": {
           "color": "#2a3f5f"
          },
          "geo": {
           "bgcolor": "white",
           "lakecolor": "white",
           "landcolor": "#E5ECF6",
           "showlakes": true,
           "showland": true,
           "subunitcolor": "white"
          },
          "hoverlabel": {
           "align": "left"
          },
          "hovermode": "closest",
          "mapbox": {
           "style": "light"
          },
          "paper_bgcolor": "white",
          "plot_bgcolor": "#E5ECF6",
          "polar": {
           "angularaxis": {
            "gridcolor": "white",
            "linecolor": "white",
            "ticks": ""
           },
           "bgcolor": "#E5ECF6",
           "radialaxis": {
            "gridcolor": "white",
            "linecolor": "white",
            "ticks": ""
           }
          },
          "scene": {
           "xaxis": {
            "backgroundcolor": "#E5ECF6",
            "gridcolor": "white",
            "gridwidth": 2,
            "linecolor": "white",
            "showbackground": true,
            "ticks": "",
            "zerolinecolor": "white"
           },
           "yaxis": {
            "backgroundcolor": "#E5ECF6",
            "gridcolor": "white",
            "gridwidth": 2,
            "linecolor": "white",
            "showbackground": true,
            "ticks": "",
            "zerolinecolor": "white"
           },
           "zaxis": {
            "backgroundcolor": "#E5ECF6",
            "gridcolor": "white",
            "gridwidth": 2,
            "linecolor": "white",
            "showbackground": true,
            "ticks": "",
            "zerolinecolor": "white"
           }
          },
          "shapedefaults": {
           "line": {
            "color": "#2a3f5f"
           }
          },
          "ternary": {
           "aaxis": {
            "gridcolor": "white",
            "linecolor": "white",
            "ticks": ""
           },
           "baxis": {
            "gridcolor": "white",
            "linecolor": "white",
            "ticks": ""
           },
           "bgcolor": "#E5ECF6",
           "caxis": {
            "gridcolor": "white",
            "linecolor": "white",
            "ticks": ""
           }
          },
          "title": {
           "x": 0.05
          },
          "xaxis": {
           "automargin": true,
           "gridcolor": "white",
           "linecolor": "white",
           "ticks": "",
           "title": {
            "standoff": 15
           },
           "zerolinecolor": "white",
           "zerolinewidth": 2
          },
          "yaxis": {
           "automargin": true,
           "gridcolor": "white",
           "linecolor": "white",
           "ticks": "",
           "title": {
            "standoff": 15
           },
           "zerolinecolor": "white",
           "zerolinewidth": 2
          }
         }
        },
        "title": {
         "text": "Contour Plot"
        },
        "xaxis": {
         "range": [
          1.85,
          5.15
         ],
         "title": {
          "text": "depth"
         }
        },
        "yaxis": {
         "range": [
          0.027499999999999997,
          0.0825
         ],
         "title": {
          "text": "learning_rate"
         }
        }
       }
      },
      "text/html": [
       "<div>                            <div id=\"3272ba00-3cd9-475d-8c1c-7dc4f741aff2\" class=\"plotly-graph-div\" style=\"height:525px; width:100%;\"></div>            <script type=\"text/javascript\">                require([\"plotly\"], function(Plotly) {                    window.PLOTLYENV=window.PLOTLYENV || {};                                    if (document.getElementById(\"3272ba00-3cd9-475d-8c1c-7dc4f741aff2\")) {                    Plotly.newPlot(                        \"3272ba00-3cd9-475d-8c1c-7dc4f741aff2\",                        [{\"colorbar\":{\"title\":{\"text\":\"Objective Value\"}},\"colorscale\":[[0,\"rgb(5,10,172)\"],[0.35,\"rgb(40,60,190)\"],[0.5,\"rgb(70,100,245)\"],[0.6,\"rgb(90,120,245)\"],[0.7,\"rgb(106,137,247)\"],[1,\"rgb(220,220,220)\"]],\"connectgaps\":true,\"contours\":{\"coloring\":\"heatmap\"},\"hoverinfo\":\"none\",\"line\":{\"smoothing\":1.3},\"reversescale\":true,\"x\":[1.85,2,3,4,5,5.15],\"y\":[0.027499999999999997,0.03,0.034999999999999996,0.04,0.045,0.05,0.055,0.06,0.065,0.07,0.075,0.08,0.0825],\"z\":[[null,null,null,null,null,null],[null,0.011667667959739399,0.009419118412094639,0.00883683084136634,0.008933577254464163,null],[null,null,null,0.009116674587049888,null,null],[null,null,0.01029607415315263,0.009079398742033298,null,null],[null,null,null,0.010433011736148846,null,null],[null,0.011311835788069916,0.009413679675506699,0.008762220806961025,0.00905781784045752,null],[null,null,0.009000874429529158,0.008823970584399043,null,null],[null,null,null,0.00914901786650638,null,null],[null,null,0.010199846102289349,0.009469864126078333,0.009752155633544498,null],[null,null,0.009760725829984664,0.009162818076681657,null,null],[null,null,null,0.00968092168775087,null,null],[null,0.01123723387541156,null,0.010446719846401853,0.008933869149396893,null],[null,null,null,null,null,null]],\"type\":\"contour\"},{\"marker\":{\"color\":\"black\",\"line\":{\"color\":\"Grey\",\"width\":0.5}},\"mode\":\"markers\",\"showlegend\":false,\"x\":[5,5,2,3,5,3,2,5,5,5,4,4,3,4,4,4,4,4,4,4,4,3,3,3,4,4,4,4,4,4,4,3,5,5,5,5,5,4,4,4,3,2,3,4,4,4,4,4,4,4,4,4,4,5,4,4,4,4,4,4,3,3,4,3,4,4,4,4,4,4,4,4,4,4,4,4,4,4,4,4,4,5,5,2,2,4,4,4,4,4,4,4,4,4,4,4,4,4,4,4],\"y\":[0.03,0.08,0.03,0.04,0.05,0.065,0.08,0.065,0.08,0.03,0.06,0.08,0.07,0.03,0.03,0.05,0.03,0.045,0.045,0.045,0.04,0.04,0.055,0.055,0.034999999999999996,0.034999999999999996,0.034999999999999996,0.034999999999999996,0.034999999999999996,0.034999999999999996,0.05,0.05,0.05,0.05,0.05,0.05,0.03,0.06,0.06,0.03,0.03,0.03,0.04,0.075,0.03,0.03,0.03,0.04,0.045,0.045,0.045,0.065,0.07,0.065,0.034999999999999996,0.034999999999999996,0.034999999999999996,0.034999999999999996,0.055,0.04,0.055,0.055,0.03,0.055,0.03,0.03,0.03,0.03,0.03,0.06,0.06,0.05,0.05,0.05,0.03,0.05,0.05,0.05,0.05,0.05,0.05,0.05,0.05,0.05,0.05,0.05,0.045,0.05,0.045,0.055,0.045,0.055,0.055,0.055,0.05,0.055,0.05,0.05,0.045,0.045],\"type\":\"scatter\"}],                        {\"title\":{\"text\":\"Contour Plot\"},\"template\":{\"data\":{\"bar\":[{\"error_x\":{\"color\":\"#2a3f5f\"},\"error_y\":{\"color\":\"#2a3f5f\"},\"marker\":{\"line\":{\"color\":\"#E5ECF6\",\"width\":0.5},\"pattern\":{\"fillmode\":\"overlay\",\"size\":10,\"solidity\":0.2}},\"type\":\"bar\"}],\"barpolar\":[{\"marker\":{\"line\":{\"color\":\"#E5ECF6\",\"width\":0.5},\"pattern\":{\"fillmode\":\"overlay\",\"size\":10,\"solidity\":0.2}},\"type\":\"barpolar\"}],\"carpet\":[{\"aaxis\":{\"endlinecolor\":\"#2a3f5f\",\"gridcolor\":\"white\",\"linecolor\":\"white\",\"minorgridcolor\":\"white\",\"startlinecolor\":\"#2a3f5f\"},\"baxis\":{\"endlinecolor\":\"#2a3f5f\",\"gridcolor\":\"white\",\"linecolor\":\"white\",\"minorgridcolor\":\"white\",\"startlinecolor\":\"#2a3f5f\"},\"type\":\"carpet\"}],\"choropleth\":[{\"colorbar\":{\"outlinewidth\":0,\"ticks\":\"\"},\"type\":\"choropleth\"}],\"contour\":[{\"colorbar\":{\"outlinewidth\":0,\"ticks\":\"\"},\"colorscale\":[[0.0,\"#0d0887\"],[0.1111111111111111,\"#46039f\"],[0.2222222222222222,\"#7201a8\"],[0.3333333333333333,\"#9c179e\"],[0.4444444444444444,\"#bd3786\"],[0.5555555555555556,\"#d8576b\"],[0.6666666666666666,\"#ed7953\"],[0.7777777777777778,\"#fb9f3a\"],[0.8888888888888888,\"#fdca26\"],[1.0,\"#f0f921\"]],\"type\":\"contour\"}],\"contourcarpet\":[{\"colorbar\":{\"outlinewidth\":0,\"ticks\":\"\"},\"type\":\"contourcarpet\"}],\"heatmap\":[{\"colorbar\":{\"outlinewidth\":0,\"ticks\":\"\"},\"colorscale\":[[0.0,\"#0d0887\"],[0.1111111111111111,\"#46039f\"],[0.2222222222222222,\"#7201a8\"],[0.3333333333333333,\"#9c179e\"],[0.4444444444444444,\"#bd3786\"],[0.5555555555555556,\"#d8576b\"],[0.6666666666666666,\"#ed7953\"],[0.7777777777777778,\"#fb9f3a\"],[0.8888888888888888,\"#fdca26\"],[1.0,\"#f0f921\"]],\"type\":\"heatmap\"}],\"heatmapgl\":[{\"colorbar\":{\"outlinewidth\":0,\"ticks\":\"\"},\"colorscale\":[[0.0,\"#0d0887\"],[0.1111111111111111,\"#46039f\"],[0.2222222222222222,\"#7201a8\"],[0.3333333333333333,\"#9c179e\"],[0.4444444444444444,\"#bd3786\"],[0.5555555555555556,\"#d8576b\"],[0.6666666666666666,\"#ed7953\"],[0.7777777777777778,\"#fb9f3a\"],[0.8888888888888888,\"#fdca26\"],[1.0,\"#f0f921\"]],\"type\":\"heatmapgl\"}],\"histogram\":[{\"marker\":{\"pattern\":{\"fillmode\":\"overlay\",\"size\":10,\"solidity\":0.2}},\"type\":\"histogram\"}],\"histogram2d\":[{\"colorbar\":{\"outlinewidth\":0,\"ticks\":\"\"},\"colorscale\":[[0.0,\"#0d0887\"],[0.1111111111111111,\"#46039f\"],[0.2222222222222222,\"#7201a8\"],[0.3333333333333333,\"#9c179e\"],[0.4444444444444444,\"#bd3786\"],[0.5555555555555556,\"#d8576b\"],[0.6666666666666666,\"#ed7953\"],[0.7777777777777778,\"#fb9f3a\"],[0.8888888888888888,\"#fdca26\"],[1.0,\"#f0f921\"]],\"type\":\"histogram2d\"}],\"histogram2dcontour\":[{\"colorbar\":{\"outlinewidth\":0,\"ticks\":\"\"},\"colorscale\":[[0.0,\"#0d0887\"],[0.1111111111111111,\"#46039f\"],[0.2222222222222222,\"#7201a8\"],[0.3333333333333333,\"#9c179e\"],[0.4444444444444444,\"#bd3786\"],[0.5555555555555556,\"#d8576b\"],[0.6666666666666666,\"#ed7953\"],[0.7777777777777778,\"#fb9f3a\"],[0.8888888888888888,\"#fdca26\"],[1.0,\"#f0f921\"]],\"type\":\"histogram2dcontour\"}],\"mesh3d\":[{\"colorbar\":{\"outlinewidth\":0,\"ticks\":\"\"},\"type\":\"mesh3d\"}],\"parcoords\":[{\"line\":{\"colorbar\":{\"outlinewidth\":0,\"ticks\":\"\"}},\"type\":\"parcoords\"}],\"pie\":[{\"automargin\":true,\"type\":\"pie\"}],\"scatter\":[{\"marker\":{\"colorbar\":{\"outlinewidth\":0,\"ticks\":\"\"}},\"type\":\"scatter\"}],\"scatter3d\":[{\"line\":{\"colorbar\":{\"outlinewidth\":0,\"ticks\":\"\"}},\"marker\":{\"colorbar\":{\"outlinewidth\":0,\"ticks\":\"\"}},\"type\":\"scatter3d\"}],\"scattercarpet\":[{\"marker\":{\"colorbar\":{\"outlinewidth\":0,\"ticks\":\"\"}},\"type\":\"scattercarpet\"}],\"scattergeo\":[{\"marker\":{\"colorbar\":{\"outlinewidth\":0,\"ticks\":\"\"}},\"type\":\"scattergeo\"}],\"scattergl\":[{\"marker\":{\"colorbar\":{\"outlinewidth\":0,\"ticks\":\"\"}},\"type\":\"scattergl\"}],\"scattermapbox\":[{\"marker\":{\"colorbar\":{\"outlinewidth\":0,\"ticks\":\"\"}},\"type\":\"scattermapbox\"}],\"scatterpolar\":[{\"marker\":{\"colorbar\":{\"outlinewidth\":0,\"ticks\":\"\"}},\"type\":\"scatterpolar\"}],\"scatterpolargl\":[{\"marker\":{\"colorbar\":{\"outlinewidth\":0,\"ticks\":\"\"}},\"type\":\"scatterpolargl\"}],\"scatterternary\":[{\"marker\":{\"colorbar\":{\"outlinewidth\":0,\"ticks\":\"\"}},\"type\":\"scatterternary\"}],\"surface\":[{\"colorbar\":{\"outlinewidth\":0,\"ticks\":\"\"},\"colorscale\":[[0.0,\"#0d0887\"],[0.1111111111111111,\"#46039f\"],[0.2222222222222222,\"#7201a8\"],[0.3333333333333333,\"#9c179e\"],[0.4444444444444444,\"#bd3786\"],[0.5555555555555556,\"#d8576b\"],[0.6666666666666666,\"#ed7953\"],[0.7777777777777778,\"#fb9f3a\"],[0.8888888888888888,\"#fdca26\"],[1.0,\"#f0f921\"]],\"type\":\"surface\"}],\"table\":[{\"cells\":{\"fill\":{\"color\":\"#EBF0F8\"},\"line\":{\"color\":\"white\"}},\"header\":{\"fill\":{\"color\":\"#C8D4E3\"},\"line\":{\"color\":\"white\"}},\"type\":\"table\"}]},\"layout\":{\"annotationdefaults\":{\"arrowcolor\":\"#2a3f5f\",\"arrowhead\":0,\"arrowwidth\":1},\"autotypenumbers\":\"strict\",\"coloraxis\":{\"colorbar\":{\"outlinewidth\":0,\"ticks\":\"\"}},\"colorscale\":{\"diverging\":[[0,\"#8e0152\"],[0.1,\"#c51b7d\"],[0.2,\"#de77ae\"],[0.3,\"#f1b6da\"],[0.4,\"#fde0ef\"],[0.5,\"#f7f7f7\"],[0.6,\"#e6f5d0\"],[0.7,\"#b8e186\"],[0.8,\"#7fbc41\"],[0.9,\"#4d9221\"],[1,\"#276419\"]],\"sequential\":[[0.0,\"#0d0887\"],[0.1111111111111111,\"#46039f\"],[0.2222222222222222,\"#7201a8\"],[0.3333333333333333,\"#9c179e\"],[0.4444444444444444,\"#bd3786\"],[0.5555555555555556,\"#d8576b\"],[0.6666666666666666,\"#ed7953\"],[0.7777777777777778,\"#fb9f3a\"],[0.8888888888888888,\"#fdca26\"],[1.0,\"#f0f921\"]],\"sequentialminus\":[[0.0,\"#0d0887\"],[0.1111111111111111,\"#46039f\"],[0.2222222222222222,\"#7201a8\"],[0.3333333333333333,\"#9c179e\"],[0.4444444444444444,\"#bd3786\"],[0.5555555555555556,\"#d8576b\"],[0.6666666666666666,\"#ed7953\"],[0.7777777777777778,\"#fb9f3a\"],[0.8888888888888888,\"#fdca26\"],[1.0,\"#f0f921\"]]},\"colorway\":[\"#636efa\",\"#EF553B\",\"#00cc96\",\"#ab63fa\",\"#FFA15A\",\"#19d3f3\",\"#FF6692\",\"#B6E880\",\"#FF97FF\",\"#FECB52\"],\"font\":{\"color\":\"#2a3f5f\"},\"geo\":{\"bgcolor\":\"white\",\"lakecolor\":\"white\",\"landcolor\":\"#E5ECF6\",\"showlakes\":true,\"showland\":true,\"subunitcolor\":\"white\"},\"hoverlabel\":{\"align\":\"left\"},\"hovermode\":\"closest\",\"mapbox\":{\"style\":\"light\"},\"paper_bgcolor\":\"white\",\"plot_bgcolor\":\"#E5ECF6\",\"polar\":{\"angularaxis\":{\"gridcolor\":\"white\",\"linecolor\":\"white\",\"ticks\":\"\"},\"bgcolor\":\"#E5ECF6\",\"radialaxis\":{\"gridcolor\":\"white\",\"linecolor\":\"white\",\"ticks\":\"\"}},\"scene\":{\"xaxis\":{\"backgroundcolor\":\"#E5ECF6\",\"gridcolor\":\"white\",\"gridwidth\":2,\"linecolor\":\"white\",\"showbackground\":true,\"ticks\":\"\",\"zerolinecolor\":\"white\"},\"yaxis\":{\"backgroundcolor\":\"#E5ECF6\",\"gridcolor\":\"white\",\"gridwidth\":2,\"linecolor\":\"white\",\"showbackground\":true,\"ticks\":\"\",\"zerolinecolor\":\"white\"},\"zaxis\":{\"backgroundcolor\":\"#E5ECF6\",\"gridcolor\":\"white\",\"gridwidth\":2,\"linecolor\":\"white\",\"showbackground\":true,\"ticks\":\"\",\"zerolinecolor\":\"white\"}},\"shapedefaults\":{\"line\":{\"color\":\"#2a3f5f\"}},\"ternary\":{\"aaxis\":{\"gridcolor\":\"white\",\"linecolor\":\"white\",\"ticks\":\"\"},\"baxis\":{\"gridcolor\":\"white\",\"linecolor\":\"white\",\"ticks\":\"\"},\"bgcolor\":\"#E5ECF6\",\"caxis\":{\"gridcolor\":\"white\",\"linecolor\":\"white\",\"ticks\":\"\"}},\"title\":{\"x\":0.05},\"xaxis\":{\"automargin\":true,\"gridcolor\":\"white\",\"linecolor\":\"white\",\"ticks\":\"\",\"title\":{\"standoff\":15},\"zerolinecolor\":\"white\",\"zerolinewidth\":2},\"yaxis\":{\"automargin\":true,\"gridcolor\":\"white\",\"linecolor\":\"white\",\"ticks\":\"\",\"title\":{\"standoff\":15},\"zerolinecolor\":\"white\",\"zerolinewidth\":2}}},\"xaxis\":{\"title\":{\"text\":\"depth\"},\"range\":[1.85,5.15]},\"yaxis\":{\"title\":{\"text\":\"learning_rate\"},\"range\":[0.027499999999999997,0.0825]}},                        {\"responsive\": true}                    ).then(function(){\n",
       "                            \n",
       "var gd = document.getElementById('3272ba00-3cd9-475d-8c1c-7dc4f741aff2');\n",
       "var x = new MutationObserver(function (mutations, observer) {{\n",
       "        var display = window.getComputedStyle(gd).display;\n",
       "        if (!display || display === 'none') {{\n",
       "            console.log([gd, 'removed!']);\n",
       "            Plotly.purge(gd);\n",
       "            observer.disconnect();\n",
       "        }}\n",
       "}});\n",
       "\n",
       "// Listen for the removal of the full notebook cells\n",
       "var notebookContainer = gd.closest('#notebook-container');\n",
       "if (notebookContainer) {{\n",
       "    x.observe(notebookContainer, {childList: true});\n",
       "}}\n",
       "\n",
       "// Listen for the clearing of the current output cell\n",
       "var outputEl = gd.closest('.output');\n",
       "if (outputEl) {{\n",
       "    x.observe(outputEl, {childList: true});\n",
       "}}\n",
       "\n",
       "                        })                };                });            </script>        </div>"
      ]
     },
     "metadata": {},
     "output_type": "display_data"
    }
   ],
   "source": [
    "optuna.visualization.plot_contour(study, params=['learning_rate',\n",
    "                                                 'depth'\n",
    "                                                 ])"
   ]
  },
  {
   "cell_type": "code",
   "execution_count": 201,
   "id": "3c38a322",
   "metadata": {},
   "outputs": [
    {
     "data": {
      "application/vnd.plotly.v1+json": {
       "config": {
        "plotlyServerURL": "https://plot.ly"
       },
       "data": [
        {
         "cliponaxis": false,
         "hovertemplate": [
          "iterations (IntUniformDistribution): 0.084592797978332<extra></extra>",
          "learning_rate (DiscreteUniformDistribution): 0.14669534107157967<extra></extra>",
          "depth (IntUniformDistribution): 0.7687118609500884<extra></extra>"
         ],
         "marker": {
          "color": "rgb(66,146,198)"
         },
         "orientation": "h",
         "text": [
          "0.084592797978332",
          "0.14669534107157967",
          "0.7687118609500884"
         ],
         "textposition": "outside",
         "texttemplate": "%{text:.2f}",
         "type": "bar",
         "x": [
          0.084592797978332,
          0.14669534107157967,
          0.7687118609500884
         ],
         "y": [
          "iterations",
          "learning_rate",
          "depth"
         ]
        }
       ],
       "layout": {
        "showlegend": false,
        "template": {
         "data": {
          "bar": [
           {
            "error_x": {
             "color": "#2a3f5f"
            },
            "error_y": {
             "color": "#2a3f5f"
            },
            "marker": {
             "line": {
              "color": "#E5ECF6",
              "width": 0.5
             },
             "pattern": {
              "fillmode": "overlay",
              "size": 10,
              "solidity": 0.2
             }
            },
            "type": "bar"
           }
          ],
          "barpolar": [
           {
            "marker": {
             "line": {
              "color": "#E5ECF6",
              "width": 0.5
             },
             "pattern": {
              "fillmode": "overlay",
              "size": 10,
              "solidity": 0.2
             }
            },
            "type": "barpolar"
           }
          ],
          "carpet": [
           {
            "aaxis": {
             "endlinecolor": "#2a3f5f",
             "gridcolor": "white",
             "linecolor": "white",
             "minorgridcolor": "white",
             "startlinecolor": "#2a3f5f"
            },
            "baxis": {
             "endlinecolor": "#2a3f5f",
             "gridcolor": "white",
             "linecolor": "white",
             "minorgridcolor": "white",
             "startlinecolor": "#2a3f5f"
            },
            "type": "carpet"
           }
          ],
          "choropleth": [
           {
            "colorbar": {
             "outlinewidth": 0,
             "ticks": ""
            },
            "type": "choropleth"
           }
          ],
          "contour": [
           {
            "colorbar": {
             "outlinewidth": 0,
             "ticks": ""
            },
            "colorscale": [
             [
              0,
              "#0d0887"
             ],
             [
              0.1111111111111111,
              "#46039f"
             ],
             [
              0.2222222222222222,
              "#7201a8"
             ],
             [
              0.3333333333333333,
              "#9c179e"
             ],
             [
              0.4444444444444444,
              "#bd3786"
             ],
             [
              0.5555555555555556,
              "#d8576b"
             ],
             [
              0.6666666666666666,
              "#ed7953"
             ],
             [
              0.7777777777777778,
              "#fb9f3a"
             ],
             [
              0.8888888888888888,
              "#fdca26"
             ],
             [
              1,
              "#f0f921"
             ]
            ],
            "type": "contour"
           }
          ],
          "contourcarpet": [
           {
            "colorbar": {
             "outlinewidth": 0,
             "ticks": ""
            },
            "type": "contourcarpet"
           }
          ],
          "heatmap": [
           {
            "colorbar": {
             "outlinewidth": 0,
             "ticks": ""
            },
            "colorscale": [
             [
              0,
              "#0d0887"
             ],
             [
              0.1111111111111111,
              "#46039f"
             ],
             [
              0.2222222222222222,
              "#7201a8"
             ],
             [
              0.3333333333333333,
              "#9c179e"
             ],
             [
              0.4444444444444444,
              "#bd3786"
             ],
             [
              0.5555555555555556,
              "#d8576b"
             ],
             [
              0.6666666666666666,
              "#ed7953"
             ],
             [
              0.7777777777777778,
              "#fb9f3a"
             ],
             [
              0.8888888888888888,
              "#fdca26"
             ],
             [
              1,
              "#f0f921"
             ]
            ],
            "type": "heatmap"
           }
          ],
          "heatmapgl": [
           {
            "colorbar": {
             "outlinewidth": 0,
             "ticks": ""
            },
            "colorscale": [
             [
              0,
              "#0d0887"
             ],
             [
              0.1111111111111111,
              "#46039f"
             ],
             [
              0.2222222222222222,
              "#7201a8"
             ],
             [
              0.3333333333333333,
              "#9c179e"
             ],
             [
              0.4444444444444444,
              "#bd3786"
             ],
             [
              0.5555555555555556,
              "#d8576b"
             ],
             [
              0.6666666666666666,
              "#ed7953"
             ],
             [
              0.7777777777777778,
              "#fb9f3a"
             ],
             [
              0.8888888888888888,
              "#fdca26"
             ],
             [
              1,
              "#f0f921"
             ]
            ],
            "type": "heatmapgl"
           }
          ],
          "histogram": [
           {
            "marker": {
             "pattern": {
              "fillmode": "overlay",
              "size": 10,
              "solidity": 0.2
             }
            },
            "type": "histogram"
           }
          ],
          "histogram2d": [
           {
            "colorbar": {
             "outlinewidth": 0,
             "ticks": ""
            },
            "colorscale": [
             [
              0,
              "#0d0887"
             ],
             [
              0.1111111111111111,
              "#46039f"
             ],
             [
              0.2222222222222222,
              "#7201a8"
             ],
             [
              0.3333333333333333,
              "#9c179e"
             ],
             [
              0.4444444444444444,
              "#bd3786"
             ],
             [
              0.5555555555555556,
              "#d8576b"
             ],
             [
              0.6666666666666666,
              "#ed7953"
             ],
             [
              0.7777777777777778,
              "#fb9f3a"
             ],
             [
              0.8888888888888888,
              "#fdca26"
             ],
             [
              1,
              "#f0f921"
             ]
            ],
            "type": "histogram2d"
           }
          ],
          "histogram2dcontour": [
           {
            "colorbar": {
             "outlinewidth": 0,
             "ticks": ""
            },
            "colorscale": [
             [
              0,
              "#0d0887"
             ],
             [
              0.1111111111111111,
              "#46039f"
             ],
             [
              0.2222222222222222,
              "#7201a8"
             ],
             [
              0.3333333333333333,
              "#9c179e"
             ],
             [
              0.4444444444444444,
              "#bd3786"
             ],
             [
              0.5555555555555556,
              "#d8576b"
             ],
             [
              0.6666666666666666,
              "#ed7953"
             ],
             [
              0.7777777777777778,
              "#fb9f3a"
             ],
             [
              0.8888888888888888,
              "#fdca26"
             ],
             [
              1,
              "#f0f921"
             ]
            ],
            "type": "histogram2dcontour"
           }
          ],
          "mesh3d": [
           {
            "colorbar": {
             "outlinewidth": 0,
             "ticks": ""
            },
            "type": "mesh3d"
           }
          ],
          "parcoords": [
           {
            "line": {
             "colorbar": {
              "outlinewidth": 0,
              "ticks": ""
             }
            },
            "type": "parcoords"
           }
          ],
          "pie": [
           {
            "automargin": true,
            "type": "pie"
           }
          ],
          "scatter": [
           {
            "marker": {
             "colorbar": {
              "outlinewidth": 0,
              "ticks": ""
             }
            },
            "type": "scatter"
           }
          ],
          "scatter3d": [
           {
            "line": {
             "colorbar": {
              "outlinewidth": 0,
              "ticks": ""
             }
            },
            "marker": {
             "colorbar": {
              "outlinewidth": 0,
              "ticks": ""
             }
            },
            "type": "scatter3d"
           }
          ],
          "scattercarpet": [
           {
            "marker": {
             "colorbar": {
              "outlinewidth": 0,
              "ticks": ""
             }
            },
            "type": "scattercarpet"
           }
          ],
          "scattergeo": [
           {
            "marker": {
             "colorbar": {
              "outlinewidth": 0,
              "ticks": ""
             }
            },
            "type": "scattergeo"
           }
          ],
          "scattergl": [
           {
            "marker": {
             "colorbar": {
              "outlinewidth": 0,
              "ticks": ""
             }
            },
            "type": "scattergl"
           }
          ],
          "scattermapbox": [
           {
            "marker": {
             "colorbar": {
              "outlinewidth": 0,
              "ticks": ""
             }
            },
            "type": "scattermapbox"
           }
          ],
          "scatterpolar": [
           {
            "marker": {
             "colorbar": {
              "outlinewidth": 0,
              "ticks": ""
             }
            },
            "type": "scatterpolar"
           }
          ],
          "scatterpolargl": [
           {
            "marker": {
             "colorbar": {
              "outlinewidth": 0,
              "ticks": ""
             }
            },
            "type": "scatterpolargl"
           }
          ],
          "scatterternary": [
           {
            "marker": {
             "colorbar": {
              "outlinewidth": 0,
              "ticks": ""
             }
            },
            "type": "scatterternary"
           }
          ],
          "surface": [
           {
            "colorbar": {
             "outlinewidth": 0,
             "ticks": ""
            },
            "colorscale": [
             [
              0,
              "#0d0887"
             ],
             [
              0.1111111111111111,
              "#46039f"
             ],
             [
              0.2222222222222222,
              "#7201a8"
             ],
             [
              0.3333333333333333,
              "#9c179e"
             ],
             [
              0.4444444444444444,
              "#bd3786"
             ],
             [
              0.5555555555555556,
              "#d8576b"
             ],
             [
              0.6666666666666666,
              "#ed7953"
             ],
             [
              0.7777777777777778,
              "#fb9f3a"
             ],
             [
              0.8888888888888888,
              "#fdca26"
             ],
             [
              1,
              "#f0f921"
             ]
            ],
            "type": "surface"
           }
          ],
          "table": [
           {
            "cells": {
             "fill": {
              "color": "#EBF0F8"
             },
             "line": {
              "color": "white"
             }
            },
            "header": {
             "fill": {
              "color": "#C8D4E3"
             },
             "line": {
              "color": "white"
             }
            },
            "type": "table"
           }
          ]
         },
         "layout": {
          "annotationdefaults": {
           "arrowcolor": "#2a3f5f",
           "arrowhead": 0,
           "arrowwidth": 1
          },
          "autotypenumbers": "strict",
          "coloraxis": {
           "colorbar": {
            "outlinewidth": 0,
            "ticks": ""
           }
          },
          "colorscale": {
           "diverging": [
            [
             0,
             "#8e0152"
            ],
            [
             0.1,
             "#c51b7d"
            ],
            [
             0.2,
             "#de77ae"
            ],
            [
             0.3,
             "#f1b6da"
            ],
            [
             0.4,
             "#fde0ef"
            ],
            [
             0.5,
             "#f7f7f7"
            ],
            [
             0.6,
             "#e6f5d0"
            ],
            [
             0.7,
             "#b8e186"
            ],
            [
             0.8,
             "#7fbc41"
            ],
            [
             0.9,
             "#4d9221"
            ],
            [
             1,
             "#276419"
            ]
           ],
           "sequential": [
            [
             0,
             "#0d0887"
            ],
            [
             0.1111111111111111,
             "#46039f"
            ],
            [
             0.2222222222222222,
             "#7201a8"
            ],
            [
             0.3333333333333333,
             "#9c179e"
            ],
            [
             0.4444444444444444,
             "#bd3786"
            ],
            [
             0.5555555555555556,
             "#d8576b"
            ],
            [
             0.6666666666666666,
             "#ed7953"
            ],
            [
             0.7777777777777778,
             "#fb9f3a"
            ],
            [
             0.8888888888888888,
             "#fdca26"
            ],
            [
             1,
             "#f0f921"
            ]
           ],
           "sequentialminus": [
            [
             0,
             "#0d0887"
            ],
            [
             0.1111111111111111,
             "#46039f"
            ],
            [
             0.2222222222222222,
             "#7201a8"
            ],
            [
             0.3333333333333333,
             "#9c179e"
            ],
            [
             0.4444444444444444,
             "#bd3786"
            ],
            [
             0.5555555555555556,
             "#d8576b"
            ],
            [
             0.6666666666666666,
             "#ed7953"
            ],
            [
             0.7777777777777778,
             "#fb9f3a"
            ],
            [
             0.8888888888888888,
             "#fdca26"
            ],
            [
             1,
             "#f0f921"
            ]
           ]
          },
          "colorway": [
           "#636efa",
           "#EF553B",
           "#00cc96",
           "#ab63fa",
           "#FFA15A",
           "#19d3f3",
           "#FF6692",
           "#B6E880",
           "#FF97FF",
           "#FECB52"
          ],
          "font": {
           "color": "#2a3f5f"
          },
          "geo": {
           "bgcolor": "white",
           "lakecolor": "white",
           "landcolor": "#E5ECF6",
           "showlakes": true,
           "showland": true,
           "subunitcolor": "white"
          },
          "hoverlabel": {
           "align": "left"
          },
          "hovermode": "closest",
          "mapbox": {
           "style": "light"
          },
          "paper_bgcolor": "white",
          "plot_bgcolor": "#E5ECF6",
          "polar": {
           "angularaxis": {
            "gridcolor": "white",
            "linecolor": "white",
            "ticks": ""
           },
           "bgcolor": "#E5ECF6",
           "radialaxis": {
            "gridcolor": "white",
            "linecolor": "white",
            "ticks": ""
           }
          },
          "scene": {
           "xaxis": {
            "backgroundcolor": "#E5ECF6",
            "gridcolor": "white",
            "gridwidth": 2,
            "linecolor": "white",
            "showbackground": true,
            "ticks": "",
            "zerolinecolor": "white"
           },
           "yaxis": {
            "backgroundcolor": "#E5ECF6",
            "gridcolor": "white",
            "gridwidth": 2,
            "linecolor": "white",
            "showbackground": true,
            "ticks": "",
            "zerolinecolor": "white"
           },
           "zaxis": {
            "backgroundcolor": "#E5ECF6",
            "gridcolor": "white",
            "gridwidth": 2,
            "linecolor": "white",
            "showbackground": true,
            "ticks": "",
            "zerolinecolor": "white"
           }
          },
          "shapedefaults": {
           "line": {
            "color": "#2a3f5f"
           }
          },
          "ternary": {
           "aaxis": {
            "gridcolor": "white",
            "linecolor": "white",
            "ticks": ""
           },
           "baxis": {
            "gridcolor": "white",
            "linecolor": "white",
            "ticks": ""
           },
           "bgcolor": "#E5ECF6",
           "caxis": {
            "gridcolor": "white",
            "linecolor": "white",
            "ticks": ""
           }
          },
          "title": {
           "x": 0.05
          },
          "xaxis": {
           "automargin": true,
           "gridcolor": "white",
           "linecolor": "white",
           "ticks": "",
           "title": {
            "standoff": 15
           },
           "zerolinecolor": "white",
           "zerolinewidth": 2
          },
          "yaxis": {
           "automargin": true,
           "gridcolor": "white",
           "linecolor": "white",
           "ticks": "",
           "title": {
            "standoff": 15
           },
           "zerolinecolor": "white",
           "zerolinewidth": 2
          }
         }
        },
        "title": {
         "text": "Hyperparameter Importances"
        },
        "xaxis": {
         "title": {
          "text": "Importance for Objective Value"
         }
        },
        "yaxis": {
         "title": {
          "text": "Hyperparameter"
         }
        }
       }
      },
      "text/html": [
       "<div>                            <div id=\"6b1f1d0a-32f9-4690-aefe-e532520680e3\" class=\"plotly-graph-div\" style=\"height:525px; width:100%;\"></div>            <script type=\"text/javascript\">                require([\"plotly\"], function(Plotly) {                    window.PLOTLYENV=window.PLOTLYENV || {};                                    if (document.getElementById(\"6b1f1d0a-32f9-4690-aefe-e532520680e3\")) {                    Plotly.newPlot(                        \"6b1f1d0a-32f9-4690-aefe-e532520680e3\",                        [{\"cliponaxis\":false,\"hovertemplate\":[\"iterations (IntUniformDistribution): 0.084592797978332<extra></extra>\",\"learning_rate (DiscreteUniformDistribution): 0.14669534107157967<extra></extra>\",\"depth (IntUniformDistribution): 0.7687118609500884<extra></extra>\"],\"marker\":{\"color\":\"rgb(66,146,198)\"},\"orientation\":\"h\",\"text\":[\"0.084592797978332\",\"0.14669534107157967\",\"0.7687118609500884\"],\"textposition\":\"outside\",\"texttemplate\":\"%{text:.2f}\",\"x\":[0.084592797978332,0.14669534107157967,0.7687118609500884],\"y\":[\"iterations\",\"learning_rate\",\"depth\"],\"type\":\"bar\"}],                        {\"showlegend\":false,\"title\":{\"text\":\"Hyperparameter Importances\"},\"xaxis\":{\"title\":{\"text\":\"Importance for Objective Value\"}},\"yaxis\":{\"title\":{\"text\":\"Hyperparameter\"}},\"template\":{\"data\":{\"bar\":[{\"error_x\":{\"color\":\"#2a3f5f\"},\"error_y\":{\"color\":\"#2a3f5f\"},\"marker\":{\"line\":{\"color\":\"#E5ECF6\",\"width\":0.5},\"pattern\":{\"fillmode\":\"overlay\",\"size\":10,\"solidity\":0.2}},\"type\":\"bar\"}],\"barpolar\":[{\"marker\":{\"line\":{\"color\":\"#E5ECF6\",\"width\":0.5},\"pattern\":{\"fillmode\":\"overlay\",\"size\":10,\"solidity\":0.2}},\"type\":\"barpolar\"}],\"carpet\":[{\"aaxis\":{\"endlinecolor\":\"#2a3f5f\",\"gridcolor\":\"white\",\"linecolor\":\"white\",\"minorgridcolor\":\"white\",\"startlinecolor\":\"#2a3f5f\"},\"baxis\":{\"endlinecolor\":\"#2a3f5f\",\"gridcolor\":\"white\",\"linecolor\":\"white\",\"minorgridcolor\":\"white\",\"startlinecolor\":\"#2a3f5f\"},\"type\":\"carpet\"}],\"choropleth\":[{\"colorbar\":{\"outlinewidth\":0,\"ticks\":\"\"},\"type\":\"choropleth\"}],\"contour\":[{\"colorbar\":{\"outlinewidth\":0,\"ticks\":\"\"},\"colorscale\":[[0.0,\"#0d0887\"],[0.1111111111111111,\"#46039f\"],[0.2222222222222222,\"#7201a8\"],[0.3333333333333333,\"#9c179e\"],[0.4444444444444444,\"#bd3786\"],[0.5555555555555556,\"#d8576b\"],[0.6666666666666666,\"#ed7953\"],[0.7777777777777778,\"#fb9f3a\"],[0.8888888888888888,\"#fdca26\"],[1.0,\"#f0f921\"]],\"type\":\"contour\"}],\"contourcarpet\":[{\"colorbar\":{\"outlinewidth\":0,\"ticks\":\"\"},\"type\":\"contourcarpet\"}],\"heatmap\":[{\"colorbar\":{\"outlinewidth\":0,\"ticks\":\"\"},\"colorscale\":[[0.0,\"#0d0887\"],[0.1111111111111111,\"#46039f\"],[0.2222222222222222,\"#7201a8\"],[0.3333333333333333,\"#9c179e\"],[0.4444444444444444,\"#bd3786\"],[0.5555555555555556,\"#d8576b\"],[0.6666666666666666,\"#ed7953\"],[0.7777777777777778,\"#fb9f3a\"],[0.8888888888888888,\"#fdca26\"],[1.0,\"#f0f921\"]],\"type\":\"heatmap\"}],\"heatmapgl\":[{\"colorbar\":{\"outlinewidth\":0,\"ticks\":\"\"},\"colorscale\":[[0.0,\"#0d0887\"],[0.1111111111111111,\"#46039f\"],[0.2222222222222222,\"#7201a8\"],[0.3333333333333333,\"#9c179e\"],[0.4444444444444444,\"#bd3786\"],[0.5555555555555556,\"#d8576b\"],[0.6666666666666666,\"#ed7953\"],[0.7777777777777778,\"#fb9f3a\"],[0.8888888888888888,\"#fdca26\"],[1.0,\"#f0f921\"]],\"type\":\"heatmapgl\"}],\"histogram\":[{\"marker\":{\"pattern\":{\"fillmode\":\"overlay\",\"size\":10,\"solidity\":0.2}},\"type\":\"histogram\"}],\"histogram2d\":[{\"colorbar\":{\"outlinewidth\":0,\"ticks\":\"\"},\"colorscale\":[[0.0,\"#0d0887\"],[0.1111111111111111,\"#46039f\"],[0.2222222222222222,\"#7201a8\"],[0.3333333333333333,\"#9c179e\"],[0.4444444444444444,\"#bd3786\"],[0.5555555555555556,\"#d8576b\"],[0.6666666666666666,\"#ed7953\"],[0.7777777777777778,\"#fb9f3a\"],[0.8888888888888888,\"#fdca26\"],[1.0,\"#f0f921\"]],\"type\":\"histogram2d\"}],\"histogram2dcontour\":[{\"colorbar\":{\"outlinewidth\":0,\"ticks\":\"\"},\"colorscale\":[[0.0,\"#0d0887\"],[0.1111111111111111,\"#46039f\"],[0.2222222222222222,\"#7201a8\"],[0.3333333333333333,\"#9c179e\"],[0.4444444444444444,\"#bd3786\"],[0.5555555555555556,\"#d8576b\"],[0.6666666666666666,\"#ed7953\"],[0.7777777777777778,\"#fb9f3a\"],[0.8888888888888888,\"#fdca26\"],[1.0,\"#f0f921\"]],\"type\":\"histogram2dcontour\"}],\"mesh3d\":[{\"colorbar\":{\"outlinewidth\":0,\"ticks\":\"\"},\"type\":\"mesh3d\"}],\"parcoords\":[{\"line\":{\"colorbar\":{\"outlinewidth\":0,\"ticks\":\"\"}},\"type\":\"parcoords\"}],\"pie\":[{\"automargin\":true,\"type\":\"pie\"}],\"scatter\":[{\"marker\":{\"colorbar\":{\"outlinewidth\":0,\"ticks\":\"\"}},\"type\":\"scatter\"}],\"scatter3d\":[{\"line\":{\"colorbar\":{\"outlinewidth\":0,\"ticks\":\"\"}},\"marker\":{\"colorbar\":{\"outlinewidth\":0,\"ticks\":\"\"}},\"type\":\"scatter3d\"}],\"scattercarpet\":[{\"marker\":{\"colorbar\":{\"outlinewidth\":0,\"ticks\":\"\"}},\"type\":\"scattercarpet\"}],\"scattergeo\":[{\"marker\":{\"colorbar\":{\"outlinewidth\":0,\"ticks\":\"\"}},\"type\":\"scattergeo\"}],\"scattergl\":[{\"marker\":{\"colorbar\":{\"outlinewidth\":0,\"ticks\":\"\"}},\"type\":\"scattergl\"}],\"scattermapbox\":[{\"marker\":{\"colorbar\":{\"outlinewidth\":0,\"ticks\":\"\"}},\"type\":\"scattermapbox\"}],\"scatterpolar\":[{\"marker\":{\"colorbar\":{\"outlinewidth\":0,\"ticks\":\"\"}},\"type\":\"scatterpolar\"}],\"scatterpolargl\":[{\"marker\":{\"colorbar\":{\"outlinewidth\":0,\"ticks\":\"\"}},\"type\":\"scatterpolargl\"}],\"scatterternary\":[{\"marker\":{\"colorbar\":{\"outlinewidth\":0,\"ticks\":\"\"}},\"type\":\"scatterternary\"}],\"surface\":[{\"colorbar\":{\"outlinewidth\":0,\"ticks\":\"\"},\"colorscale\":[[0.0,\"#0d0887\"],[0.1111111111111111,\"#46039f\"],[0.2222222222222222,\"#7201a8\"],[0.3333333333333333,\"#9c179e\"],[0.4444444444444444,\"#bd3786\"],[0.5555555555555556,\"#d8576b\"],[0.6666666666666666,\"#ed7953\"],[0.7777777777777778,\"#fb9f3a\"],[0.8888888888888888,\"#fdca26\"],[1.0,\"#f0f921\"]],\"type\":\"surface\"}],\"table\":[{\"cells\":{\"fill\":{\"color\":\"#EBF0F8\"},\"line\":{\"color\":\"white\"}},\"header\":{\"fill\":{\"color\":\"#C8D4E3\"},\"line\":{\"color\":\"white\"}},\"type\":\"table\"}]},\"layout\":{\"annotationdefaults\":{\"arrowcolor\":\"#2a3f5f\",\"arrowhead\":0,\"arrowwidth\":1},\"autotypenumbers\":\"strict\",\"coloraxis\":{\"colorbar\":{\"outlinewidth\":0,\"ticks\":\"\"}},\"colorscale\":{\"diverging\":[[0,\"#8e0152\"],[0.1,\"#c51b7d\"],[0.2,\"#de77ae\"],[0.3,\"#f1b6da\"],[0.4,\"#fde0ef\"],[0.5,\"#f7f7f7\"],[0.6,\"#e6f5d0\"],[0.7,\"#b8e186\"],[0.8,\"#7fbc41\"],[0.9,\"#4d9221\"],[1,\"#276419\"]],\"sequential\":[[0.0,\"#0d0887\"],[0.1111111111111111,\"#46039f\"],[0.2222222222222222,\"#7201a8\"],[0.3333333333333333,\"#9c179e\"],[0.4444444444444444,\"#bd3786\"],[0.5555555555555556,\"#d8576b\"],[0.6666666666666666,\"#ed7953\"],[0.7777777777777778,\"#fb9f3a\"],[0.8888888888888888,\"#fdca26\"],[1.0,\"#f0f921\"]],\"sequentialminus\":[[0.0,\"#0d0887\"],[0.1111111111111111,\"#46039f\"],[0.2222222222222222,\"#7201a8\"],[0.3333333333333333,\"#9c179e\"],[0.4444444444444444,\"#bd3786\"],[0.5555555555555556,\"#d8576b\"],[0.6666666666666666,\"#ed7953\"],[0.7777777777777778,\"#fb9f3a\"],[0.8888888888888888,\"#fdca26\"],[1.0,\"#f0f921\"]]},\"colorway\":[\"#636efa\",\"#EF553B\",\"#00cc96\",\"#ab63fa\",\"#FFA15A\",\"#19d3f3\",\"#FF6692\",\"#B6E880\",\"#FF97FF\",\"#FECB52\"],\"font\":{\"color\":\"#2a3f5f\"},\"geo\":{\"bgcolor\":\"white\",\"lakecolor\":\"white\",\"landcolor\":\"#E5ECF6\",\"showlakes\":true,\"showland\":true,\"subunitcolor\":\"white\"},\"hoverlabel\":{\"align\":\"left\"},\"hovermode\":\"closest\",\"mapbox\":{\"style\":\"light\"},\"paper_bgcolor\":\"white\",\"plot_bgcolor\":\"#E5ECF6\",\"polar\":{\"angularaxis\":{\"gridcolor\":\"white\",\"linecolor\":\"white\",\"ticks\":\"\"},\"bgcolor\":\"#E5ECF6\",\"radialaxis\":{\"gridcolor\":\"white\",\"linecolor\":\"white\",\"ticks\":\"\"}},\"scene\":{\"xaxis\":{\"backgroundcolor\":\"#E5ECF6\",\"gridcolor\":\"white\",\"gridwidth\":2,\"linecolor\":\"white\",\"showbackground\":true,\"ticks\":\"\",\"zerolinecolor\":\"white\"},\"yaxis\":{\"backgroundcolor\":\"#E5ECF6\",\"gridcolor\":\"white\",\"gridwidth\":2,\"linecolor\":\"white\",\"showbackground\":true,\"ticks\":\"\",\"zerolinecolor\":\"white\"},\"zaxis\":{\"backgroundcolor\":\"#E5ECF6\",\"gridcolor\":\"white\",\"gridwidth\":2,\"linecolor\":\"white\",\"showbackground\":true,\"ticks\":\"\",\"zerolinecolor\":\"white\"}},\"shapedefaults\":{\"line\":{\"color\":\"#2a3f5f\"}},\"ternary\":{\"aaxis\":{\"gridcolor\":\"white\",\"linecolor\":\"white\",\"ticks\":\"\"},\"baxis\":{\"gridcolor\":\"white\",\"linecolor\":\"white\",\"ticks\":\"\"},\"bgcolor\":\"#E5ECF6\",\"caxis\":{\"gridcolor\":\"white\",\"linecolor\":\"white\",\"ticks\":\"\"}},\"title\":{\"x\":0.05},\"xaxis\":{\"automargin\":true,\"gridcolor\":\"white\",\"linecolor\":\"white\",\"ticks\":\"\",\"title\":{\"standoff\":15},\"zerolinecolor\":\"white\",\"zerolinewidth\":2},\"yaxis\":{\"automargin\":true,\"gridcolor\":\"white\",\"linecolor\":\"white\",\"ticks\":\"\",\"title\":{\"standoff\":15},\"zerolinecolor\":\"white\",\"zerolinewidth\":2}}}},                        {\"responsive\": true}                    ).then(function(){\n",
       "                            \n",
       "var gd = document.getElementById('6b1f1d0a-32f9-4690-aefe-e532520680e3');\n",
       "var x = new MutationObserver(function (mutations, observer) {{\n",
       "        var display = window.getComputedStyle(gd).display;\n",
       "        if (!display || display === 'none') {{\n",
       "            console.log([gd, 'removed!']);\n",
       "            Plotly.purge(gd);\n",
       "            observer.disconnect();\n",
       "        }}\n",
       "}});\n",
       "\n",
       "// Listen for the removal of the full notebook cells\n",
       "var notebookContainer = gd.closest('#notebook-container');\n",
       "if (notebookContainer) {{\n",
       "    x.observe(notebookContainer, {childList: true});\n",
       "}}\n",
       "\n",
       "// Listen for the clearing of the current output cell\n",
       "var outputEl = gd.closest('.output');\n",
       "if (outputEl) {{\n",
       "    x.observe(outputEl, {childList: true});\n",
       "}}\n",
       "\n",
       "                        })                };                });            </script>        </div>"
      ]
     },
     "metadata": {},
     "output_type": "display_data"
    }
   ],
   "source": [
    "optuna.visualization.plot_param_importances(study)"
   ]
  },
  {
   "cell_type": "code",
   "execution_count": 202,
   "id": "52d80eca",
   "metadata": {},
   "outputs": [],
   "source": [
    "ocbr = CatBoostRegressor(learning_rate=study.best_params['learning_rate'],\n",
    "                                        depth=study.best_params['depth'],\n",
    "                                        #l2_leaf_reg=study.best_params['l2_leaf_reg'],\n",
    "                                        #min_child_samples=study.best_params['min_child_samples'],\n",
    "                                        grow_policy='Depthwise',\n",
    "                                        iterations=study.best_params['iterations'],\n",
    "                                        use_best_model=True,\n",
    "                                        eval_metric='MSLE',\n",
    "                                        od_type='iter',\n",
    "                                        od_wait=20,\n",
    "                                        random_state=RANDOM_SEED,\n",
    "                                        logging_level='Silent')"
   ]
  },
  {
   "cell_type": "code",
   "execution_count": 203,
   "id": "78fa87c7",
   "metadata": {},
   "outputs": [
    {
     "data": {
      "text/plain": [
       "<catboost.core.CatBoostRegressor at 0x7febb9552670>"
      ]
     },
     "execution_count": 203,
     "metadata": {},
     "output_type": "execute_result"
    }
   ],
   "source": [
    "ocbr.fit(xtrain.copy(), ytrain.copy(),\n",
    "                        eval_set=[(xeval.copy(), yeval.copy())],\n",
    "                        early_stopping_rounds=EARLY_STOPPING_ROUND)"
   ]
  },
  {
   "cell_type": "code",
   "execution_count": 204,
   "id": "6600acd4",
   "metadata": {},
   "outputs": [],
   "source": [
    "testresult = np.expm1(ocbr.predict(scaledtest))"
   ]
  },
  {
   "cell_type": "code",
   "execution_count": 205,
   "id": "2721f5b4",
   "metadata": {},
   "outputs": [],
   "source": [
    "t = pd.concat([test, pd.DataFrame(testresult)], axis=1)"
   ]
  },
  {
   "cell_type": "code",
   "execution_count": 206,
   "id": "865745a8",
   "metadata": {},
   "outputs": [],
   "source": [
    "t.rename(columns={0:'SalePrice'}, inplace=True)"
   ]
  },
  {
   "cell_type": "code",
   "execution_count": 207,
   "id": "338e846f",
   "metadata": {},
   "outputs": [],
   "source": [
    "t[['Id', 'SalePrice']].to_csv('submission.csv', sep=',', index=False)"
   ]
  },
  {
   "cell_type": "code",
   "execution_count": 208,
   "id": "3587356f",
   "metadata": {},
   "outputs": [
    {
     "data": {
      "text/plain": [
       "array([122859.51760635, 152683.12258143, 188249.37704531, ...,\n",
       "       156211.27611993, 121462.16740873, 204592.67434858])"
      ]
     },
     "execution_count": 208,
     "metadata": {},
     "output_type": "execute_result"
    }
   ],
   "source": [
    "testresult"
   ]
  }
 ],
 "metadata": {
  "kernelspec": {
   "display_name": "Python 3 (ipykernel)",
   "language": "python",
   "name": "python3"
  },
  "language_info": {
   "codemirror_mode": {
    "name": "ipython",
    "version": 3
   },
   "file_extension": ".py",
   "mimetype": "text/x-python",
   "name": "python",
   "nbconvert_exporter": "python",
   "pygments_lexer": "ipython3",
   "version": "3.9.7"
  }
 },
 "nbformat": 4,
 "nbformat_minor": 5
}

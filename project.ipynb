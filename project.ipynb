{
 "cells": [
  {
   "cell_type": "markdown",
   "id": "a8ad482e-72d1-489a-8e3a-4addd8c5534a",
   "metadata": {},
   "source": [
    "# Проект: предсказание цен на недвижимость"
   ]
  },
  {
   "cell_type": "markdown",
   "id": "7dc31333-8e6d-4349-bf5c-9167d41445c9",
   "metadata": {},
   "source": [
    "Тебе предстоит спрогнозировать цены на дома, загрузить результаты на сайт [kaggle](https://kaggle.com) и получить автоматическую оценку качества твоих предсказаний! \n",
    "\n",
    "Придерживайся следующего плана: \n",
    "\n",
    "1. Загрузи три файла: обучающую и тестовую части выборки, а также файл `submission.csv` - это шаблон для твоих ответов. \n",
    "2. Сделай базовую визуализацию: распределение цен на дома, распределение числа домов по разным признакам: год постройки, ремонта и пр. \n",
    "3. Запиши таргет в отдельную переменную и удали его из обучающей части выборки. \n",
    "4. Объедини обучающую и тестовую выборку в единый датафрейм. \n",
    "5. Произведи предобработку данных:\n",
    "    - удали/заполни пропуски\n",
    "    - подумай, что сделать с категориальными переменными (**обязательно** изучи все признаки и их описания [тут](https://www.kaggle.com/c/house-prices-advanced-regression-techniques/data))\n",
    "6. Построй baseline модель: возьми самый простой алгоритм, сделай предсказания и запиши результат в `submission.csv`\n",
    "7. Раздели обучающую и тестовую части выборки обратно (для этого нужно использовать длину массива таргета.\n",
    "8. Загрузи результат на [kaggle](https://www.kaggle.com/c/house-prices-advanced-regression-techniques/submit)\n",
    "9. Полученный на шаге 7 результат необходимо максимально улучшить! Помни, что число попыток на `kaggle` ограничено. \n",
    "\n",
    "В процессе работы комментируй результаты и делай разделы в ноутбуке с помощью `markdown`. Это поможет выдерживать структуру файла и не запутаться. \n",
    "\n",
    "Дополнительно: \n",
    "\n",
    "* посмотри, какая метрика используется в [соревновании](https://www.kaggle.com/c/house-prices-advanced-regression-techniques/overview/evaluation) и реализуй функцию, которая будет оценивать качество модели локально"
   ]
  },
  {
   "cell_type": "code",
   "execution_count": 1,
   "id": "83bebbf3-38c9-45f7-8c18-49b3cb490e0f",
   "metadata": {},
   "outputs": [],
   "source": [
    "import pandas as pd\n",
    "import numpy as np\n"
   ]
  },
  {
   "cell_type": "code",
   "execution_count": null,
   "id": "f2602258-c892-459c-aaec-b96be3050664",
   "metadata": {},
   "outputs": [],
   "source": []
  }
 ],
 "metadata": {
  "kernelspec": {
   "display_name": "Python 3 (ipykernel)",
   "language": "python",
   "name": "python3"
  },
  "language_info": {
   "codemirror_mode": {
    "name": "ipython",
    "version": 3
   },
   "file_extension": ".py",
   "mimetype": "text/x-python",
   "name": "python",
   "nbconvert_exporter": "python",
   "pygments_lexer": "ipython3",
   "version": "3.9.7"
  }
 },
 "nbformat": 4,
 "nbformat_minor": 5
}
